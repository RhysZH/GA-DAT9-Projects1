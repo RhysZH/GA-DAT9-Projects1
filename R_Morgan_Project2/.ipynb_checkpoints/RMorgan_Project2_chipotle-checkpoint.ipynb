{
 "cells": [
  {
   "cell_type": "markdown",
   "metadata": {},
   "source": [
    "<img src=\"http://imgur.com/1ZcRyrc.png\" style=\"float: left; margin: 20px; height: 55px\">\n",
    "\n",
    "# Project 2: Analyzing Chipotle Data\n",
    "\n",
    "_Author: Joseph Nelson (DC)_\n",
    "\n",
    "---"
   ]
  },
  {
   "cell_type": "markdown",
   "metadata": {},
   "source": [
    "For Project 2, you will complete a series of exercises exploring [order data from Chipotle](https://github.com/TheUpshot/chipotle), compliments of _The New York Times'_ \"The Upshot.\"\n",
    "\n",
    "For these exercises, you will conduct basic exploratory data analysis (Pandas not required) to understand the essentials of Chipotle's order data: how many orders are being made, the average price per order, how many different ingredients are used, etc. These allow you to practice business analysis skills while also becoming comfortable with Python."
   ]
  },
  {
   "cell_type": "markdown",
   "metadata": {},
   "source": [
    "---\n",
    "\n",
    "## Basic Level"
   ]
  },
  {
   "cell_type": "markdown",
   "metadata": {},
   "source": [
    "### Part 1: Read in the file with `csv.reader()` and store it in an object called `file_nested_list`.\n",
    "\n",
    "Hint: This is a TSV (tab-separated value) file, and `csv.reader()` needs to be told [how to handle it](https://docs.python.org/2/library/csv.html)."
   ]
  },
  {
   "cell_type": "code",
   "execution_count": 1,
   "metadata": {},
   "outputs": [],
   "source": [
    "import csv\n",
    "from collections import namedtuple   # Convenient to store the data rows\n",
    "\n",
    "DATA_FILE = './data/chipotle.tsv'\n"
   ]
  },
  {
   "cell_type": "code",
   "execution_count": 2,
   "metadata": {},
   "outputs": [
    {
     "data": {
      "text/plain": [
       "[['order_id', 'quantity', 'item_name', 'choice_description', 'item_price'],\n",
       " ['1', '1', 'Chips and Fresh Tomato Salsa', 'NULL', '$2.39 '],\n",
       " ['1', '1', 'Izze', '[Clementine]', '$3.39 '],\n",
       " ['1', '1', 'Nantucket Nectar', '[Apple]', '$3.39 '],\n",
       " ['1', '1', 'Chips and Tomatillo-Green Chili Salsa', 'NULL', '$2.39 ']]"
      ]
     },
     "execution_count": 2,
     "metadata": {},
     "output_type": "execute_result"
    }
   ],
   "source": [
    "with open(DATA_FILE) as tabfile:\n",
    "    read_file = csv.reader(tabfile, delimiter=\"\\t\")\n",
    "    file_nested_list = list(read_file)\n",
    "file_nested_list[:5]"
   ]
  },
  {
   "cell_type": "markdown",
   "metadata": {},
   "source": [
    "1- assigned DATA_FILE as a csv file, indicating that elements are separated with a tab.\n",
    "2- converted csv file into a list of lists, with each sublist being a row of data. "
   ]
  },
  {
   "cell_type": "markdown",
   "metadata": {},
   "source": [
    "### Part 2: Separate `file_nested_list` into the `header` and the `data`.\n"
   ]
  },
  {
   "cell_type": "code",
   "execution_count": 3,
   "metadata": {},
   "outputs": [],
   "source": [
    "#Identified header and data of file_nested_list\n",
    "header = file_nested_list[0]\n",
    "data = file_nested_list[1:]"
   ]
  },
  {
   "cell_type": "markdown",
   "metadata": {},
   "source": [
    "Separated list into header and data via element index"
   ]
  },
  {
   "cell_type": "markdown",
   "metadata": {},
   "source": [
    "##### Below is extra data preparation for analysis and remaining questions"
   ]
  },
  {
   "cell_type": "code",
   "execution_count": 4,
   "metadata": {
    "scrolled": false
   },
   "outputs": [
    {
     "data": {
      "text/plain": [
       "0\n",
       "order_id                int64\n",
       "quantity                int64\n",
       "item_name              object\n",
       "choice_description     object\n",
       "item_price            float64\n",
       "dtype: object"
      ]
     },
     "execution_count": 4,
     "metadata": {},
     "output_type": "execute_result"
    }
   ],
   "source": [
    "#data preparation for analysis \n",
    "#1. convert to dataframe, set first row as column names, then delete first row from data.\n",
    "#2. remove '$' from item_price\n",
    "#3. convert order_id, quantity and item_price to numeric\n",
    "import pandas as pd\n",
    "dl = pd.DataFrame(file_nested_list)\n",
    "dl.columns = dl.iloc[0]\n",
    "df = dl.drop(dl.index[0])\n",
    "df['item_price'].replace({'\\$':''}, inplace = True, regex=True)\n",
    "df[\"quantity\"] = df.quantity.astype(int, inplace = True)\n",
    "df[\"order_id\"] = df.order_id.astype(int, inplace = True)\n",
    "df['item_price'] = df.item_price.astype(float, inplace = True)\n",
    "df.dtypes\n"
   ]
  },
  {
   "cell_type": "markdown",
   "metadata": {},
   "source": [
    "For the rest of the questions, I converted file_nested_list into a DataFrame 'dl', then performed the following cleaning steps:\n",
    "\n",
    "1. defined the column names of 'dl' as being the first row (index 0) in the DataFrame, then removed this row and assigned 'df' to the new DataFrame\n",
    "2. removed '$' sign from the item_price column, to facilitate changing of column data type\n",
    "3. Converted order_id, quantity and item_price to numeric type, so that we can filter according to numeric conditions.\n"
   ]
  },
  {
   "cell_type": "markdown",
   "metadata": {},
   "source": [
    "---\n",
    "\n",
    "## Intermediate Level"
   ]
  },
  {
   "cell_type": "markdown",
   "metadata": {},
   "source": [
    "### Part 3: Calculate the average price of an order.\n",
    "\n",
    "Hint: Examine the data to see if the `quantity` column is relevant to this calculation.\n",
    "\n",
    "Hint: Think carefully about the simplest way to do this!"
   ]
  },
  {
   "cell_type": "code",
   "execution_count": 5,
   "metadata": {
    "scrolled": true
   },
   "outputs": [
    {
     "name": "stdout",
     "output_type": "stream",
     "text": [
      "0  order_id  quantity      item_name choice_description  item_price\n",
      "7         3         1  Side of Chips               NULL        1.69\n",
      "0     order_id  quantity      item_name choice_description  item_price\n",
      "2945      1170         3  Side of Chips               NULL        5.07\n",
      "3888      1559         8  Side of Chips               NULL       13.52\n",
      "1.69\n"
     ]
    }
   ],
   "source": [
    "#Check that item_price takes quantity into account\n",
    "df_chips = df.loc[df['item_name'] == 'Side of Chips']\n",
    "print(df_chips.loc[df_chips['order_id'] == 3])\n",
    "print(df_chips.loc[df_chips['quantity'] > 1])\n",
    "print(13.52/8)"
   ]
  },
  {
   "cell_type": "markdown",
   "metadata": {},
   "source": [
    "In the above code, we ascertain that item_prices already pre-suppose quantity. Columns with item_name 'Side of Chips' are returned with varying quantities. It is straightforward to calculate that item price takes quantity into account (13.52 / 1.69 = 8)"
   ]
  },
  {
   "cell_type": "code",
   "execution_count": 6,
   "metadata": {},
   "outputs": [
    {
     "name": "stdout",
     "output_type": "stream",
     "text": [
      "['1834', '1', 'Chicken Salad Bowl', '[Fresh Tomato Salsa, [Fajita Vegetables, Pinto Beans, Lettuce]]', '$8.75 ']\n"
     ]
    },
    {
     "data": {
      "text/plain": [
       "(1834, 2)"
      ]
     },
     "execution_count": 6,
     "metadata": {},
     "output_type": "execute_result"
    }
   ],
   "source": [
    "# ii. Group numerical columns by 'order_id', with corresponding 'item_price' column, \n",
    "#     containing the sum of all item_prices with same order_id value.\n",
    "# iii. calculate mean 'item_price' of 'order_id's, rounded to 2 decimal places.\n",
    "dp = df.groupby('order_id').sum()\n",
    "#check dp has same number of rows as orders (max order_ID no. is 1834)\n",
    "print(file_nested_list[-1])\n",
    "dp.shape"
   ]
  },
  {
   "cell_type": "code",
   "execution_count": 7,
   "metadata": {},
   "outputs": [
    {
     "name": "stdout",
     "output_type": "stream",
     "text": [
      "Average price of an order is $ 18.81\n"
     ]
    }
   ],
   "source": [
    "d_avg = round(dp['item_price'].mean(),2)\n",
    "print('Average price of an order is $',d_avg)"
   ]
  },
  {
   "cell_type": "markdown",
   "metadata": {},
   "source": [
    "1. Grouped numerical columns by 'order_id', with corresponding numerical columns containing the sum of all values with the same order_id number. This will give us the total item_price for each order.\n",
    "\n",
    "\n",
    "2. As the dataset now contains the same number of rows as orders, we then calculate the mean on 'item_price', rounded to 2 decimal places. This gives us average item_price per order."
   ]
  },
  {
   "cell_type": "markdown",
   "metadata": {},
   "source": [
    "### Part 4: Create a list (or set) named `unique_sodas` containing all of unique sodas and soft drinks that Chipotle sells.\n",
    "\n",
    "Note: Just look for `'Canned Soda'` and `'Canned Soft Drink'`, and ignore other drinks like `'Izze'`."
   ]
  },
  {
   "cell_type": "code",
   "execution_count": 8,
   "metadata": {
    "scrolled": true
   },
   "outputs": [
    {
     "name": "stdout",
     "output_type": "stream",
     "text": [
      "['[Coke]', '[Diet Coke]', '[Coca Cola]', '[Mountain Dew]', '[Sprite]', '[Dr. Pepper]', '[Nestea]', '[Lemonade]', '[Diet Dr. Pepper]']\n"
     ]
    }
   ],
   "source": [
    "d_sodas = df[(df.item_name == 'Canned Soft Drink')|(df.item_name == 'Canned Soda')]\n",
    "unique_sodas = set(d_sodas['choice_description'])\n",
    "print(list(unique_sodas))"
   ]
  },
  {
   "cell_type": "markdown",
   "metadata": {},
   "source": [
    "1. Filter df to only include rows where item_name matches 'Canned Soft Drink' or 'Canned Soda'. This filter is assigned to 'dz'\n",
    "\n",
    "\n",
    "2. Create a set containing only elements in 'choice_description' of resulting filter. Creating as a set removes duplicates, leaving us with a list of all soft drinks that Chipotle sells."
   ]
  },
  {
   "cell_type": "markdown",
   "metadata": {},
   "source": [
    "---\n",
    "\n",
    "## Advanced Level\n"
   ]
  },
  {
   "cell_type": "markdown",
   "metadata": {},
   "source": [
    "### Part 5: Calculate the average number of toppings per burrito.\n",
    "\n",
    "Note: Let's ignore the `quantity` column to simplify this task.\n",
    "\n",
    "Hint: Think carefully about the easiest way to count the number of toppings!\n"
   ]
  },
  {
   "cell_type": "code",
   "execution_count": 9,
   "metadata": {},
   "outputs": [
    {
     "name": "stdout",
     "output_type": "stream",
     "text": [
      "Average number of toppings per burrito is 5\n"
     ]
    }
   ],
   "source": [
    "df_burrito = df[df['item_name'].str.contains(\"Burrito\")]\n",
    "topping_list = df_burrito.choice_description.tolist()\n",
    "toppings_per_burrito = []\n",
    "#split each value in topping_list by ',', with each segment becoming an element in another list. \n",
    "#The length of each new list is the number of toppings on each burrito\n",
    "#As this is all we need, we then stored the length of each list in no_of_toppings\n",
    "for i in topping_list:\n",
    "    toppings_per_burrito.append(len(i.split(\",\")))\n",
    "    #no. of toppings is discrete, so we make it an integer before averaging all list elements\n",
    "average_toppings = int(sum(toppings_per_burrito)/len(toppings_per_burrito))\n",
    "print('Average number of toppings per burrito is', average_toppings)"
   ]
  },
  {
   "cell_type": "markdown",
   "metadata": {},
   "source": [
    "1. filter df to only include rows with item_name containing 'burrito'. This accounts for burrito variations.\n",
    "\n",
    "\n",
    "2. convert the choice_description column into a standalone list 'topping_list', splitting elements by ',' due to so elements being stored in sublists within the choice_desciption column. We then create another empty list 'toppings_per_burrito' to store topping counts.\n",
    "\n",
    "\n",
    "3. 'topping_list' is a list of lists (sublists). Each element within a sublist contains a topping (string), therefore the length of each sublist is the number of toppings on an individual burrito. We loop through each element and append the length of each sublist to toppings_per_burrito list. \n",
    "\n",
    "\n",
    "4. To get the average number of toppings per burrito, we divide the sum of all elements in toppings_per_burrito (total number of toppings across all burritos) by the length of toppings_per_burrito (number of burritos).\n",
    "\n",
    "> Note: As the number of toppings is discrete, we convert the average into an integer, which rounds it down. We can miss out this step for the true average."
   ]
  },
  {
   "cell_type": "markdown",
   "metadata": {},
   "source": [
    "### Part 6: Create a dictionary. Let the keys represent chip orders and the values represent the total number of orders.\n",
    "\n",
    "Expected output: `{'Chips and Roasted Chili-Corn Salsa': 18, ... }`\n",
    "\n",
    "Note: Please take the `quantity` column into account!\n",
    "\n",
    "Optional: Learn how to use `.defaultdict()` to simplify your code."
   ]
  },
  {
   "cell_type": "code",
   "execution_count": 10,
   "metadata": {
    "scrolled": true
   },
   "outputs": [
    {
     "data": {
      "text/plain": [
       "<matplotlib.axes._subplots.AxesSubplot at 0x115f93828>"
      ]
     },
     "execution_count": 10,
     "metadata": {},
     "output_type": "execute_result"
    },
    {
     "data": {
      "image/png": "[encoded data removed]",
      "text/plain": [
       "<Figure size 432x288 with 1 Axes>"
      ]
     },
     "metadata": {},
     "output_type": "display_data"
    }
   ],
   "source": [
    "import matplotlib as plt\n",
    "%matplotlib inline\n",
    "\n",
    "d_chipstest= df.loc[df['item_name'].str.contains('Chips')]\n",
    "bar_chip = d_chipstest['item_name'].value_counts()\n",
    "bar_chip.plot.bar(x = 'item_name')"
   ]
  },
  {
   "cell_type": "markdown",
   "metadata": {},
   "source": [
    "A quick check of value counts of all chip orders shows that some like-orders are counted seperately due to hyphens, likely due to errors in initial item entry in system setup. Logically, we can assume that the same item was ordered. In order to get the true number of orders of each chip order, we must make all like-orders uniform by removing hyphens. "
   ]
  },
  {
   "cell_type": "code",
   "execution_count": 11,
   "metadata": {},
   "outputs": [
    {
     "name": "stdout",
     "output_type": "stream",
     "text": [
      "{'Chips': 230, 'Chips and Fresh Tomato Salsa': 130, 'Chips and Guacamole': 506, 'Chips and Mild Fresh Tomato Salsa': 1, 'Chips and Roasted Chili Corn Salsa': 41, 'Chips and Tomatillo Green Chili Salsa': 78, 'Chips and Tomatillo Red Chili Salsa': 75, 'Side of Chips': 110}\n"
     ]
    }
   ],
   "source": [
    "import numpy as np\n",
    "\n",
    "df['item_name'].replace({'-':' '}, inplace=True, regex=True)\n",
    "dchips = df[df['item_name'].str.contains(\"Chip\")]\n",
    "\n",
    "#Remove'-' in item_name to avoid duplicates when pivoted\n",
    "pivot_chips = pd.pivot_table(dchips, values='quantity', index=['item_name'], aggfunc=np.sum)\n",
    "\n",
    "#reset pivot table index to gain access to item_name column\n",
    "reset_chips = pivot_chips.reset_index()\n",
    "dict_chips = dict(zip(reset_chips.item_name,reset_chips.quantity))\n",
    "print(dict_chips)"
   ]
  },
  {
   "cell_type": "markdown",
   "metadata": {},
   "source": [
    "1. As per above, remove hyphens in 'item-name' column.\n",
    "2. filter 'df' for all rows with 'item_name' containing 'Chips'. This gives us all Chip orders.\n",
    "3. Create a pivot table that shows all unique values of 'item-name ' (in this case, strings containing chip orders), grouped by total of values in the quantity column. This gives us the total number of orders for each chip order. \n",
    "4. We then reset the index levels of the pivot table, so that we can gain access to the item_name column.\n",
    "5. Create a dictionary from the reset pivot table, with 'item_name' column values as keys and those in 'quantity' as values. We use zip() to match same-row values from 'item_name' and 'quantity' columns as keys and values."
   ]
  },
  {
   "cell_type": "markdown",
   "metadata": {},
   "source": [
    "## Bonus: Craft a problem statement about this data that interests you, and then answer it!\n"
   ]
  },
  {
   "cell_type": "markdown",
   "metadata": {},
   "source": [
    "### Problem - find number of orders for any given item "
   ]
  },
  {
   "cell_type": "code",
   "execution_count": 12,
   "metadata": {},
   "outputs": [
    {
     "name": "stdout",
     "output_type": "stream",
     "text": [
      "0            item_name  quantity\n",
      "0  barbacoa salad bowl        10\n",
      "1       carnitas salad         1\n",
      "2  carnitas salad bowl         6\n",
      "3        chicken salad         9\n",
      "4   chicken salad bowl       123\n",
      "5                salad         2\n",
      "6          steak salad         4\n",
      "7     steak salad bowl        31\n",
      "8         veggie salad         6\n",
      "9    veggie salad bowl        18\n"
     ]
    }
   ],
   "source": [
    "import numpy as np\n",
    "def get_orders(food):\n",
    "    food_low = food.lower()\n",
    "    df['item_name'] = df['item_name'].str.lower()\n",
    "    df['item_name'].replace({'-':' '}, inplace=True, regex=True)\n",
    "    d_order = df[df['item_name'].str.contains(food_low)]\n",
    "    #Remove'-' in item_name to avoid duplicates when pivoted\n",
    "    pivot_orders = pd.pivot_table(d_order, values='quantity', index=['item_name'], aggfunc=np.sum)\n",
    "    #reset pivot table index to gain access to item_name column\n",
    "    reset_pivot = pivot_orders.reset_index()\n",
    "    print(reset_pivot)\n",
    "    \n",
    "get_orders('salad')"
   ]
  },
  {
   "cell_type": "markdown",
   "metadata": {},
   "source": [
    "1. Similar to problem 6, though the code has been re-worked into a function that takes any string and returns counts of all orders containing that string.\n",
    "2. In this case, the pivot table itself is sufficient to display findings. The function is case-insensitive, as the initial argument is converted to lower case and compared to all lower-case 'item_name' values."
   ]
  },
  {
   "cell_type": "markdown",
   "metadata": {},
   "source": [
    "### Problem - What is our top-grossing item?"
   ]
  },
  {
   "cell_type": "code",
   "execution_count": 13,
   "metadata": {
    "scrolled": true
   },
   "outputs": [
    {
     "name": "stdout",
     "output_type": "stream",
     "text": [
      "Chipotle's top-grossing item is the chicken bowl\n"
     ]
    }
   ],
   "source": [
    "pivot_items = pd.pivot_table(df, values='item_price', index=['item_name'], aggfunc=np.sum)\n",
    "reset_items = pivot_items.reset_index()\n",
    "top_grossers = reset_items.iloc[reset_items['item_price'].idxmax()]\n",
    "print('Chipotle\\'s top-grossing item is the', top_grossers['item_name'])"
   ]
  },
  {
   "cell_type": "markdown",
   "metadata": {},
   "source": [
    "1. Finding the top selling item involves pivoting df by item name, with summed item prices for each unique item_name. We've already removed hyphens in Problem 6 with 'inplace = True', so we need not repeat that step here.\n",
    "\n",
    "\n",
    "2. As before, we reset the index to gain access to item-names. We then find the row (or rows, as may be the case) that contain the highest total value in item_price. This is our top-grossing item.\n",
    "\n",
    "\n",
    "3. We then print the item name in our top-grossing row in a statement of findings."
   ]
  }
 ],
 "metadata": {
  "anaconda-cloud": {},
  "kernelspec": {
   "display_name": "Python 3",
   "language": "python",
   "name": "python3"
  },
  "language_info": {
   "codemirror_mode": {
    "name": "ipython",
    "version": 3
   },
   "file_extension": ".py",
   "mimetype": "text/x-python",
   "name": "python",
   "nbconvert_exporter": "python",
   "pygments_lexer": "ipython3",
   "version": "3.6.5"
  }
 },
 "nbformat": 4,
 "nbformat_minor": 2
}
