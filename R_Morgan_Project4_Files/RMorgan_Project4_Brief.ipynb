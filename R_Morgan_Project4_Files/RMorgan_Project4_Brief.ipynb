{
 "cells": [
  {
   "cell_type": "markdown",
   "metadata": {},
   "source": [
    "### Problem Statement: Predict if opportunity is won or lost, and what factors affect winning the opportunity the most\n",
    "\n",
    "Ho – Opportunity is lost\n",
    "\n",
    "Ha – Opportunity isn’t lost\n",
    "\n",
    "Limitations – factors that affect deals being closed may not be included in the data set, though the data has been included in Watson Analytics\n",
    "\n",
    "Data\n",
    "https://www.ibm.com/communities/analytics/watson-analytics-blog/guide-to-sample-datasets/ \n",
    "\n",
    "Data is under WA_Fn_UseC_Sales Win_Loss.csv\n"
   ]
  },
  {
   "cell_type": "code",
   "execution_count": null,
   "metadata": {},
   "outputs": [],
   "source": []
  }
 ],
 "metadata": {
  "kernelspec": {
   "display_name": "Python 3",
   "language": "python",
   "name": "python3"
  },
  "language_info": {
   "codemirror_mode": {
    "name": "ipython",
    "version": 3
   },
   "file_extension": ".py",
   "mimetype": "text/x-python",
   "name": "python",
   "nbconvert_exporter": "python",
   "pygments_lexer": "ipython3",
   "version": "3.6.5"
  }
 },
 "nbformat": 4,
 "nbformat_minor": 2
}
