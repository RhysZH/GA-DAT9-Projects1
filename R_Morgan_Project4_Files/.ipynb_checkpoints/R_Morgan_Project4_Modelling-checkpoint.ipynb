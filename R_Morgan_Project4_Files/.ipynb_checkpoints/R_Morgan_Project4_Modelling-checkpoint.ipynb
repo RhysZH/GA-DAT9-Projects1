{
 "cells": [
  {
   "cell_type": "markdown",
   "metadata": {},
   "source": [
    "\n",
    "## Project 4: Churn Prediction Modelling \n",
    "\n",
    "---"
   ]
  },
  {
   "cell_type": "markdown",
   "metadata": {},
   "source": [
    "My text here"
   ]
  },
  {
   "cell_type": "code",
   "execution_count": 67,
   "metadata": {
    "scrolled": true
   },
   "outputs": [
    {
     "data": {
      "text/html": [
       "<div>\n",
       "<style scoped>\n",
       "    .dataframe tbody tr th:only-of-type {\n",
       "        vertical-align: middle;\n",
       "    }\n",
       "\n",
       "    .dataframe tbody tr th {\n",
       "        vertical-align: top;\n",
       "    }\n",
       "\n",
       "    .dataframe thead th {\n",
       "        text-align: right;\n",
       "    }\n",
       "</style>\n",
       "<table border=\"1\" class=\"dataframe\">\n",
       "  <thead>\n",
       "    <tr style=\"text-align: right;\">\n",
       "      <th></th>\n",
       "      <th>account_length</th>\n",
       "      <th>num_of_voice_mail_messages</th>\n",
       "      <th>total_day_calls</th>\n",
       "      <th>total_day_charge</th>\n",
       "      <th>total_eve_calls</th>\n",
       "      <th>total_eve_charge</th>\n",
       "      <th>total_night_calls</th>\n",
       "      <th>total_night_charge</th>\n",
       "      <th>total_intl_calls</th>\n",
       "      <th>total_intl_charge</th>\n",
       "      <th>number_customer_service_calls</th>\n",
       "      <th>international_plan_n</th>\n",
       "      <th>voice_mail_plan_n</th>\n",
       "      <th>area_code_408</th>\n",
       "      <th>area_code_415</th>\n",
       "      <th>area_code_510</th>\n",
       "      <th>churn_n</th>\n",
       "    </tr>\n",
       "  </thead>\n",
       "  <tbody>\n",
       "    <tr>\n",
       "      <th>0</th>\n",
       "      <td>128</td>\n",
       "      <td>25</td>\n",
       "      <td>110</td>\n",
       "      <td>45.07</td>\n",
       "      <td>99</td>\n",
       "      <td>16.78</td>\n",
       "      <td>91</td>\n",
       "      <td>11.01</td>\n",
       "      <td>3</td>\n",
       "      <td>2.70</td>\n",
       "      <td>1</td>\n",
       "      <td>0</td>\n",
       "      <td>1</td>\n",
       "      <td>0</td>\n",
       "      <td>1</td>\n",
       "      <td>0</td>\n",
       "      <td>0</td>\n",
       "    </tr>\n",
       "    <tr>\n",
       "      <th>1</th>\n",
       "      <td>107</td>\n",
       "      <td>26</td>\n",
       "      <td>123</td>\n",
       "      <td>27.47</td>\n",
       "      <td>103</td>\n",
       "      <td>16.62</td>\n",
       "      <td>103</td>\n",
       "      <td>11.45</td>\n",
       "      <td>3</td>\n",
       "      <td>3.70</td>\n",
       "      <td>1</td>\n",
       "      <td>0</td>\n",
       "      <td>1</td>\n",
       "      <td>0</td>\n",
       "      <td>1</td>\n",
       "      <td>0</td>\n",
       "      <td>0</td>\n",
       "    </tr>\n",
       "    <tr>\n",
       "      <th>2</th>\n",
       "      <td>137</td>\n",
       "      <td>0</td>\n",
       "      <td>114</td>\n",
       "      <td>41.38</td>\n",
       "      <td>110</td>\n",
       "      <td>10.30</td>\n",
       "      <td>104</td>\n",
       "      <td>7.32</td>\n",
       "      <td>5</td>\n",
       "      <td>3.29</td>\n",
       "      <td>0</td>\n",
       "      <td>0</td>\n",
       "      <td>0</td>\n",
       "      <td>0</td>\n",
       "      <td>1</td>\n",
       "      <td>0</td>\n",
       "      <td>0</td>\n",
       "    </tr>\n",
       "    <tr>\n",
       "      <th>3</th>\n",
       "      <td>84</td>\n",
       "      <td>0</td>\n",
       "      <td>71</td>\n",
       "      <td>50.90</td>\n",
       "      <td>88</td>\n",
       "      <td>5.26</td>\n",
       "      <td>89</td>\n",
       "      <td>8.86</td>\n",
       "      <td>7</td>\n",
       "      <td>1.78</td>\n",
       "      <td>2</td>\n",
       "      <td>1</td>\n",
       "      <td>0</td>\n",
       "      <td>1</td>\n",
       "      <td>0</td>\n",
       "      <td>0</td>\n",
       "      <td>0</td>\n",
       "    </tr>\n",
       "    <tr>\n",
       "      <th>4</th>\n",
       "      <td>75</td>\n",
       "      <td>0</td>\n",
       "      <td>113</td>\n",
       "      <td>28.34</td>\n",
       "      <td>122</td>\n",
       "      <td>12.61</td>\n",
       "      <td>121</td>\n",
       "      <td>8.41</td>\n",
       "      <td>3</td>\n",
       "      <td>2.73</td>\n",
       "      <td>3</td>\n",
       "      <td>1</td>\n",
       "      <td>0</td>\n",
       "      <td>0</td>\n",
       "      <td>1</td>\n",
       "      <td>0</td>\n",
       "      <td>0</td>\n",
       "    </tr>\n",
       "  </tbody>\n",
       "</table>\n",
       "</div>"
      ],
      "text/plain": [
       "   account_length  num_of_voice_mail_messages  total_day_calls  \\\n",
       "0             128                          25              110   \n",
       "1             107                          26              123   \n",
       "2             137                           0              114   \n",
       "3              84                           0               71   \n",
       "4              75                           0              113   \n",
       "\n",
       "   total_day_charge  total_eve_calls  total_eve_charge  total_night_calls  \\\n",
       "0             45.07               99             16.78                 91   \n",
       "1             27.47              103             16.62                103   \n",
       "2             41.38              110             10.30                104   \n",
       "3             50.90               88              5.26                 89   \n",
       "4             28.34              122             12.61                121   \n",
       "\n",
       "   total_night_charge  total_intl_calls  total_intl_charge  \\\n",
       "0               11.01                 3               2.70   \n",
       "1               11.45                 3               3.70   \n",
       "2                7.32                 5               3.29   \n",
       "3                8.86                 7               1.78   \n",
       "4                8.41                 3               2.73   \n",
       "\n",
       "   number_customer_service_calls  international_plan_n  voice_mail_plan_n  \\\n",
       "0                              1                     0                  1   \n",
       "1                              1                     0                  1   \n",
       "2                              0                     0                  0   \n",
       "3                              2                     1                  0   \n",
       "4                              3                     1                  0   \n",
       "\n",
       "   area_code_408  area_code_415  area_code_510  churn_n  \n",
       "0              0              1              0        0  \n",
       "1              0              1              0        0  \n",
       "2              0              1              0        0  \n",
       "3              1              0              0        0  \n",
       "4              0              1              0        0  "
      ]
     },
     "execution_count": 67,
     "metadata": {},
     "output_type": "execute_result"
    }
   ],
   "source": [
    "import pandas as pd\n",
    "\n",
    "data = r\"/Users/meisan/Documents/GitHub/GA-DAT9-Projects1/R_Morgan_Project4_Files/telecom_data.csv\"\n",
    "df = pd.read_csv(data)\n",
    "df.head()"
   ]
  },
  {
   "cell_type": "code",
   "execution_count": 68,
   "metadata": {},
   "outputs": [],
   "source": [
    "import matplotlib.pyplot as plt\n",
    "import seaborn as sns\n",
    "import pandas as pd\n",
    "import numpy as np\n",
    "\n",
    "% matplotlib inline"
   ]
  },
  {
   "cell_type": "code",
   "execution_count": 69,
   "metadata": {},
   "outputs": [
    {
     "data": {
      "text/plain": [
       "<matplotlib.axes._subplots.AxesSubplot at 0x1124cba58>"
      ]
     },
     "execution_count": 69,
     "metadata": {},
     "output_type": "execute_result"
    },
    {
     "data": {
      "image/png": "[encoded data removed]",
      "text/plain": [
       "<Figure size 432x288 with 2 Axes>"
      ]
     },
     "metadata": {},
     "output_type": "display_data"
    }
   ],
   "source": [
    "#establish list of features saved from EDA, print heatmap to check for colinearity between features\n",
    "feature_names = ['account_length','num_of_voice_mail_messages','total_day_calls','total_day_charge',\n",
    "                 'total_eve_calls','total_eve_charge','total_night_calls','total_night_charge',\n",
    "                 'total_intl_calls','total_intl_charge','number_customer_service_calls','international_plan_n',\n",
    "                 'area_code_408','area_code_415','area_code_510']\n",
    "\n",
    "predictors = ['account_length','total_intl_charge','number_customer_service_calls',\n",
    "              'total_day_calls','area_code_408','area_code_415','area_code_510']\n",
    "\n",
    "X = df[feature_names]\n",
    "y = df['churn_n']\n",
    "\n",
    "sns.heatmap(X.corr(),vmin=-1,vmax=1,center=0,cmap='RdBu')"
   ]
  },
  {
   "cell_type": "code",
   "execution_count": 70,
   "metadata": {},
   "outputs": [],
   "source": [
    "from sklearn.preprocessing import StandardScaler\n",
    "\n",
    "ss = StandardScaler()\n",
    "\n",
    "# use the \"fit_transform\" function to standardize the X design matrix\n",
    "Xs = ss.fit_transform(X)"
   ]
  },
  {
   "cell_type": "markdown",
   "metadata": {},
   "source": [
    "#### Use Smote-Tomek to resample data"
   ]
  },
  {
   "cell_type": "code",
   "execution_count": 71,
   "metadata": {},
   "outputs": [
    {
     "name": "stdout",
     "output_type": "stream",
     "text": [
      "Original dataset shape Counter({0: 4293, 1: 707})\n",
      "Resampled dataset shape Counter({0: 4292, 1: 4292})\n"
     ]
    }
   ],
   "source": [
    "#import counter to check shapes of original and resampled datasets\n",
    "from collections import Counter\n",
    "from imblearn.combine import SMOTETomek\n",
    "smt = SMOTETomek(random_state=123)\n",
    "X_res, y_res = smt.fit_sample(Xs, y)\n",
    "print('Original dataset shape {}'.format(Counter(y)))\n",
    "print('Resampled dataset shape {}'.format(Counter(y_res)))\n",
    "X_samp = pd.DataFrame(X_res, columns = feature_names)\n",
    "y_samp = pd.DataFrame(y_res, columns = ['churn_n'])\n",
    "#default settings resulted in heavy use of SMOTE to balance data."
   ]
  },
  {
   "cell_type": "code",
   "execution_count": 72,
   "metadata": {},
   "outputs": [
    {
     "data": {
      "text/html": [
       "<div>\n",
       "<style scoped>\n",
       "    .dataframe tbody tr th:only-of-type {\n",
       "        vertical-align: middle;\n",
       "    }\n",
       "\n",
       "    .dataframe tbody tr th {\n",
       "        vertical-align: top;\n",
       "    }\n",
       "\n",
       "    .dataframe thead th {\n",
       "        text-align: right;\n",
       "    }\n",
       "</style>\n",
       "<table border=\"1\" class=\"dataframe\">\n",
       "  <thead>\n",
       "    <tr style=\"text-align: right;\">\n",
       "      <th></th>\n",
       "      <th>account_length</th>\n",
       "      <th>num_of_voice_mail_messages</th>\n",
       "      <th>total_day_calls</th>\n",
       "      <th>total_day_charge</th>\n",
       "      <th>total_eve_calls</th>\n",
       "      <th>total_eve_charge</th>\n",
       "      <th>total_night_calls</th>\n",
       "      <th>total_night_charge</th>\n",
       "      <th>total_intl_calls</th>\n",
       "      <th>total_intl_charge</th>\n",
       "      <th>number_customer_service_calls</th>\n",
       "      <th>international_plan_n</th>\n",
       "      <th>area_code_408</th>\n",
       "      <th>area_code_415</th>\n",
       "      <th>area_code_510</th>\n",
       "    </tr>\n",
       "  </thead>\n",
       "  <tbody>\n",
       "    <tr>\n",
       "      <th>0</th>\n",
       "      <td>0.698941</td>\n",
       "      <td>1.273145</td>\n",
       "      <td>0.502824</td>\n",
       "      <td>1.574074</td>\n",
       "      <td>-0.060077</td>\n",
       "      <td>-0.063849</td>\n",
       "      <td>-0.446928</td>\n",
       "      <td>0.876286</td>\n",
       "      <td>-0.584236</td>\n",
       "      <td>-0.095509</td>\n",
       "      <td>-0.436676</td>\n",
       "      <td>-0.323240</td>\n",
       "      <td>-0.580122</td>\n",
       "      <td>1.002002</td>\n",
       "      <td>-0.576119</td>\n",
       "    </tr>\n",
       "    <tr>\n",
       "      <th>1</th>\n",
       "      <td>0.169849</td>\n",
       "      <td>1.346973</td>\n",
       "      <td>1.158422</td>\n",
       "      <td>-0.347082</td>\n",
       "      <td>0.141693</td>\n",
       "      <td>-0.101089</td>\n",
       "      <td>0.154374</td>\n",
       "      <td>1.069818</td>\n",
       "      <td>-0.584236</td>\n",
       "      <td>1.245982</td>\n",
       "      <td>-0.436676</td>\n",
       "      <td>-0.323240</td>\n",
       "      <td>-0.580122</td>\n",
       "      <td>1.002002</td>\n",
       "      <td>-0.576119</td>\n",
       "    </tr>\n",
       "    <tr>\n",
       "      <th>2</th>\n",
       "      <td>0.925695</td>\n",
       "      <td>-0.572549</td>\n",
       "      <td>0.704546</td>\n",
       "      <td>1.171286</td>\n",
       "      <td>0.494791</td>\n",
       "      <td>-1.572084</td>\n",
       "      <td>0.204483</td>\n",
       "      <td>-0.746737</td>\n",
       "      <td>0.229917</td>\n",
       "      <td>0.695971</td>\n",
       "      <td>-1.202236</td>\n",
       "      <td>-0.323240</td>\n",
       "      <td>-0.580122</td>\n",
       "      <td>1.002002</td>\n",
       "      <td>-0.576119</td>\n",
       "    </tr>\n",
       "    <tr>\n",
       "      <th>3</th>\n",
       "      <td>-0.409634</td>\n",
       "      <td>-0.572549</td>\n",
       "      <td>-1.463971</td>\n",
       "      <td>2.210457</td>\n",
       "      <td>-0.614946</td>\n",
       "      <td>-2.745155</td>\n",
       "      <td>-0.547145</td>\n",
       "      <td>-0.069377</td>\n",
       "      <td>1.044069</td>\n",
       "      <td>-1.329681</td>\n",
       "      <td>0.328885</td>\n",
       "      <td>3.093675</td>\n",
       "      <td>1.723777</td>\n",
       "      <td>-0.998002</td>\n",
       "      <td>-0.576119</td>\n",
       "    </tr>\n",
       "    <tr>\n",
       "      <th>4</th>\n",
       "      <td>-0.636388</td>\n",
       "      <td>-0.572549</td>\n",
       "      <td>0.654116</td>\n",
       "      <td>-0.252115</td>\n",
       "      <td>1.100103</td>\n",
       "      <td>-1.034426</td>\n",
       "      <td>1.056327</td>\n",
       "      <td>-0.267307</td>\n",
       "      <td>-0.584236</td>\n",
       "      <td>-0.055264</td>\n",
       "      <td>1.094445</td>\n",
       "      <td>3.093675</td>\n",
       "      <td>-0.580122</td>\n",
       "      <td>1.002002</td>\n",
       "      <td>-0.576119</td>\n",
       "    </tr>\n",
       "  </tbody>\n",
       "</table>\n",
       "</div>"
      ],
      "text/plain": [
       "   account_length  num_of_voice_mail_messages  total_day_calls  \\\n",
       "0        0.698941                    1.273145         0.502824   \n",
       "1        0.169849                    1.346973         1.158422   \n",
       "2        0.925695                   -0.572549         0.704546   \n",
       "3       -0.409634                   -0.572549        -1.463971   \n",
       "4       -0.636388                   -0.572549         0.654116   \n",
       "\n",
       "   total_day_charge  total_eve_calls  total_eve_charge  total_night_calls  \\\n",
       "0          1.574074        -0.060077         -0.063849          -0.446928   \n",
       "1         -0.347082         0.141693         -0.101089           0.154374   \n",
       "2          1.171286         0.494791         -1.572084           0.204483   \n",
       "3          2.210457        -0.614946         -2.745155          -0.547145   \n",
       "4         -0.252115         1.100103         -1.034426           1.056327   \n",
       "\n",
       "   total_night_charge  total_intl_calls  total_intl_charge  \\\n",
       "0            0.876286         -0.584236          -0.095509   \n",
       "1            1.069818         -0.584236           1.245982   \n",
       "2           -0.746737          0.229917           0.695971   \n",
       "3           -0.069377          1.044069          -1.329681   \n",
       "4           -0.267307         -0.584236          -0.055264   \n",
       "\n",
       "   number_customer_service_calls  international_plan_n  area_code_408  \\\n",
       "0                      -0.436676             -0.323240      -0.580122   \n",
       "1                      -0.436676             -0.323240      -0.580122   \n",
       "2                      -1.202236             -0.323240      -0.580122   \n",
       "3                       0.328885              3.093675       1.723777   \n",
       "4                       1.094445              3.093675      -0.580122   \n",
       "\n",
       "   area_code_415  area_code_510  \n",
       "0       1.002002      -0.576119  \n",
       "1       1.002002      -0.576119  \n",
       "2       1.002002      -0.576119  \n",
       "3      -0.998002      -0.576119  \n",
       "4       1.002002      -0.576119  "
      ]
     },
     "execution_count": 72,
     "metadata": {},
     "output_type": "execute_result"
    }
   ],
   "source": [
    "X_samp.head()"
   ]
  },
  {
   "cell_type": "code",
   "execution_count": 73,
   "metadata": {
    "scrolled": false
   },
   "outputs": [
    {
     "data": {
      "text/plain": [
       "<matplotlib.axes._subplots.AxesSubplot at 0x1a22c7b438>"
      ]
     },
     "execution_count": 73,
     "metadata": {},
     "output_type": "execute_result"
    },
    {
     "data": {
      "image/png": "[encoded data removed]",
      "text/plain": [
       "<Figure size 432x288 with 2 Axes>"
      ]
     },
     "metadata": {},
     "output_type": "display_data"
    }
   ],
   "source": [
    "#check to see if sampling has affected colinearity.\n",
    "sns.heatmap(X_samp.corr(),vmin=-1,vmax=1,center=0,cmap='RdBu')"
   ]
  },
  {
   "cell_type": "markdown",
   "metadata": {},
   "source": [
    "### 1. Logisitic Regression Modelling"
   ]
  },
  {
   "cell_type": "code",
   "execution_count": 74,
   "metadata": {},
   "outputs": [
    {
     "name": "stdout",
     "output_type": "stream",
     "text": [
      "(6867, 15) (6867,)\n",
      "(1717, 15) (1717,)\n"
     ]
    }
   ],
   "source": [
    "from sklearn.linear_model import LogisticRegression\n",
    "from sklearn.model_selection import train_test_split\n",
    "\n",
    "\n",
    "# create training and testing vars, check shape\n",
    "X_train, X_test, y_train, y_test = train_test_split(X_res, y_res, test_size=0.2,random_state=123)\n",
    "print (X_train.shape, y_train.shape)\n",
    "print (X_test.shape, y_test.shape)"
   ]
  },
  {
   "cell_type": "code",
   "execution_count": 75,
   "metadata": {},
   "outputs": [
    {
     "data": {
      "text/plain": [
       "sklearn.linear_model.logistic.LogisticRegression"
      ]
     },
     "execution_count": 75,
     "metadata": {},
     "output_type": "execute_result"
    }
   ],
   "source": [
    "# Make an instance of a LinearRegression object.\n",
    "lr = LogisticRegression()\n",
    "type(lr)"
   ]
  },
  {
   "cell_type": "code",
   "execution_count": 76,
   "metadata": {
    "scrolled": false
   },
   "outputs": [
    {
     "name": "stdout",
     "output_type": "stream",
     "text": [
      "[-0.68334051]\n",
      "[[ 0.06034927 -0.46044573  0.04311776  0.77387899 -0.01223031  0.43202967\n",
      "  -0.06308781  0.25381826 -0.1568363   0.23789095  0.87602113  0.71344466\n",
      "   0.02847505 -0.03032511  0.00648021]]\n"
     ]
    }
   ],
   "source": [
    "#fit model, print coefficients\n",
    "model = lr.fit(X_train, y_train)\n",
    "print(lr.intercept_)\n",
    "print(lr.coef_)"
   ]
  },
  {
   "cell_type": "code",
   "execution_count": 77,
   "metadata": {},
   "outputs": [
    {
     "name": "stdout",
     "output_type": "stream",
     "text": [
      "total_day_charge , number_customer_service_calls , international_plan_n\n"
     ]
    }
   ],
   "source": [
    "print(feature_names[3],',',feature_names[10],',',feature_names[11])"
   ]
  },
  {
   "cell_type": "markdown",
   "metadata": {},
   "source": [
    "From an initial viewing, the above metrics have higher coefficients associated with them. "
   ]
  },
  {
   "cell_type": "code",
   "execution_count": 78,
   "metadata": {
    "scrolled": false
   },
   "outputs": [
    {
     "data": {
      "text/plain": [
       "array([0, 1, 1, ..., 1, 0, 1])"
      ]
     },
     "execution_count": 78,
     "metadata": {},
     "output_type": "execute_result"
    }
   ],
   "source": [
    "#assign array with predicted 'y' results to 'y_predicted'\n",
    "y_pred = model.predict(X_test)\n",
    "y_pred"
   ]
  },
  {
   "cell_type": "code",
   "execution_count": 79,
   "metadata": {},
   "outputs": [
    {
     "data": {
      "text/plain": [
       "0.8555217146998706"
      ]
     },
     "execution_count": 79,
     "metadata": {},
     "output_type": "execute_result"
    }
   ],
   "source": [
    "from sklearn import metrics\n",
    "\n",
    "# calculate the fpr and tpr for all thresholds of the classification\n",
    "probs = model.predict_proba(X_test)\n",
    "preds = probs[:,1]\n",
    "fpr, tpr, threshold = metrics.roc_curve(y_test, preds)\n",
    "roc_auc = metrics.auc(fpr, tpr)\n",
    "roc_auc"
   ]
  },
  {
   "cell_type": "code",
   "execution_count": 80,
   "metadata": {},
   "outputs": [
    {
     "name": "stdout",
     "output_type": "stream",
     "text": [
      "Logistic Regression Testing Accuracy: 0.7815958066394875\n",
      "Logistic Regression Accuracy: 0.7849133537206932\n",
      "---Confusion Matrix---\n",
      "[[660 183]\n",
      " [192 682]]\n"
     ]
    }
   ],
   "source": [
    "y_pred_train = model.predict(X_train)\n",
    "print('Logistic Regression Testing Accuracy:', metrics.accuracy_score(y_test, y_pred))\n",
    "print('Logistic Regression Accuracy:',metrics.accuracy_score(y_train, y_pred_train))\n",
    "print('---Confusion Matrix---')\n",
    "print(metrics.confusion_matrix(y_true=y_test, y_pred=preds > .5))"
   ]
  },
  {
   "cell_type": "markdown",
   "metadata": {},
   "source": [
    "> Scores are close, indicating model is not overfitted."
   ]
  },
  {
   "cell_type": "markdown",
   "metadata": {},
   "source": [
    "### 2. Elastic Net Regularisation"
   ]
  },
  {
   "cell_type": "code",
   "execution_count": 81,
   "metadata": {},
   "outputs": [
    {
     "data": {
      "text/plain": [
       "array([1.e-02, 1.e-01, 1.e+00, 1.e+01, 1.e+02])"
      ]
     },
     "execution_count": 81,
     "metadata": {},
     "output_type": "execute_result"
    }
   ],
   "source": [
    "#define a range of alphas for optimising enet\n",
    "alpha_range = 10.**np.arange(-2, 3)\n",
    "alpha_range"
   ]
  },
  {
   "cell_type": "code",
   "execution_count": 82,
   "metadata": {},
   "outputs": [
    {
     "name": "stdout",
     "output_type": "stream",
     "text": [
      "AUC for optimal alpha:  0.8556031499140859\n",
      "Optimal alpha:  0.01\n",
      "Intercept:  [-0.61357972]\n",
      "coefficients:  [[ 0.04362697 -0.40886348  0.03083594  0.69823179  0.          0.38294732\n",
      "  -0.0473364   0.22019008 -0.13755107  0.20488582  0.78566804  0.65239969\n",
      "   0.01523696 -0.02900043  0.        ]]\n"
     ]
    }
   ],
   "source": [
    "from sklearn.linear_model import SGDClassifier\n",
    "\n",
    "opt_auc = 0\n",
    "#find optimal auc through optimal alpha, use coefficients for feature selection\n",
    "for n in alpha_range:\n",
    "    clf = SGDClassifier(penalty='elasticnet',alpha=n,max_iter=1000, loss = 'log',random_state=123)\n",
    "    clf_model = clf.fit(X_train, y_train)\n",
    "    predicted_enet = clf.predict_proba(X_test)\n",
    "    preds = predicted_enet[:,1]\n",
    "    fpr_enet, tpr_enet, threshold_enet = metrics.roc_curve(y_test, preds)\n",
    "    roc_auc_enet = metrics.auc(fpr_enet, tpr_enet)\n",
    "    #determine the optimum alpha by storing 'n' and its \n",
    "    #associated metrics if AUC is larger than AUC for previous n.\n",
    "    if roc_auc_enet >= opt_auc:\n",
    "        opt_preds = preds\n",
    "        opt_auc = roc_auc_enet\n",
    "        opt_int = clf.intercept_\n",
    "        opt_coef = clf.coef_\n",
    "        opt_alpha = n\n",
    "print('AUC for optimal alpha: ', opt_auc)    \n",
    "print('Optimal alpha: ', opt_alpha)    \n",
    "print('Intercept: ', opt_int)\n",
    "print('coefficients: ',opt_coef)"
   ]
  },
  {
   "cell_type": "markdown",
   "metadata": {},
   "source": [
    "#### Elastic net feature removal\n",
    "> elastic net regularisation deprecated the following features:\n",
    "\n",
    "> __1. 'total_eve_calls'__\n",
    "\n",
    "> __2. 'area_code_510'__\n",
    "\n",
    "> We will now use the optimal alpha value of 0.01 to re-fit our model and observe AUC."
   ]
  },
  {
   "cell_type": "code",
   "execution_count": 83,
   "metadata": {},
   "outputs": [
    {
     "name": "stdout",
     "output_type": "stream",
     "text": [
      "[-0.61357972]\n",
      "[[ 0.04362697 -0.40886348  0.03083594  0.69823179  0.          0.38294732\n",
      "  -0.0473364   0.22019008 -0.13755107  0.20488582  0.78566804  0.65239969\n",
      "   0.01523696 -0.02900043  0.        ]]\n"
     ]
    }
   ],
   "source": [
    "clf_2 = SGDClassifier(penalty='elasticnet',alpha=0.01,max_iter=1000, loss = 'log',random_state=123)\n",
    "clf_model_2 = clf_2.fit(X_train, y_train)\n",
    "predicted_enet_2 = clf_2.predict_proba(X_test)\n",
    "print(clf_model_2.intercept_)\n",
    "print(clf_model_2.coef_)"
   ]
  },
  {
   "cell_type": "code",
   "execution_count": 84,
   "metadata": {},
   "outputs": [
    {
     "data": {
      "text/plain": [
       "0.8556031499140859"
      ]
     },
     "execution_count": 84,
     "metadata": {},
     "output_type": "execute_result"
    }
   ],
   "source": [
    "preds = predicted_enet_2[:,1]\n",
    "fpr_enet_2, tpr_enet_2, threshold_enet_2 = metrics.roc_curve(y_test, preds)\n",
    "roc_auc_enet_2 = metrics.auc(fpr_enet_2, tpr_enet_2)\n",
    "roc_auc_enet_2"
   ]
  },
  {
   "cell_type": "code",
   "execution_count": 85,
   "metadata": {},
   "outputs": [
    {
     "name": "stdout",
     "output_type": "stream",
     "text": [
      "ElasticNet Testing Accuracy: 0.7839254513686663\n",
      "ElasticNet Training Accuracy: 0.7856414737148683\n",
      "---Confusion Matrix---\n",
      "[[660 183]\n",
      " [188 686]]\n"
     ]
    }
   ],
   "source": [
    "y_pred = clf_model_2.predict(X_test)\n",
    "y_pred_train = clf_model_2.predict(X_train)\n",
    "print('ElasticNet Testing Accuracy:', metrics.accuracy_score(y_test, y_pred))\n",
    "print('ElasticNet Training Accuracy:',metrics.accuracy_score(y_train, y_pred_train))\n",
    "print('---Confusion Matrix---')\n",
    "print(metrics.confusion_matrix(y_true=y_test, y_pred=preds > .5))"
   ]
  },
  {
   "cell_type": "markdown",
   "metadata": {},
   "source": [
    "### 3. LogReg re-fit (removing features reduced from ENET)"
   ]
  },
  {
   "cell_type": "code",
   "execution_count": 86,
   "metadata": {},
   "outputs": [
    {
     "data": {
      "text/plain": [
       "0.855561075053408"
      ]
     },
     "execution_count": 86,
     "metadata": {},
     "output_type": "execute_result"
    }
   ],
   "source": [
    "#re-fit model, removing features highlighted from elasticnet\n",
    "\n",
    "\n",
    "enet_predictors = ['account_length','num_of_voice_mail_messages','total_day_calls','total_day_charge',\n",
    "                 'total_eve_charge','total_night_calls','total_night_charge',\n",
    "                 'total_intl_calls','total_intl_charge','number_customer_service_calls','international_plan_n',\n",
    "                 'area_code_408','area_code_415']\n",
    "#assign enet predictors to balanced X data\n",
    "X_samp_f = X_samp[enet_predictors]\n",
    "\n",
    "#split data\n",
    "X_train, X_test, y_train, y_test = train_test_split(X_samp_f, y_res, test_size=0.2,random_state=123)\n",
    "\n",
    "\n",
    "lr = LogisticRegression()\n",
    "model_2 = lr.fit(X_train, y_train)\n",
    "\n",
    "#calculate AUC of new model\n",
    "probs = model_2.predict_proba(X_test)\n",
    "preds = probs[:,1]\n",
    "fpr_2, tpr_2, threshold_2 = metrics.roc_curve(y_test, preds)\n",
    "roc_auc_2 = metrics.auc(fpr_2, tpr_2)\n",
    "roc_auc_2"
   ]
  },
  {
   "cell_type": "code",
   "execution_count": 87,
   "metadata": {},
   "outputs": [
    {
     "name": "stdout",
     "output_type": "stream",
     "text": [
      "2nd LogReg Testing Accuracy: 0.7833430401863716\n",
      "2nd LogReg Training Accuracy: 0.7846221057230232\n",
      "---Confusion Matrix---\n",
      "[[662 181]\n",
      " [191 683]]\n"
     ]
    }
   ],
   "source": [
    "y_pred = model_2.predict(X_test)\n",
    "y_pred_train = model_2.predict(X_train)\n",
    "print('2nd LogReg Testing Accuracy:', metrics.accuracy_score(y_test, y_pred))\n",
    "print('2nd LogReg Training Accuracy:',metrics.accuracy_score(y_train, y_pred_train))\n",
    "print('---Confusion Matrix---')\n",
    "print(metrics.confusion_matrix(y_true=y_test, y_pred=preds > .5))"
   ]
  },
  {
   "cell_type": "markdown",
   "metadata": {},
   "source": [
    "### 4. K-fold cross validation on original LogReg model"
   ]
  },
  {
   "cell_type": "code",
   "execution_count": 88,
   "metadata": {},
   "outputs": [
    {
     "name": "stdout",
     "output_type": "stream",
     "text": [
      "no_folds    4.000000\n",
      "scores      0.785531\n",
      "Name: 2, dtype: float64\n"
     ]
    },
    {
     "data": {
      "text/plain": [
       "<matplotlib.axes._subplots.AxesSubplot at 0x1a233802e8>"
      ]
     },
     "execution_count": 88,
     "metadata": {},
     "output_type": "execute_result"
    },
    {
     "data": {
      "image/png": "[encoded data removed]",
      "text/plain": [
       "<Figure size 432x288 with 1 Axes>"
      ]
     },
     "metadata": {},
     "output_type": "display_data"
    }
   ],
   "source": [
    "from sklearn.model_selection import cross_val_predict\n",
    "from sklearn.model_selection import cross_val_score\n",
    "\n",
    "score_list = []\n",
    "no_folds = []\n",
    "for n in range(2,51):\n",
    "    predicted = cross_val_predict(model, X_samp_f, y_res, cv=n)\n",
    "    score = metrics.accuracy_score(y_res, predicted)\n",
    "    no_folds.append(n)\n",
    "    score_list.append(score)\n",
    "\n",
    "s = {'no_folds':no_folds, 'scores':score_list}\n",
    "n_scores = pd.DataFrame(s)\n",
    "print(n_scores.iloc[n_scores['scores'].values.argmax()])\n",
    "n_scores.plot('no_folds', 'scores')"
   ]
  },
  {
   "cell_type": "markdown",
   "metadata": {},
   "source": [
    "#### Optimal number of folds is 4. We will use this for final cross-validation."
   ]
  },
  {
   "cell_type": "markdown",
   "metadata": {},
   "source": [
    "### 5. KNN Classification "
   ]
  },
  {
   "cell_type": "code",
   "execution_count": 89,
   "metadata": {
    "scrolled": true
   },
   "outputs": [
    {
     "name": "stdout",
     "output_type": "stream",
     "text": [
      "knn_acc           0.950495\n",
      "num_neighbours    2.000000\n",
      "Name: 0, dtype: float64\n"
     ]
    },
    {
     "data": {
      "text/plain": [
       "<matplotlib.axes._subplots.AxesSubplot at 0x1a236c4780>"
      ]
     },
     "execution_count": 89,
     "metadata": {},
     "output_type": "execute_result"
    },
    {
     "data": {
      "image/png": "[encoded data removed]",
      "text/plain": [
       "<Figure size 432x288 with 1 Axes>"
      ]
     },
     "metadata": {},
     "output_type": "display_data"
    }
   ],
   "source": [
    "from sklearn.neighbors import KNeighborsClassifier\n",
    "from sklearn.metrics import accuracy_score\n",
    "#looped function for calculating accuracy for various neighbours\n",
    "knn_acc = []\n",
    "num_neighbours = []\n",
    "\n",
    "for n in range(2,51):\n",
    "    knn = KNeighborsClassifier(n_neighbors=n)\n",
    "    knn_model = knn.fit(X_train, y_train)\n",
    "    predicted_knn = knn_model.predict(X_test)\n",
    "    knn_acc.append(accuracy_score(y_test, predicted_knn))\n",
    "    num_neighbours.append(n)\n",
    "    \n",
    "s = {'knn_acc':knn_acc, 'num_neighbours':num_neighbours}\n",
    "knn_scores = pd.DataFrame(s)\n",
    "print(knn_scores.iloc[knn_scores['knn_acc'].values.argmax()])\n",
    "knn_scores.plot('num_neighbours', 'knn_acc')"
   ]
  },
  {
   "cell_type": "markdown",
   "metadata": {},
   "source": [
    "#### Optimal number of neigbours is 2. We will use n = 2 for computing ROC & AUC."
   ]
  },
  {
   "cell_type": "code",
   "execution_count": 90,
   "metadata": {},
   "outputs": [
    {
     "data": {
      "text/plain": [
       "0.9429878851546319"
      ]
     },
     "execution_count": 90,
     "metadata": {},
     "output_type": "execute_result"
    }
   ],
   "source": [
    "knn_13 = KNeighborsClassifier(n_neighbors=2)\n",
    "knn_model = knn.fit(X_train, y_train)\n",
    "predicted_knn = knn.predict_proba(X_test)\n",
    "preds = predicted_knn[:,1]\n",
    "fpr_knn, tpr_knn, threshold_knn = metrics.roc_curve(y_test, preds)\n",
    "roc_auc_knn = metrics.auc(fpr_knn, tpr_knn)\n",
    "roc_auc_knn"
   ]
  },
  {
   "cell_type": "code",
   "execution_count": 91,
   "metadata": {},
   "outputs": [
    {
     "name": "stdout",
     "output_type": "stream",
     "text": [
      "KNN Testing Accuracy: 0.8806057076295865\n",
      "KNN Training Accuracy: 0.8572884811416922\n",
      "---Confusion Matrix---\n",
      "[[708 135]\n",
      " [ 70 804]]\n"
     ]
    }
   ],
   "source": [
    "y_pred = knn_model.predict(X_test)\n",
    "y_pred_train = knn_model.predict(X_train)\n",
    "print('KNN Testing Accuracy:', metrics.accuracy_score(y_test, y_pred))\n",
    "print('KNN Training Accuracy:',metrics.accuracy_score(y_train, y_pred_train))\n",
    "print('---Confusion Matrix---')\n",
    "print(metrics.confusion_matrix(y_true=y_test, y_pred=preds > .5))"
   ]
  },
  {
   "cell_type": "markdown",
   "metadata": {},
   "source": [
    "### 6. Decision Tree Model"
   ]
  },
  {
   "cell_type": "code",
   "execution_count": 92,
   "metadata": {},
   "outputs": [
    {
     "data": {
      "text/plain": [
       "0.9295578610769535"
      ]
     },
     "execution_count": 92,
     "metadata": {},
     "output_type": "execute_result"
    }
   ],
   "source": [
    "from sklearn import tree\n",
    "clf_tree = tree.DecisionTreeClassifier()\n",
    "dtree_model = clf_tree.fit(X_train, y_train)\n",
    "predicted_tree = clf_tree.predict_proba(X_test)\n",
    "preds = predicted_tree[:,1]\n",
    "fpr_tree, tpr_tree, threshold_tree = metrics.roc_curve(y_test, preds)\n",
    "roc_auc_tree = metrics.auc(fpr_tree, tpr_tree)\n",
    "roc_auc_tree"
   ]
  },
  {
   "cell_type": "code",
   "execution_count": 93,
   "metadata": {},
   "outputs": [],
   "source": [
    "import graphviz \n",
    "dot_data = tree.export_graphviz(dtree_model, out_file=None) \n",
    "graph = graphviz.Source(dot_data) \n",
    "#graph.render(\"Telco Churn\") "
   ]
  },
  {
   "cell_type": "code",
   "execution_count": 94,
   "metadata": {},
   "outputs": [
    {
     "name": "stdout",
     "output_type": "stream",
     "text": [
      "Decision Tree Testing Accuracy: 0.9295282469423413\n",
      "Decision Tree Training Accuracy: 1.0\n",
      "---Confusion Matrix---\n",
      "[[785  58]\n",
      " [ 63 811]]\n"
     ]
    }
   ],
   "source": [
    "y_pred = dtree_model.predict(X_test)\n",
    "y_pred_train = dtree_model.predict(X_train)\n",
    "print('Decision Tree Testing Accuracy:', metrics.accuracy_score(y_test, y_pred))\n",
    "print('Decision Tree Training Accuracy:',metrics.accuracy_score(y_train, y_pred_train))\n",
    "print('---Confusion Matrix---')\n",
    "print(metrics.confusion_matrix(y_true=y_test, y_pred=preds > .5))"
   ]
  },
  {
   "cell_type": "markdown",
   "metadata": {},
   "source": [
    "### 7-a. Random Forest Model"
   ]
  },
  {
   "cell_type": "code",
   "execution_count": 95,
   "metadata": {},
   "outputs": [
    {
     "data": {
      "text/plain": [
       "0.9942276005657033"
      ]
     },
     "execution_count": 95,
     "metadata": {},
     "output_type": "execute_result"
    }
   ],
   "source": [
    "#split data according to original dataset\n",
    "\n",
    "X_train, X_test, y_train, y_test = train_test_split(X_res, y_res, test_size=0.2,random_state=123)\n",
    "\n",
    "#Import Random Forest Model\n",
    "from sklearn.ensemble import RandomForestClassifier\n",
    "\n",
    "#Create a Gaussian Classifier\n",
    "rf_clf = RandomForestClassifier(n_estimators=100)\n",
    "\n",
    "#Train the model using the training sets y_pred=clf.predict(X_test)\n",
    "rf_model = rf_clf.fit(X_train,y_train)\n",
    "\n",
    "rf_pred_prob = rf_model.predict_proba(X_test)\n",
    "preds = rf_pred_prob[:,1]\n",
    "fpr_rf, tpr_rf, threshold_rf = metrics.roc_curve(y_test, preds)\n",
    "roc_auc_rf = metrics.auc(fpr_rf, tpr_rf)\n",
    "roc_auc_rf"
   ]
  },
  {
   "cell_type": "code",
   "execution_count": 96,
   "metadata": {},
   "outputs": [
    {
     "name": "stdout",
     "output_type": "stream",
     "text": [
      "RandForest Testing Accuracy: 0.9644729178800233\n",
      "RandForest Training Accuracy: 1.0\n",
      "---Confusion Matrix---\n",
      "[[826  17]\n",
      " [ 44 830]]\n"
     ]
    }
   ],
   "source": [
    "rf_y_pred = rf_clf.predict(X_test)\n",
    "rf_pred_train = rf_clf.predict(X_train)\n",
    "print('RandForest Testing Accuracy:', metrics.accuracy_score(y_test, rf_y_pred))\n",
    "print('RandForest Training Accuracy:',metrics.accuracy_score(y_train, rf_pred_train))\n",
    "print('---Confusion Matrix---')\n",
    "print(metrics.confusion_matrix(y_true=y_test, y_pred=preds > .5))"
   ]
  },
  {
   "cell_type": "markdown",
   "metadata": {},
   "source": [
    "### 7-b. Feature Important from Random Forest"
   ]
  },
  {
   "cell_type": "code",
   "execution_count": 97,
   "metadata": {},
   "outputs": [
    {
     "data": {
      "text/plain": [
       "total_day_charge                 0.221280\n",
       "number_customer_service_calls    0.179303\n",
       "international_plan_n             0.100914\n",
       "total_intl_calls                 0.082273\n",
       "total_eve_charge                 0.080682\n",
       "total_intl_charge                0.057444\n",
       "total_night_charge               0.055351\n",
       "num_of_voice_mail_messages       0.045405\n",
       "total_eve_calls                  0.040347\n",
       "account_length                   0.040230\n",
       "total_night_calls                0.039674\n",
       "total_day_calls                  0.038882\n",
       "area_code_415                    0.006833\n",
       "area_code_408                    0.005864\n",
       "area_code_510                    0.005517\n",
       "dtype: float64"
      ]
     },
     "execution_count": 97,
     "metadata": {},
     "output_type": "execute_result"
    }
   ],
   "source": [
    "feature_imp = pd.Series(rf_model.feature_importances_,index=feature_names).sort_values(ascending=False)\n",
    "feature_imp"
   ]
  },
  {
   "cell_type": "code",
   "execution_count": 98,
   "metadata": {},
   "outputs": [
    {
     "data": {
      "image/png": "[encoded data removed]",
      "text/plain": [
       "<Figure size 432x288 with 1 Axes>"
      ]
     },
     "metadata": {},
     "output_type": "display_data"
    }
   ],
   "source": [
    "# Creating a bar plot\n",
    "sns.barplot(x=feature_imp, y=feature_imp.index)\n",
    "# Add labels to your graph\n",
    "plt.xlabel('Feature Importance Score')\n",
    "plt.ylabel('Features')\n",
    "plt.title(\"Telecom Data - Feature Importance\")\n",
    "plt.show()"
   ]
  },
  {
   "cell_type": "markdown",
   "metadata": {},
   "source": [
    "### 8. Final LogReg Model, removing features below 2% important"
   ]
  },
  {
   "cell_type": "code",
   "execution_count": 99,
   "metadata": {},
   "outputs": [
    {
     "data": {
      "text/plain": [
       "0.8559261762638066"
      ]
     },
     "execution_count": 99,
     "metadata": {},
     "output_type": "execute_result"
    }
   ],
   "source": [
    "#re-fit model, removing features highlighted from elasticnet\n",
    "\n",
    "\n",
    "rf_predictors = ['account_length','num_of_voice_mail_messages','total_day_calls','total_day_charge',\n",
    "                 'total_eve_charge','total_night_calls','total_night_charge',\n",
    "                 'total_intl_calls','total_intl_charge','number_customer_service_calls','international_plan_n']\n",
    "#assign RandomForest predictors to balanced X data\n",
    "X_samp_randf = X_samp[rf_predictors]\n",
    "\n",
    "#split data\n",
    "X_train, X_test, y_train, y_test = train_test_split(X_samp_randf, y_res, test_size=0.2,random_state=123)\n",
    "\n",
    "\n",
    "lr_3 = LogisticRegression()\n",
    "model_3 = lr_3.fit(X_train, y_train)\n",
    "\n",
    "#calculate AUC of new model\n",
    "probs = model_3.predict_proba(X_test)\n",
    "preds = probs[:,1]\n",
    "fpr_3, tpr_3, threshold_3 = metrics.roc_curve(y_test, preds)\n",
    "roc_auc_3 = metrics.auc(fpr_3, tpr_3)\n",
    "roc_auc_3"
   ]
  },
  {
   "cell_type": "code",
   "execution_count": 100,
   "metadata": {},
   "outputs": [
    {
     "name": "stdout",
     "output_type": "stream",
     "text": [
      "RandForest Testing Accuracy: 0.7897495631916133\n",
      "RandForest Training Accuracy: 0.7830202417358381\n",
      "---Confusion Matrix---\n",
      "[[665 178]\n",
      " [183 691]]\n"
     ]
    }
   ],
   "source": [
    "y_pred = model_3.predict(X_test)\n",
    "y_pred_train = model_3.predict(X_train)\n",
    "print('RandForest Testing Accuracy:', metrics.accuracy_score(y_test, y_pred))\n",
    "print('RandForest Training Accuracy:',metrics.accuracy_score(y_train, y_pred_train))\n",
    "print('---Confusion Matrix---')\n",
    "print(metrics.confusion_matrix(y_true=y_test, y_pred=preds > .5))"
   ]
  },
  {
   "cell_type": "markdown",
   "metadata": {},
   "source": [
    "### 9. Cross-validate All models"
   ]
  },
  {
   "cell_type": "code",
   "execution_count": 101,
   "metadata": {},
   "outputs": [
    {
     "name": "stdout",
     "output_type": "stream",
     "text": [
      "Cross-validated AUC for KNN model is 0.9256208477333586\n",
      "Cross-validated AUC for 1st LogReg model is 0.8415368239660427\n",
      "Cross-validated AUC for Refitted LogReg model is 0.841789792491981\n",
      "Cross-validated AUC for 2nd ElasticNet model is 0.8417226961190067\n",
      "Cross-validated AUC for Decision Tree model is 0.9126281453867661\n",
      "Cross-validated AUC for Random Forest model is 0.992933166801149\n",
      "Cross-validated AUC for Final LogReg is 0.8418178035991449\n"
     ]
    }
   ],
   "source": [
    "#cross-validate all models with optimal number of folds - 4 folds.\n",
    "cv_knn = cross_val_score(knn_model, X_res, y_res, cv=4, scoring='roc_auc').mean()\n",
    "cv_lr = cross_val_score(model, X_res, y_res, cv=4, scoring='roc_auc').mean()\n",
    "cv_lr_2nd = cross_val_score(model_2, X_samp_f, y_res, cv=4, scoring='roc_auc').mean()\n",
    "cv_enet = cross_val_score(clf_model_2, X_res, y_res, cv=4, scoring='roc_auc').mean()\n",
    "cv_dtree = cross_val_score(dtree_model, X_samp_f, y_res, cv=4, scoring='roc_auc').mean()\n",
    "cv_rf = cross_val_score(rf_model, X_samp_f, y_res, cv=4, scoring='roc_auc').mean()\n",
    "cv_lr_3rd = cross_val_score(model_3, X_samp_randf, y_res, cv=4, scoring='roc_auc').mean()\n",
    "\n",
    "print('Cross-validated AUC for KNN model is', cv_knn)\n",
    "print('Cross-validated AUC for 1st LogReg model is', cv_lr)\n",
    "print('Cross-validated AUC for Refitted LogReg model is', cv_lr_2nd) \n",
    "print('Cross-validated AUC for 2nd ElasticNet model is', cv_enet)\n",
    "print('Cross-validated AUC for Decision Tree model is', cv_dtree)\n",
    "print('Cross-validated AUC for Random Forest model is', cv_rf)\n",
    "print('Cross-validated AUC for Final LogReg is', cv_lr_3rd)"
   ]
  },
  {
   "cell_type": "markdown",
   "metadata": {},
   "source": [
    "### 10. Plot ROC and AUC for all models"
   ]
  },
  {
   "cell_type": "code",
   "execution_count": 102,
   "metadata": {},
   "outputs": [
    {
     "data": {
      "image/png": "[encoded data removed]",
      "text/plain": [
       "<Figure size 648x432 with 1 Axes>"
      ]
     },
     "metadata": {},
     "output_type": "display_data"
    }
   ],
   "source": [
    "#Plot AUC for all models\n",
    "fig, ax = plt.subplots(figsize=(9, 6))\n",
    "plt.title('ROC Curve with Cross-validated AUC scores')\n",
    "plt.plot(fpr, tpr, 'g', label = 'Log_Reg AUC = %0.5f' % cv_lr)\n",
    "plt.plot(fpr_2, tpr_2, 'k', label = 'Re-fitted Log_Reg AUC = %0.5f' % cv_lr_2nd)\n",
    "plt.plot(fpr_knn, tpr_knn, 'm', label = 'KNN AUC = %0.5f' % cv_knn)\n",
    "plt.plot(fpr_enet_2, tpr_enet_2, 'y', label = 'ENET AUC = %0.5f' % cv_enet)\n",
    "plt.plot(fpr_tree, tpr_tree, 'c', label = 'Decision Tree AUC = %0.5f' % cv_dtree)\n",
    "plt.plot(fpr_rf, tpr_rf, 'b', label = 'Random Forest AUC = %0.5f' % cv_rf)\n",
    "plt.plot(fpr_3, tpr_3, 'w', label = 'Final Log_Reg AUC = %0.5f' % cv_lr_3rd)\n",
    "plt.legend(loc = 'lower right')\n",
    "plt.plot([0, 1], [0, 1],'r--')\n",
    "plt.xlim([0, 1])\n",
    "plt.ylim([0, 1])\n",
    "plt.ylabel('True Positive Rate')\n",
    "plt.xlabel('False Positive Rate')\n",
    "plt.show()"
   ]
  },
  {
   "cell_type": "markdown",
   "metadata": {},
   "source": [
    "> Observing AUC's of our models, KNN and Decision tree models have better discrimination ability."
   ]
  }
 ],
 "metadata": {
  "anaconda-cloud": {},
  "kernelspec": {
   "display_name": "Python 3",
   "language": "python",
   "name": "python3"
  },
  "language_info": {
   "codemirror_mode": {
    "name": "ipython",
    "version": 3
   },
   "file_extension": ".py",
   "mimetype": "text/x-python",
   "name": "python",
   "nbconvert_exporter": "python",
   "pygments_lexer": "ipython3",
   "version": "3.6.5"
  }
 },
 "nbformat": 4,
 "nbformat_minor": 2
}
