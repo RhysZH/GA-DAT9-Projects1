{
 "cells": [
  {
   "cell_type": "markdown",
   "metadata": {},
   "source": [
    "\n",
    "# Project 4: Churn Prediction Modelling \n",
    "\n",
    "---"
   ]
  },
  {
   "cell_type": "code",
   "execution_count": 16,
   "metadata": {
    "scrolled": true
   },
   "outputs": [],
   "source": [
    "import pandas as pd\n",
    "\n",
    "data = r\"/Users/meisan/Documents/GitHub/GA-DAT9-Projects1/R_Morgan_Project4_Files/telecom_data.csv\"\n",
    "df = pd.read_csv(data)"
   ]
  },
  {
   "cell_type": "code",
   "execution_count": 17,
   "metadata": {},
   "outputs": [],
   "source": [
    "import matplotlib.pyplot as plt\n",
    "import seaborn as sns\n",
    "import pandas as pd\n",
    "import numpy as np\n",
    "\n",
    "% matplotlib inline"
   ]
  },
  {
   "cell_type": "code",
   "execution_count": 18,
   "metadata": {},
   "outputs": [],
   "source": [
    "feature_names = ['account_length','num_of_voice_mail_messages','total_day_calls','total_day_charge',\n",
    "                 'total_eve_calls','total_eve_charge','total_night_calls','total_night_charge',\n",
    "                 'total_intl_calls','total_intl_charge','number_customer_service_calls','international_plan_n',\n",
    "                 'area_code_408','area_code_415','area_code_510']\n",
    "\n",
    "predictors = ['account_length','total_intl_charge','number_customer_service_calls',\n",
    "              'total_day_calls','area_code_408','area_code_415','area_code_510']\n",
    "\n",
    "X = df[feature_names]\n",
    "y = df['churn_n']\n"
   ]
  },
  {
   "cell_type": "code",
   "execution_count": 19,
   "metadata": {},
   "outputs": [],
   "source": [
    "from sklearn.preprocessing import StandardScaler\n",
    "\n",
    "ss = StandardScaler()\n",
    "\n",
    "# use the \"fit_transform\" function to standardize the X design matrix\n",
    "Xs = ss.fit_transform(X)"
   ]
  },
  {
   "cell_type": "markdown",
   "metadata": {},
   "source": [
    "#### Use Smote-Tomek to resample data"
   ]
  },
  {
   "cell_type": "code",
   "execution_count": 20,
   "metadata": {},
   "outputs": [
    {
     "name": "stdout",
     "output_type": "stream",
     "text": [
      "Original dataset shape Counter({0: 4293, 1: 707})\n",
      "Resampled dataset shape Counter({0: 4292, 1: 4292})\n"
     ]
    }
   ],
   "source": [
    "#from collections import Counter\n",
    "from imblearn.combine import SMOTETomek\n",
    "smt = SMOTETomek(random_state=123)\n",
    "X_res, y_res = smt.fit_sample(Xs, y)\n",
    "print('Original dataset shape {}'.format(Counter(y)))\n",
    "print('Resampled dataset shape {}'.format(Counter(y_res)))\n",
    "X_samp = pd.DataFrame(X_res, columns = feature_names)\n",
    "y_samp = pd.DataFrame(y_res, columns = ['churn_n'])"
   ]
  },
  {
   "cell_type": "code",
   "execution_count": 21,
   "metadata": {},
   "outputs": [
    {
     "data": {
      "text/html": [
       "<div>\n",
       "<style scoped>\n",
       "    .dataframe tbody tr th:only-of-type {\n",
       "        vertical-align: middle;\n",
       "    }\n",
       "\n",
       "    .dataframe tbody tr th {\n",
       "        vertical-align: top;\n",
       "    }\n",
       "\n",
       "    .dataframe thead th {\n",
       "        text-align: right;\n",
       "    }\n",
       "</style>\n",
       "<table border=\"1\" class=\"dataframe\">\n",
       "  <thead>\n",
       "    <tr style=\"text-align: right;\">\n",
       "      <th></th>\n",
       "      <th>account_length</th>\n",
       "      <th>num_of_voice_mail_messages</th>\n",
       "      <th>total_day_calls</th>\n",
       "      <th>total_day_charge</th>\n",
       "      <th>total_eve_calls</th>\n",
       "      <th>total_eve_charge</th>\n",
       "      <th>total_night_calls</th>\n",
       "      <th>total_night_charge</th>\n",
       "      <th>total_intl_calls</th>\n",
       "      <th>total_intl_charge</th>\n",
       "      <th>number_customer_service_calls</th>\n",
       "      <th>international_plan_n</th>\n",
       "      <th>area_code_408</th>\n",
       "      <th>area_code_415</th>\n",
       "      <th>area_code_510</th>\n",
       "    </tr>\n",
       "  </thead>\n",
       "  <tbody>\n",
       "    <tr>\n",
       "      <th>0</th>\n",
       "      <td>0.698941</td>\n",
       "      <td>1.273145</td>\n",
       "      <td>0.502824</td>\n",
       "      <td>1.574074</td>\n",
       "      <td>-0.060077</td>\n",
       "      <td>-0.063849</td>\n",
       "      <td>-0.446928</td>\n",
       "      <td>0.876286</td>\n",
       "      <td>-0.584236</td>\n",
       "      <td>-0.095509</td>\n",
       "      <td>-0.436676</td>\n",
       "      <td>-0.323240</td>\n",
       "      <td>-0.580122</td>\n",
       "      <td>1.002002</td>\n",
       "      <td>-0.576119</td>\n",
       "    </tr>\n",
       "    <tr>\n",
       "      <th>1</th>\n",
       "      <td>0.169849</td>\n",
       "      <td>1.346973</td>\n",
       "      <td>1.158422</td>\n",
       "      <td>-0.347082</td>\n",
       "      <td>0.141693</td>\n",
       "      <td>-0.101089</td>\n",
       "      <td>0.154374</td>\n",
       "      <td>1.069818</td>\n",
       "      <td>-0.584236</td>\n",
       "      <td>1.245982</td>\n",
       "      <td>-0.436676</td>\n",
       "      <td>-0.323240</td>\n",
       "      <td>-0.580122</td>\n",
       "      <td>1.002002</td>\n",
       "      <td>-0.576119</td>\n",
       "    </tr>\n",
       "    <tr>\n",
       "      <th>2</th>\n",
       "      <td>0.925695</td>\n",
       "      <td>-0.572549</td>\n",
       "      <td>0.704546</td>\n",
       "      <td>1.171286</td>\n",
       "      <td>0.494791</td>\n",
       "      <td>-1.572084</td>\n",
       "      <td>0.204483</td>\n",
       "      <td>-0.746737</td>\n",
       "      <td>0.229917</td>\n",
       "      <td>0.695971</td>\n",
       "      <td>-1.202236</td>\n",
       "      <td>-0.323240</td>\n",
       "      <td>-0.580122</td>\n",
       "      <td>1.002002</td>\n",
       "      <td>-0.576119</td>\n",
       "    </tr>\n",
       "    <tr>\n",
       "      <th>3</th>\n",
       "      <td>-0.409634</td>\n",
       "      <td>-0.572549</td>\n",
       "      <td>-1.463971</td>\n",
       "      <td>2.210457</td>\n",
       "      <td>-0.614946</td>\n",
       "      <td>-2.745155</td>\n",
       "      <td>-0.547145</td>\n",
       "      <td>-0.069377</td>\n",
       "      <td>1.044069</td>\n",
       "      <td>-1.329681</td>\n",
       "      <td>0.328885</td>\n",
       "      <td>3.093675</td>\n",
       "      <td>1.723777</td>\n",
       "      <td>-0.998002</td>\n",
       "      <td>-0.576119</td>\n",
       "    </tr>\n",
       "    <tr>\n",
       "      <th>4</th>\n",
       "      <td>-0.636388</td>\n",
       "      <td>-0.572549</td>\n",
       "      <td>0.654116</td>\n",
       "      <td>-0.252115</td>\n",
       "      <td>1.100103</td>\n",
       "      <td>-1.034426</td>\n",
       "      <td>1.056327</td>\n",
       "      <td>-0.267307</td>\n",
       "      <td>-0.584236</td>\n",
       "      <td>-0.055264</td>\n",
       "      <td>1.094445</td>\n",
       "      <td>3.093675</td>\n",
       "      <td>-0.580122</td>\n",
       "      <td>1.002002</td>\n",
       "      <td>-0.576119</td>\n",
       "    </tr>\n",
       "  </tbody>\n",
       "</table>\n",
       "</div>"
      ],
      "text/plain": [
       "   account_length  num_of_voice_mail_messages  total_day_calls  \\\n",
       "0        0.698941                    1.273145         0.502824   \n",
       "1        0.169849                    1.346973         1.158422   \n",
       "2        0.925695                   -0.572549         0.704546   \n",
       "3       -0.409634                   -0.572549        -1.463971   \n",
       "4       -0.636388                   -0.572549         0.654116   \n",
       "\n",
       "   total_day_charge  total_eve_calls  total_eve_charge  total_night_calls  \\\n",
       "0          1.574074        -0.060077         -0.063849          -0.446928   \n",
       "1         -0.347082         0.141693         -0.101089           0.154374   \n",
       "2          1.171286         0.494791         -1.572084           0.204483   \n",
       "3          2.210457        -0.614946         -2.745155          -0.547145   \n",
       "4         -0.252115         1.100103         -1.034426           1.056327   \n",
       "\n",
       "   total_night_charge  total_intl_calls  total_intl_charge  \\\n",
       "0            0.876286         -0.584236          -0.095509   \n",
       "1            1.069818         -0.584236           1.245982   \n",
       "2           -0.746737          0.229917           0.695971   \n",
       "3           -0.069377          1.044069          -1.329681   \n",
       "4           -0.267307         -0.584236          -0.055264   \n",
       "\n",
       "   number_customer_service_calls  international_plan_n  area_code_408  \\\n",
       "0                      -0.436676             -0.323240      -0.580122   \n",
       "1                      -0.436676             -0.323240      -0.580122   \n",
       "2                      -1.202236             -0.323240      -0.580122   \n",
       "3                       0.328885              3.093675       1.723777   \n",
       "4                       1.094445              3.093675      -0.580122   \n",
       "\n",
       "   area_code_415  area_code_510  \n",
       "0       1.002002      -0.576119  \n",
       "1       1.002002      -0.576119  \n",
       "2       1.002002      -0.576119  \n",
       "3      -0.998002      -0.576119  \n",
       "4       1.002002      -0.576119  "
      ]
     },
     "execution_count": 21,
     "metadata": {},
     "output_type": "execute_result"
    }
   ],
   "source": [
    "X_samp.head()"
   ]
  },
  {
   "cell_type": "code",
   "execution_count": 22,
   "metadata": {
    "scrolled": false
   },
   "outputs": [
    {
     "data": {
      "text/plain": [
       "<matplotlib.axes._subplots.AxesSubplot at 0x1110c0668>"
      ]
     },
     "execution_count": 22,
     "metadata": {},
     "output_type": "execute_result"
    },
    {
     "data": {
      "image/png": "[encoded data removed]",
      "text/plain": [
       "<Figure size 432x288 with 2 Axes>"
      ]
     },
     "metadata": {},
     "output_type": "display_data"
    }
   ],
   "source": [
    "#get visual distributions of all metrics\n",
    "sns.heatmap(X_samp.corr(),vmin=-1,vmax=1,center=0,cmap='RdBu')"
   ]
  },
  {
   "cell_type": "markdown",
   "metadata": {},
   "source": [
    "1. CRIM, ZN and RM do not have strong correlation, so we can use them as model features."
   ]
  },
  {
   "cell_type": "markdown",
   "metadata": {},
   "source": [
    "### Logisitic Regression Modelling"
   ]
  },
  {
   "cell_type": "code",
   "execution_count": 23,
   "metadata": {},
   "outputs": [
    {
     "name": "stdout",
     "output_type": "stream",
     "text": [
      "(6867, 15) (6867,)\n",
      "(1717, 15) (1717,)\n"
     ]
    }
   ],
   "source": [
    "from sklearn.linear_model import LogisticRegression\n",
    "from sklearn.model_selection import train_test_split\n",
    "\n",
    "\n",
    "# create training and testing vars, check shape\n",
    "X_train, X_test, y_train, y_test = train_test_split(X_res, y_res, test_size=0.2,random_state=123)\n",
    "print (X_train.shape, y_train.shape)\n",
    "print (X_test.shape, y_test.shape)"
   ]
  },
  {
   "cell_type": "code",
   "execution_count": 24,
   "metadata": {},
   "outputs": [
    {
     "data": {
      "text/plain": [
       "sklearn.linear_model.logistic.LogisticRegression"
      ]
     },
     "execution_count": 24,
     "metadata": {},
     "output_type": "execute_result"
    }
   ],
   "source": [
    "# Make an instance of a LinearRegression object.\n",
    "lr = LogisticRegression()\n",
    "type(lr)"
   ]
  },
  {
   "cell_type": "code",
   "execution_count": 25,
   "metadata": {
    "scrolled": true
   },
   "outputs": [],
   "source": [
    "# help(lr)\n"
   ]
  },
  {
   "cell_type": "code",
   "execution_count": 26,
   "metadata": {},
   "outputs": [
    {
     "name": "stdout",
     "output_type": "stream",
     "text": [
      "[-0.68334051]\n",
      "[[ 0.06034927 -0.46044573  0.04311776  0.77387899 -0.01223031  0.43202967\n",
      "  -0.06308781  0.25381826 -0.1568363   0.23789095  0.87602113  0.71344466\n",
      "   0.02847505 -0.03032511  0.00648021]]\n"
     ]
    }
   ],
   "source": [
    "model = lr.fit(X_train, y_train)\n",
    "print(lr.intercept_)\n",
    "print(lr.coef_)"
   ]
  },
  {
   "cell_type": "code",
   "execution_count": 27,
   "metadata": {
    "scrolled": false
   },
   "outputs": [
    {
     "data": {
      "text/plain": [
       "array([0, 1, 1, ..., 1, 0, 1])"
      ]
     },
     "execution_count": 27,
     "metadata": {},
     "output_type": "execute_result"
    }
   ],
   "source": [
    "#assign array with predicted 'y' results to 'y_predicted'\n",
    "y_pred = lr.predict(X_test)\n",
    "y_pred"
   ]
  },
  {
   "cell_type": "code",
   "execution_count": 28,
   "metadata": {},
   "outputs": [],
   "source": [
    "y_pred_prob = lr.predict_proba(X_test)[:, 1]"
   ]
  },
  {
   "cell_type": "code",
   "execution_count": 29,
   "metadata": {
    "scrolled": true
   },
   "outputs": [
    {
     "data": {
      "text/plain": [
       "(1717, 2)"
      ]
     },
     "execution_count": 29,
     "metadata": {},
     "output_type": "execute_result"
    }
   ],
   "source": [
    "lo_table = pd.DataFrame({'Probability':list(y_pred_prob),'Odds':list(y_pred_prob/(1-y_pred_prob))})\n",
    "lo_table.shape"
   ]
  },
  {
   "cell_type": "code",
   "execution_count": 30,
   "metadata": {},
   "outputs": [
    {
     "data": {
      "text/plain": [
       "array([[660, 183],\n",
       "       [192, 682]])"
      ]
     },
     "execution_count": 30,
     "metadata": {},
     "output_type": "execute_result"
    }
   ],
   "source": [
    "from sklearn import metrics\n",
    "metrics.confusion_matrix(y_true=y_test, y_pred=y_pred > .5)"
   ]
  },
  {
   "cell_type": "code",
   "execution_count": 31,
   "metadata": {
    "scrolled": true
   },
   "outputs": [
    {
     "data": {
      "image/png": "[encoded data removed]",
      "text/plain": [
       "<Figure size 432x288 with 1 Axes>"
      ]
     },
     "metadata": {},
     "output_type": "display_data"
    }
   ],
   "source": [
    "fig, ax = plt.subplots()\n",
    "ax.scatter(y_pred_prob, y_test, edgecolors=(0,0,0))\n",
    "ax.plot([y.min(),y.max()],[y.min(),y.max()], 'k--', lw=4)\n",
    "ax.set_xlabel('Measured')\n",
    "ax.set_ylabel('Predicted')\n",
    "plt.show()"
   ]
  },
  {
   "cell_type": "code",
   "execution_count": 32,
   "metadata": {
    "scrolled": true
   },
   "outputs": [
    {
     "name": "stdout",
     "output_type": "stream",
     "text": [
      "Score: 0.7815958066394875\n",
      "Score: 0.7849133537206932\n"
     ]
    }
   ],
   "source": [
    "#print accuracy score of model\n",
    "print('Score:', model.score(X_test,y_test))\n",
    "print('Score:', model.score(X_train,y_train))"
   ]
  },
  {
   "cell_type": "code",
   "execution_count": 33,
   "metadata": {},
   "outputs": [],
   "source": [
    "from sklearn.model_selection import cross_val_predict\n",
    "from sklearn.model_selection import cross_val_score\n",
    "from sklearn import metrics\n",
    "\n",
    "n_scores = pd.DataFrame(columns=['no_folds','scores'])"
   ]
  },
  {
   "cell_type": "code",
   "execution_count": 34,
   "metadata": {},
   "outputs": [],
   "source": [
    "scores = []\n",
    "no_folds = []\n",
    "for n in range(2,51):\n",
    "    predicted = cross_val_predict(model, X_res, y_res, cv=n)\n",
    "    score = metrics.accuracy_score(y_res, predicted)\n",
    "    no_folds.append(n)\n",
    "    scores.append(score)"
   ]
  },
  {
   "cell_type": "code",
   "execution_count": 35,
   "metadata": {},
   "outputs": [
    {
     "data": {
      "text/plain": [
       "<matplotlib.axes._subplots.AxesSubplot at 0x1a1f41dda0>"
      ]
     },
     "execution_count": 35,
     "metadata": {},
     "output_type": "execute_result"
    },
    {
     "data": {
      "image/png": "[encoded data removed]",
      "text/plain": [
       "<Figure size 432x288 with 1 Axes>"
      ]
     },
     "metadata": {},
     "output_type": "display_data"
    }
   ],
   "source": [
    "s = {'no_folds':no_folds, 'scores':scores}\n",
    "n_scores = pd.DataFrame(s)\n",
    "n_scores.plot('no_folds', 'scores')"
   ]
  },
  {
   "cell_type": "code",
   "execution_count": 36,
   "metadata": {},
   "outputs": [
    {
     "name": "stdout",
     "output_type": "stream",
     "text": [
      "  |    0    1 |\n",
      "--+-----------+\n",
      "0 |<3322> 970 |\n",
      "1 |  880<3412>|\n",
      "--+-----------+\n",
      "(row = reference; col = test)\n",
      "\n"
     ]
    }
   ],
   "source": [
    "from nltk import ConfusionMatrix \n",
    "print (ConfusionMatrix(list(y_res), list(predicted)))"
   ]
  },
  {
   "cell_type": "code",
   "execution_count": 37,
   "metadata": {},
   "outputs": [
    {
     "name": "stdout",
     "output_type": "stream",
     "text": [
      "--------2-fold stats --------\n",
      "Cross-validated scores: [0.76833527 0.77972028]\n",
      "mean of 2-fold CV scores: 0.7740277766471014\n",
      "Variance of 2-fold Cross validation: 3.2404591238143896e-05\n",
      "\n",
      "--------3-fold stats --------\n",
      "Cross-validated scores: [0.77835951 0.78321678 0.76573427]\n",
      "mean of 3-fold CV scores: 0.7757701867649511\n",
      "Variance of 3-fold Cross validation: 5.429203714174879e-05\n",
      "\n",
      "--------4-fold stats --------\n",
      "Cross-validated scores: [0.7627907  0.78837209 0.80652681 0.76168224]\n",
      "mean of 4-fold CV scores: 0.7798429600537838\n",
      "Variance of 4-fold Cross validation: 0.00035134126707713495\n",
      "\n",
      "--------5-fold stats --------\n",
      "Cross-validated scores: [0.76162791 0.7877907  0.79069767 0.79008746 0.77192982]\n",
      "mean of 5-fold CV scores: 0.7804267134376044\n",
      "Variance of 5-fold Cross validation: 0.00013572864822143838\n",
      "\n",
      "--------6-fold stats --------\n",
      "Cross-validated scores: [0.75261324 0.82229965 0.75609756 0.8041958  0.7754386  0.7754386 ]\n",
      "mean of 6-fold CV scores: 0.7810139083566555\n",
      "Variance of 6-fold Cross validation: 0.0006219172330278593\n",
      "\n",
      "--------7-fold stats --------\n",
      "Cross-validated scores: [0.77642276 0.79268293 0.79268293 0.77142857 0.82040816 0.76326531\n",
      " 0.76639344]\n",
      "mean of 7-fold CV scores: 0.7833263001893508\n",
      "Variance of 7-fold Cross validation: 0.00034693391429963715\n",
      "\n",
      "--------8-fold stats --------\n",
      "Cross-validated scores: [0.76388889 0.77777778 0.81860465 0.74766355 0.78037383 0.8364486\n",
      " 0.76168224 0.77102804]\n",
      "mean of 8-fold CV scores: 0.7821834474389625\n",
      "Variance of 8-fold Cross validation: 0.0007956189933268686\n",
      "\n",
      "--------9-fold stats --------\n",
      "Cross-validated scores: [0.75       0.79057592 0.81675393 0.76439791 0.76963351 0.82198953\n",
      " 0.77368421 0.77894737 0.77368421]\n",
      "mean of 9-fold CV scores: 0.782185174979333\n",
      "Variance of 9-fold Cross validation: 0.0005016247426773273\n",
      "\n",
      "--------10-fold stats --------\n",
      "Cross-validated scores: [0.75144509 0.78034682 0.82080925 0.77325581 0.77777778 0.78947368\n",
      " 0.8245614  0.74853801 0.77777778 0.76608187]\n",
      "mean of 10-fold CV scores: 0.7810067496338642\n",
      "Variance of 10-fold Cross validation: 0.0005785163654446429\n",
      "\n",
      "--------11-fold stats --------\n",
      "Cross-validated scores: [0.76433121 0.76433121 0.82165605 0.84076433 0.75159236 0.78846154\n",
      " 0.75641026 0.83870968 0.75483871 0.76129032 0.77419355]\n",
      "mean of 11-fold CV scores: 0.7833253829247254\n",
      "Variance of 11-fold Cross validation: 0.0010632421896710953\n",
      "\n",
      "--------12-fold stats --------\n",
      "Cross-validated scores: [0.79166667 0.74305556 0.79861111 0.86013986 0.74825175 0.76923077\n",
      " 0.7972028  0.81118881 0.8041958  0.74825175 0.77464789 0.75352113]\n",
      "mean of 12-fold CV scores: 0.7833303238232815\n",
      "Variance of 12-fold Cross validation: 0.0010710376090428194\n",
      "\n",
      "--------13-fold stats --------\n",
      "Cross-validated scores: [0.81203008 0.7443609  0.77443609 0.83333333 0.81060606 0.76515152\n",
      " 0.8030303  0.74242424 0.84090909 0.76515152 0.77272727 0.76335878\n",
      " 0.77099237]\n",
      "mean of 13-fold CV scores: 0.784500888156975\n",
      "Variance of 13-fold Cross validation: 0.0009499242008369969\n",
      "\n",
      "--------14-fold stats --------\n",
      "Cross-validated scores: [0.83870968 0.75       0.74193548 0.80487805 0.84552846 0.73170732\n",
      " 0.73770492 0.80327869 0.78688525 0.86065574 0.73770492 0.80327869\n",
      " 0.7295082  0.7704918 ]\n",
      "mean of 14-fold CV scores: 0.7815905127964176\n",
      "Variance of 14-fold Cross validation: 0.001918537257140799\n",
      "\n",
      "--------15-fold stats --------\n",
      "Cross-validated scores: [0.82758621 0.73275862 0.75       0.8173913  0.84210526 0.71929825\n",
      " 0.78947368 0.81578947 0.76315789 0.81578947 0.78947368 0.75438596\n",
      " 0.78070175 0.72807018 0.77192982]\n",
      "mean of 15-fold CV scores: 0.7798607713687017\n",
      "Variance of 15-fold Cross validation: 0.0013852744657499511\n",
      "\n",
      "--------16-fold stats --------\n",
      "Cross-validated scores: [0.83333333 0.72222222 0.74074074 0.81481481 0.85185185 0.81481481\n",
      " 0.75       0.74074074 0.81481481 0.76851852 0.85046729 0.78301887\n",
      " 0.74528302 0.78301887 0.71698113 0.78301887]\n",
      "mean of 16-fold CV scores: 0.7821024935180287\n",
      "Variance of 16-fold Cross validation: 0.0018246825242788228\n",
      "\n",
      "--------17-fold stats --------\n",
      "Cross-validated scores: [0.82352941 0.73529412 0.73529412 0.82352941 0.83333333 0.85294118\n",
      " 0.70588235 0.77227723 0.82178218 0.74257426 0.8        0.86\n",
      " 0.72       0.79       0.74       0.72       0.81      ]\n",
      "mean of 17-fold CV scores: 0.7815551520549979\n",
      "Variance of 17-fold Cross validation: 0.0024241235209960265\n",
      "\n",
      "--------18-fold stats --------\n",
      "Cross-validated scores: [0.8125     0.72916667 0.77083333 0.8125     0.80208333 0.85416667\n",
      " 0.76041667 0.77083333 0.72916667 0.8125     0.78947368 0.85263158\n",
      " 0.82105263 0.69473684 0.78947368 0.76595745 0.71276596 0.82978723]\n",
      "mean of 18-fold CV scores: 0.7838914292231762\n",
      "Variance of 18-fold Cross validation: 0.0020116949376048007\n",
      "\n",
      "--------19-fold stats --------\n",
      "Cross-validated scores: [0.81318681 0.73626374 0.78021978 0.78021978 0.8021978  0.84615385\n",
      " 0.84615385 0.71111111 0.76666667 0.8        0.74444444 0.75555556\n",
      " 0.9        0.77777778 0.73333333 0.77777778 0.75555556 0.73333333\n",
      " 0.82222222]\n",
      "mean of 19-fold CV scores: 0.7832722832722833\n",
      "Variance of 19-fold Cross validation: 0.002125639071850755\n",
      "\n",
      "--------20-fold stats --------\n",
      "Cross-validated scores: [0.8045977  0.74712644 0.82758621 0.73255814 0.75581395 0.86046512\n",
      " 0.88372093 0.65116279 0.81395349 0.73255814 0.81395349 0.79069767\n",
      " 0.80232558 0.86046512 0.76470588 0.75294118 0.8        0.74117647\n",
      " 0.71764706 0.82352941]\n",
      "mean of 20-fold CV scores: 0.783849238171612\n",
      "Variance of 20-fold Cross validation: 0.003031059561392224\n",
      "\n",
      "--------21-fold stats --------\n",
      "Cross-validated scores: [0.80722892 0.73493976 0.84337349 0.69512195 0.82926829 0.84146341\n",
      " 0.84146341 0.75609756 0.76829268 0.74390244 0.80487805 0.73170732\n",
      " 0.7804878  0.87654321 0.81481481 0.74074074 0.75308642 0.83950617\n",
      " 0.71604938 0.72839506 0.83950617]\n",
      "mean of 21-fold CV scores: 0.7850889081339338\n",
      "Variance of 21-fold Cross validation: 0.0026203393440125946\n",
      "\n",
      "--------22-fold stats --------\n",
      "Cross-validated scores: [0.79746835 0.74683544 0.82278481 0.72151899 0.82278481 0.82278481\n",
      " 0.84810127 0.84615385 0.66666667 0.83333333 0.71794872 0.84615385\n",
      " 0.74358974 0.75641026 0.91025641 0.79487179 0.72727273 0.76623377\n",
      " 0.77922078 0.74025974 0.72727273 0.83116883]\n",
      "mean of 22-fold CV scores: 0.784958712173902\n",
      "Variance of 22-fold Cross validation: 0.0032601587005772286\n",
      "\n",
      "--------23-fold stats --------\n",
      "Cross-validated scores: [0.78666667 0.8        0.78666667 0.70666667 0.81333333 0.8\n",
      " 0.84       0.89333333 0.69333333 0.76       0.76       0.8\n",
      " 0.77333333 0.74666667 0.85333333 0.85135135 0.75675676 0.7027027\n",
      " 0.7972973  0.78378378 0.74324324 0.72972973 0.81081081]\n",
      "mean of 23-fold CV scores: 0.7821308264786526\n",
      "Variance of 23-fold Cross validation: 0.002422145724122937\n",
      "\n",
      "--------24-fold stats --------\n",
      "Cross-validated scores: [0.79452055 0.79452055 0.76712329 0.72222222 0.79166667 0.76388889\n",
      " 0.875      0.84722222 0.76388889 0.70833333 0.8028169  0.71830986\n",
      " 0.85915493 0.71830986 0.78873239 0.87323944 0.84507042 0.73239437\n",
      " 0.74647887 0.74647887 0.77464789 0.76056338 0.71830986 0.83098592]\n",
      "mean of 24-fold CV scores: 0.7809949818137643\n",
      "Variance of 24-fold Cross validation: 0.002581831665321926\n",
      "\n",
      "--------25-fold stats --------\n",
      "Cross-validated scores: [0.8115942  0.79710145 0.72463768 0.75362319 0.7826087  0.7826087\n",
      " 0.85507246 0.84057971 0.85507246 0.65217391 0.84057971 0.75362319\n",
      " 0.7826087  0.7826087  0.7826087  0.75362319 0.89855072 0.82608696\n",
      " 0.69117647 0.80882353 0.76470588 0.75       0.79411765 0.70588235\n",
      " 0.8358209 ]\n",
      "mean of 25-fold CV scores: 0.7850355638686364\n",
      "Variance of 25-fold Cross validation: 0.0030254130317934926\n",
      "\n",
      "--------26-fold stats --------\n",
      "Cross-validated scores: [0.80597015 0.8358209  0.71641791 0.79104478 0.74626866 0.80597015\n",
      " 0.82089552 0.85074627 0.88059701 0.68656716 0.76119403 0.74242424\n",
      " 0.75757576 0.86363636 0.71212121 0.75757576 0.87692308 0.84615385\n",
      " 0.76923077 0.73846154 0.72307692 0.81538462 0.73846154 0.76923077\n",
      " 0.70769231 0.81538462]\n",
      "mean of 26-fold CV scores: 0.7821086873325681\n",
      "Variance of 26-fold Cross validation: 0.0029991756273719675\n",
      "\n",
      "--------27-fold stats --------\n",
      "Cross-validated scores: [0.81538462 0.84615385 0.66153846 0.86153846 0.67692308 0.83076923\n",
      " 0.796875   0.828125   0.890625   0.765625   0.65079365 0.82539683\n",
      " 0.73015873 0.80952381 0.77777778 0.79365079 0.76190476 0.88888889\n",
      " 0.84126984 0.74603175 0.66666667 0.79365079 0.82539683 0.71428571\n",
      " 0.73015873 0.73015873 0.84126984]\n",
      "mean of 27-fold CV scores: 0.78150154886266\n",
      "Variance of 27-fold Cross validation: 0.004519388681709379\n",
      "\n"
     ]
    },
    {
     "name": "stdout",
     "output_type": "stream",
     "text": [
      "--------28-fold stats --------\n",
      "Cross-validated scores: [0.80952381 0.87301587 0.63492063 0.87096774 0.66129032 0.82258065\n",
      " 0.75409836 0.86885246 0.81967213 0.90163934 0.67213115 0.78688525\n",
      " 0.72131148 0.75409836 0.90163934 0.67213115 0.7704918  0.80327869\n",
      " 0.93442623 0.78688525 0.75409836 0.70491803 0.78688525 0.80327869\n",
      " 0.70491803 0.73770492 0.73770492 0.83606557]\n",
      "mean of 28-fold CV scores: 0.781621920758432\n",
      "Variance of 28-fold Cross validation: 0.005915253079130027\n",
      "\n",
      "--------29-fold stats --------\n",
      "Cross-validated scores: [0.81967213 0.85245902 0.63333333 0.86666667 0.6779661  0.79661017\n",
      " 0.79661017 0.84745763 0.84745763 0.88135593 0.71186441 0.6779661\n",
      " 0.81355932 0.74576271 0.79661017 0.77966102 0.77966102 0.76271186\n",
      " 0.86440678 0.84745763 0.83050847 0.71186441 0.76271186 0.77966102\n",
      " 0.76271186 0.72881356 0.71186441 0.76271186 0.83050847]\n",
      "mean of 29-fold CV scores: 0.7820898525452471\n",
      "Variance of 29-fold Cross validation: 0.003915942283294689\n",
      "\n",
      "--------30-fold stats --------\n",
      "Cross-validated scores: [0.81355932 0.84745763 0.66101695 0.82758621 0.71929825 0.78947368\n",
      " 0.78947368 0.85964912 0.8245614  0.85964912 0.80701754 0.64912281\n",
      " 0.8245614  0.75438596 0.75438596 0.87719298 0.73684211 0.80701754\n",
      " 0.71929825 0.9122807  0.84210526 0.71929825 0.71929825 0.78947368\n",
      " 0.75438596 0.78947368 0.75438596 0.70175439 0.73684211 0.8245614 ]\n",
      "mean of 30-fold CV scores: 0.7821803192961948\n",
      "Variance of 30-fold Cross validation: 0.003918695106573936\n",
      "\n",
      "--------31-fold stats --------\n",
      "Cross-validated scores: [0.80701754 0.84210526 0.66666667 0.85964912 0.66666667 0.84210526\n",
      " 0.8        0.81818182 0.85454545 0.81818182 0.89090909 0.69090909\n",
      " 0.72727273 0.81818182 0.70909091 0.8        0.8        0.78181818\n",
      " 0.76363636 0.81818182 0.92727273 0.8        0.78181818 0.69090909\n",
      " 0.72727273 0.78181818 0.81818182 0.70909091 0.72727273 0.72727273\n",
      " 0.83636364]\n",
      "mean of 31-fold CV scores: 0.7839481401450841\n",
      "Variance of 31-fold Cross validation: 0.004159221722077923\n",
      "\n",
      "--------32-fold stats --------\n",
      "Cross-validated scores: [0.81818182 0.83636364 0.67272727 0.83636364 0.70909091 0.76363636\n",
      " 0.83636364 0.76363636 0.87272727 0.83636364 0.88888889 0.66037736\n",
      " 0.69811321 0.8490566  0.71698113 0.75471698 0.90566038 0.71698113\n",
      " 0.79245283 0.73584906 0.86792453 0.8490566  0.83018868 0.73584906\n",
      " 0.67924528 0.79245283 0.77358491 0.77358491 0.71698113 0.71698113\n",
      " 0.73584906 0.8490566 ]\n",
      "mean of 32-fold CV scores: 0.7807902134553077\n",
      "Variance of 32-fold Cross validation: 0.004560930230015817\n",
      "\n",
      "--------33-fold stats --------\n",
      "Cross-validated scores: [0.81132075 0.8490566  0.64150943 0.81132075 0.81132075 0.69811321\n",
      " 0.81132075 0.79245283 0.83018868 0.8490566  0.86792453 0.77358491\n",
      " 0.64150943 0.86792453 0.77358491 0.71698113 0.80769231 0.76923077\n",
      " 0.80392157 0.74509804 0.80392157 0.94117647 0.82352941 0.7254902\n",
      " 0.7254902  0.76470588 0.78431373 0.78431373 0.70588235 0.78431373\n",
      " 0.68627451 0.74509804 0.84313725]\n",
      "mean of 33-fold CV scores: 0.7815381683306212\n",
      "Variance of 33-fold Cross validation: 0.004165763559350405\n",
      "\n",
      "--------34-fold stats --------\n",
      "Cross-validated scores: [0.80392157 0.84313725 0.70588235 0.78431373 0.82352941 0.64705882\n",
      " 0.82352941 0.80392157 0.84313725 0.84313725 0.82352941 0.90196078\n",
      " 0.70588235 0.68627451 0.82352941 0.7254902  0.76470588 0.88235294\n",
      " 0.74509804 0.76470588 0.7254902  0.8627451  0.90196078 0.82352941\n",
      " 0.76       0.7        0.78       0.7755102  0.79591837 0.69387755\n",
      " 0.79591837 0.65306122 0.75510204 0.87755102]\n",
      "mean of 34-fold CV scores: 0.7836988913212343\n",
      "Variance of 34-fold Cross validation: 0.00456675013190301\n",
      "\n",
      "--------35-fold stats --------\n",
      "Cross-validated scores: [0.8        0.84       0.74       0.73469388 0.87755102 0.63265306\n",
      " 0.81632653 0.81632653 0.81632653 0.87755102 0.81632653 0.87755102\n",
      " 0.75510204 0.63265306 0.85714286 0.79591837 0.69387755 0.81632653\n",
      " 0.83673469 0.71428571 0.83673469 0.71428571 0.87755102 0.87755102\n",
      " 0.79591837 0.7755102  0.69387755 0.7755102  0.75510204 0.81632653\n",
      " 0.69387755 0.79591837 0.65306122 0.75510204 0.875     ]\n",
      "mean of 35-fold CV scores: 0.7839620991253643\n",
      "Variance of 35-fold Cross validation: 0.005059984819250483\n",
      "\n",
      "--------36-fold stats --------\n",
      "Cross-validated scores: [0.79591837 0.83673469 0.75510204 0.71428571 0.87755102 0.65306122\n",
      " 0.81632653 0.79591837 0.7755102  0.87755102 0.83333333 0.85416667\n",
      " 0.8125     0.60416667 0.8125     0.80851064 0.72340426 0.74468085\n",
      " 0.89361702 0.72340426 0.80851064 0.76595745 0.78723404 0.93617021\n",
      " 0.80851064 0.80851064 0.76595745 0.63829787 0.78723404 0.78723404\n",
      " 0.80851064 0.72340426 0.78723404 0.63829787 0.76595745 0.87234043]\n",
      "mean of 36-fold CV scores: 0.783266793715122\n",
      "Variance of 36-fold Cross validation: 0.005217941646691692\n",
      "\n",
      "--------37-fold stats --------\n",
      "Cross-validated scores: [0.78723404 0.85106383 0.74468085 0.70212766 0.85106383 0.68085106\n",
      " 0.80851064 0.78723404 0.80851064 0.82978723 0.85106383 0.82978723\n",
      " 0.89361702 0.70212766 0.63829787 0.85106383 0.74468085 0.76595745\n",
      " 0.82978723 0.80851064 0.68085106 0.82978723 0.74468085 0.86956522\n",
      " 0.89130435 0.84782609 0.7173913  0.7173913  0.76086957 0.75555556\n",
      " 0.77777778 0.8        0.68888889 0.82222222 0.62222222 0.73333333\n",
      " 0.88888889]\n",
      "mean of 37-fold CV scores: 0.7814733327221765\n",
      "Variance of 37-fold Cross validation: 0.004987210238359238\n",
      "\n",
      "--------38-fold stats --------\n",
      "Cross-validated scores: [0.80434783 0.82608696 0.80434783 0.65217391 0.84782609 0.7173913\n",
      " 0.76086957 0.82222222 0.75555556 0.84444444 0.86666667 0.8\n",
      " 0.91111111 0.77777778 0.62222222 0.77777778 0.84444444 0.68888889\n",
      " 0.75555556 0.84444444 0.75555556 0.77777778 0.8        0.73333333\n",
      " 0.91111111 0.88888889 0.82222222 0.75555556 0.68888889 0.77777778\n",
      " 0.75555556 0.77777778 0.8        0.68888889 0.82222222 0.62222222\n",
      " 0.73333333 0.88888889]\n",
      "mean of 38-fold CV scores: 0.7822145944571575\n",
      "Variance of 38-fold Cross validation: 0.0051321206938828995\n",
      "\n",
      "--------39-fold stats --------\n",
      "Cross-validated scores: [0.8        0.82222222 0.82222222 0.66666667 0.88888889 0.71111111\n",
      " 0.71111111 0.8        0.77777778 0.84444444 0.86666667 0.82222222\n",
      " 0.88888889 0.8        0.66666667 0.73333333 0.79545455 0.72727273\n",
      " 0.75       0.84090909 0.84090909 0.70454545 0.81818182 0.70454545\n",
      " 0.86046512 0.93023256 0.79069767 0.8372093  0.69767442 0.72093023\n",
      " 0.76744186 0.79069767 0.76744186 0.76744186 0.74418605 0.72093023\n",
      " 0.6744186  0.74418605 0.88372093]\n",
      "mean of 39-fold CV scores: 0.7820952518626937\n",
      "Variance of 39-fold Cross validation: 0.004475569892064441\n",
      "\n",
      "--------40-fold stats --------\n",
      "Cross-validated scores: [0.79545455 0.81818182 0.86363636 0.62790698 0.8372093  0.81395349\n",
      " 0.62790698 0.8372093  0.81395349 0.69767442 0.88372093 0.8372093\n",
      " 0.8372093  0.95348837 0.6744186  0.62790698 0.8372093  0.79069767\n",
      " 0.72093023 0.74418605 0.88372093 0.74418605 0.76744186 0.81395349\n",
      " 0.74418605 0.86046512 0.93023256 0.79069767 0.79069767 0.72093023\n",
      " 0.6744186  0.81395349 0.76744186 0.8372093  0.69047619 0.78571429\n",
      " 0.69047619 0.69047619 0.78571429 0.88095238]\n",
      "mean of 40-fold CV scores: 0.78258519581194\n",
      "Variance of 40-fold Cross validation: 0.006439662602022269\n",
      "\n",
      "--------41-fold stats --------\n",
      "Cross-validated scores: [0.81395349 0.81395349 0.86046512 0.60465116 0.8372093  0.8372093\n",
      " 0.62790698 0.8372093  0.81395349 0.69767442 0.86046512 0.86046512\n",
      " 0.81395349 0.95238095 0.71428571 0.61904762 0.80952381 0.83333333\n",
      " 0.69047619 0.73809524 0.85714286 0.85714286 0.71428571 0.7804878\n",
      " 0.75609756 0.7804878  0.95121951 0.82926829 0.82926829 0.75609756\n",
      " 0.68292683 0.73170732 0.73170732 0.82926829 0.82926829 0.70731707\n",
      " 0.73170732 0.73170732 0.70731707 0.75609756 0.87804878]\n",
      "mean of 41-fold CV scores: 0.7820679037355156\n",
      "Variance of 41-fold Cross validation: 0.006430562445775624\n",
      "\n",
      "--------42-fold stats --------\n",
      "Cross-validated scores: [0.80952381 0.80952381 0.88095238 0.56097561 0.82926829 0.87804878\n",
      " 0.6097561  0.7804878  0.82926829 0.75609756 0.85365854 0.85365854\n",
      " 0.82926829 0.85365854 0.85365854 0.65853659 0.68292683 0.85365854\n",
      " 0.75609756 0.73170732 0.73170732 0.87804878 0.7804878  0.73170732\n",
      " 0.85365854 0.70731707 0.82926829 0.92682927 0.80487805 0.82926829\n",
      " 0.75609756 0.70731707 0.75609756 0.73170732 0.775      0.8\n",
      " 0.7        0.775      0.725      0.675      0.775      0.875     ]\n",
      "mean of 42-fold CV scores: 0.780836236933798\n",
      "Variance of 42-fold Cross validation: 0.005982425412588762\n",
      "\n"
     ]
    },
    {
     "name": "stdout",
     "output_type": "stream",
     "text": [
      "--------43-fold stats --------\n",
      "Cross-validated scores: [0.80487805 0.80487805 0.90243902 0.56097561 0.82926829 0.85365854\n",
      " 0.6097561  0.80487805 0.80487805 0.75609756 0.85365854 0.85365854\n",
      " 0.85365854 0.82926829 0.875      0.7        0.625      0.825\n",
      " 0.8        0.7        0.75       0.85       0.875      0.7\n",
      " 0.825      0.7        0.79487179 0.8974359  0.87179487 0.87179487\n",
      " 0.74358974 0.74358974 0.71794872 0.76923077 0.76923077 0.74358974\n",
      " 0.82051282 0.66666667 0.79487179 0.69230769 0.74358974 0.76923077\n",
      " 0.87179487]\n",
      "mean of 43-fold CV scores: 0.7820698256177553\n",
      "Variance of 43-fold Cross validation: 0.006290233202474566\n",
      "\n",
      "--------44-fold stats --------\n",
      "Cross-validated scores: [0.8        0.8        0.9        0.6        0.8        0.85\n",
      " 0.65       0.76923077 0.82051282 0.82051282 0.76923077 0.84615385\n",
      " 0.87179487 0.84615385 0.8974359  0.76923077 0.66666667 0.66666667\n",
      " 0.84615385 0.82051282 0.71794872 0.71794872 0.87179487 0.82051282\n",
      " 0.69230769 0.79487179 0.74358974 0.76923077 0.94871795 0.87179487\n",
      " 0.84615385 0.76923077 0.74358974 0.71794872 0.79487179 0.74358974\n",
      " 0.74358974 0.79487179 0.71052632 0.78947368 0.65789474 0.76315789\n",
      " 0.76315789 0.86842105]\n",
      "mean of 44-fold CV scores: 0.7833057293583611\n",
      "Variance of 44-fold Cross validation: 0.0054684830649638\n",
      "\n",
      "--------45-fold stats --------\n",
      "Cross-validated scores: [0.79487179 0.79487179 0.8974359  0.61538462 0.76923077 0.84615385\n",
      " 0.74358974 0.69230769 0.84615385 0.79487179 0.74358974 0.8974359\n",
      " 0.84615385 0.82051282 0.8974359  0.82051282 0.64102564 0.64102564\n",
      " 0.84615385 0.78947368 0.71052632 0.78947368 0.84210526 0.86842105\n",
      " 0.71052632 0.76315789 0.76315789 0.78947368 0.86842105 0.94736842\n",
      " 0.76315789 0.81578947 0.76315789 0.64864865 0.75675676 0.81081081\n",
      " 0.78378378 0.78378378 0.78378378 0.67567568 0.81081081 0.67567568\n",
      " 0.75675676 0.72972973 0.86486486]\n",
      "mean of 45-fold CV scores: 0.7825335456914404\n",
      "Variance of 45-fold Cross validation: 0.005562993665991185\n",
      "\n",
      "--------46-fold stats --------\n",
      "Cross-validated scores: [0.81578947 0.76315789 0.89473684 0.71052632 0.65789474 0.86842105\n",
      " 0.78947368 0.65789474 0.84210526 0.78947368 0.76315789 0.84210526\n",
      " 0.86842105 0.78947368 0.86842105 0.91891892 0.67567568 0.64864865\n",
      " 0.72972973 0.89189189 0.72972973 0.75675676 0.72972973 0.86486486\n",
      " 0.81081081 0.75675676 0.78378378 0.72972973 0.78378378 0.91891892\n",
      " 0.91891892 0.78378378 0.81081081 0.75675676 0.64864865 0.75675676\n",
      " 0.81081081 0.78378378 0.78378378 0.78378378 0.67567568 0.81081081\n",
      " 0.67567568 0.75675676 0.72972973 0.86486486]\n",
      "mean of 46-fold CV scores: 0.7826550807100007\n",
      "Variance of 46-fold Cross validation: 0.0054775843402407685\n",
      "\n",
      "--------47-fold stats --------\n",
      "Cross-validated scores: [0.81081081 0.75675676 0.89189189 0.72972973 0.67567568 0.89189189\n",
      " 0.78378378 0.62162162 0.81081081 0.81081081 0.75675676 0.83783784\n",
      " 0.86486486 0.83783784 0.81081081 0.91891892 0.78378378 0.67567568\n",
      " 0.62162162 0.83783784 0.78378378 0.72972973 0.78378378 0.83783784\n",
      " 0.83783784 0.72972973 0.78378378 0.75675676 0.80555556 0.77777778\n",
      " 0.91666667 0.88888889 0.83333333 0.77777778 0.69444444 0.69444444\n",
      " 0.77777778 0.72222222 0.77777778 0.86111111 0.69444444 0.72222222\n",
      " 0.80555556 0.63888889 0.8        0.74285714 0.85714286]\n",
      "mean of 47-fold CV scores: 0.7821672736566352\n",
      "Variance of 47-fold Cross validation: 0.005332202842108792\n",
      "\n",
      "--------48-fold stats --------\n",
      "Cross-validated scores: [0.81081081 0.75675676 0.89189189 0.72972973 0.67567568 0.89189189\n",
      " 0.78378378 0.62162162 0.81081081 0.81081081 0.75       0.83333333\n",
      " 0.86111111 0.86111111 0.83333333 0.86111111 0.80555556 0.66666667\n",
      " 0.63888889 0.86111111 0.83333333 0.72222222 0.72222222 0.77777778\n",
      " 0.86111111 0.77777778 0.77777778 0.77142857 0.71428571 0.8\n",
      " 0.88571429 0.94285714 0.77142857 0.82857143 0.77142857 0.71428571\n",
      " 0.68571429 0.8        0.77142857 0.74285714 0.82857143 0.77142857\n",
      " 0.71428571 0.8        0.62857143 0.8        0.74285714 0.85714286]\n",
      "mean of 48-fold CV scores: 0.7827309452309453\n",
      "Variance of 48-fold Cross validation: 0.005143280841233259\n",
      "\n",
      "--------49-fold stats --------\n",
      "Cross-validated scores: [0.83333333 0.75       0.88888889 0.72222222 0.69444444 0.83333333\n",
      " 0.86111111 0.55555556 0.80555556 0.83333333 0.82857143 0.77142857\n",
      " 0.82857143 0.88571429 0.8        0.85714286 0.91428571 0.68571429\n",
      " 0.71428571 0.65714286 0.88571429 0.77142857 0.68571429 0.77142857\n",
      " 0.82857143 0.88571429 0.65714286 0.82857143 0.82857143 0.71428571\n",
      " 0.77142857 0.94285714 0.94285714 0.74285714 0.8        0.77142857\n",
      " 0.71428571 0.65714286 0.88571429 0.71428571 0.71428571 0.82352941\n",
      " 0.70588235 0.79411765 0.79411765 0.58823529 0.79411765 0.76470588\n",
      " 0.85294118]\n",
      "mean of 49-fold CV scores: 0.782705463137636\n",
      "Variance of 49-fold Cross validation: 0.00735178808184378\n",
      "\n",
      "--------50-fold stats --------\n",
      "Cross-validated scores: [0.82857143 0.77142857 0.88571429 0.68571429 0.68571429 0.82857143\n",
      " 0.88571429 0.6        0.77142857 0.82857143 0.82857143 0.74285714\n",
      " 0.85714286 0.82857143 0.85714286 0.8        0.94285714 0.77142857\n",
      " 0.68571429 0.62857143 0.85714286 0.74285714 0.74285714 0.8\n",
      " 0.79411765 0.85294118 0.73529412 0.76470588 0.73529412 0.79411765\n",
      " 0.76470588 0.85294118 0.91176471 0.88235294 0.82352941 0.76470588\n",
      " 0.70588235 0.67647059 0.76470588 0.79411765 0.79411765 0.76470588\n",
      " 0.82352941 0.66666667 0.75757576 0.81818182 0.60606061 0.78787879\n",
      " 0.78787879 0.84848485]\n",
      "mean of 50-fold CV scores: 0.7825974025974028\n",
      "Variance of 50-fold Cross validation: 0.005593259569262804\n",
      "\n"
     ]
    }
   ],
   "source": [
    "scores = []\n",
    "for n in range(2,51):\n",
    "    scores = cross_val_score(model, X_test, y_test, cv=n)\n",
    "    print('--------{0}-fold stats --------'.format(n))\n",
    "    print ('Cross-validated scores:', scores)\n",
    "    print ('mean of {0}-fold CV scores: {1}'.format(n,np.mean(scores)))\n",
    "    print(\"Variance of {0}-fold Cross validation: {1}\".format(n,np.var(scores)))\n",
    "    print('')"
   ]
  },
  {
   "cell_type": "code",
   "execution_count": null,
   "metadata": {},
   "outputs": [],
   "source": []
  },
  {
   "cell_type": "markdown",
   "metadata": {},
   "source": [
    "### Elastic Net Regularisation"
   ]
  },
  {
   "cell_type": "code",
   "execution_count": 38,
   "metadata": {},
   "outputs": [
    {
     "name": "stdout",
     "output_type": "stream",
     "text": [
      "[-0.0893312]\n",
      "[[0.         0.         0.         0.10447024 0.         0.\n",
      "  0.         0.         0.         0.         0.10094906 0.14062813\n",
      "  0.         0.         0.        ]]\n"
     ]
    }
   ],
   "source": [
    "from sklearn.linear_model import SGDClassifier\n",
    "#alpha = i for i in range(0.1,1,0.1)\n",
    "clf = SGDClassifier(penalty='elasticnet',alpha=0.5,max_iter=1000, loss = 'log',random_state=123)\n",
    "clf_model = clf.fit(X_train, y_train)\n",
    "print(clf.intercept_)\n",
    "print(clf.coef_)"
   ]
  },
  {
   "cell_type": "markdown",
   "metadata": {},
   "source": [
    "#### Feature removal"
   ]
  },
  {
   "cell_type": "markdown",
   "metadata": {},
   "source": [
    "elastic net feature removal retained the following features:\n",
    "\n",
    "__1. 'num_of_voice_mail_messages'__\n",
    "\n",
    "__2. 'total_day_charge'__\n",
    "\n",
    "__3. 'number_customer_service_calls'__\n",
    "\n",
    "__4. 'international_plan_n'__"
   ]
  },
  {
   "cell_type": "code",
   "execution_count": 39,
   "metadata": {},
   "outputs": [],
   "source": [
    "y_pred_prob = clf.predict_proba(X_test)[:, 1]"
   ]
  },
  {
   "cell_type": "code",
   "execution_count": 40,
   "metadata": {},
   "outputs": [
    {
     "data": {
      "text/plain": [
       "array([[692, 151],\n",
       "       [304, 570]])"
      ]
     },
     "execution_count": 40,
     "metadata": {},
     "output_type": "execute_result"
    }
   ],
   "source": [
    "#performs worse with elasticnet\n",
    "metrics.confusion_matrix(y_true=y_test, y_pred=y_pred_prob > .5)"
   ]
  },
  {
   "cell_type": "code",
   "execution_count": 41,
   "metadata": {},
   "outputs": [
    {
     "name": "stdout",
     "output_type": "stream",
     "text": [
      "Training Score: 0.7164700742682394\n",
      "Test Score: 0.7350029120559115\n"
     ]
    }
   ],
   "source": [
    "print('Training Score:', clf_model.score(X_train,y_train))\n",
    "print('Test Score:', clf_model.score(X_test,y_test))"
   ]
  },
  {
   "cell_type": "code",
   "execution_count": 42,
   "metadata": {
    "scrolled": true
   },
   "outputs": [],
   "source": [
    "# cross_val_predict returns an array of the same size as `y` where each entry\n",
    "# is a prediction obtained by cross validation:\n",
    "#predicted = cross_val_predict(lr, y_predicted, y_test, cv=10, random_state=123)\n",
    "\n",
    "\n",
    "#fig, ax = plt.subplots()\n",
    "#ax.scatter(y_test, predicted, edgecolors=(0,0,0))\n",
    "#ax.plot([y.min(),y.max()],[y.min(),y.max()], 'k--', lw=4)\n",
    "#ax.set_xlabel('Measured')\n",
    "#ax.set_ylabel('Predicted')\n",
    "#plt.show()"
   ]
  },
  {
   "cell_type": "markdown",
   "metadata": {},
   "source": [
    "### 3. Try 70/30 and 90/10 train/test splits (70% of the data for training - 30% for testing, then 90% for training - 10% for testing)\n",
    "Score and plot. How do your metrics change? What does this tell us about the size of training/testing splits?"
   ]
  },
  {
   "cell_type": "code",
   "execution_count": 43,
   "metadata": {
    "scrolled": true
   },
   "outputs": [
    {
     "ename": "NameError",
     "evalue": "name 'X2' is not defined",
     "output_type": "error",
     "traceback": [
      "\u001b[0;31m---------------------------------------------------------------------------\u001b[0m",
      "\u001b[0;31mNameError\u001b[0m                                 Traceback (most recent call last)",
      "\u001b[0;32m<ipython-input-43-fb5707fd88a5>\u001b[0m in \u001b[0;36m<module>\u001b[0;34m()\u001b[0m\n\u001b[1;32m      1\u001b[0m \u001b[0;31m#Model with 70/30 split\u001b[0m\u001b[0;34m\u001b[0m\u001b[0;34m\u001b[0m\u001b[0m\n\u001b[0;32m----> 2\u001b[0;31m \u001b[0mX_train\u001b[0m\u001b[0;34m,\u001b[0m \u001b[0mX_test\u001b[0m\u001b[0;34m,\u001b[0m \u001b[0my_train\u001b[0m\u001b[0;34m,\u001b[0m \u001b[0my_test\u001b[0m \u001b[0;34m=\u001b[0m \u001b[0mtrain_test_split\u001b[0m\u001b[0;34m(\u001b[0m\u001b[0mX2\u001b[0m\u001b[0;34m,\u001b[0m \u001b[0my\u001b[0m\u001b[0;34m,\u001b[0m \u001b[0mtest_size\u001b[0m\u001b[0;34m=\u001b[0m\u001b[0;36m0.3\u001b[0m\u001b[0;34m,\u001b[0m \u001b[0mrandom_state\u001b[0m\u001b[0;34m=\u001b[0m\u001b[0;36m123\u001b[0m\u001b[0;34m)\u001b[0m\u001b[0;34m\u001b[0m\u001b[0m\n\u001b[0m\u001b[1;32m      3\u001b[0m \u001b[0;34m\u001b[0m\u001b[0m\n\u001b[1;32m      4\u001b[0m \u001b[0mlr_30\u001b[0m \u001b[0;34m=\u001b[0m \u001b[0mLinearRegression\u001b[0m\u001b[0;34m(\u001b[0m\u001b[0;34m)\u001b[0m\u001b[0;34m\u001b[0m\u001b[0m\n\u001b[1;32m      5\u001b[0m \u001b[0;34m\u001b[0m\u001b[0m\n",
      "\u001b[0;31mNameError\u001b[0m: name 'X2' is not defined"
     ]
    }
   ],
   "source": [
    "#Model with 70/30 split\n",
    "X_train, X_test, y_train, y_test = train_test_split(X2, y, test_size=0.3, random_state=123)\n",
    "\n",
    "lr_30 = LinearRegression()\n",
    "\n",
    "model_30 = lr_30.fit(X_train, y_train)\n",
    "\n",
    "y_predicted2 = lr_30.predict(X_test)\n",
    "\n",
    "fig, ax = plt.subplots()\n",
    "ax.scatter(y_test, y_predicted2, edgecolors=(0,0,0))\n",
    "ax.plot([y.min(),y.max()],[y.min(),y.max()], 'k--', lw=4)\n",
    "ax.set_xlabel('Measured')\n",
    "ax.set_ylabel('Predicted')\n",
    "plt.show()"
   ]
  },
  {
   "cell_type": "code",
   "execution_count": null,
   "metadata": {},
   "outputs": [],
   "source": [
    "#score decreased slightly\n",
    "print('Score:', model_30.score(X_test, y_test))"
   ]
  },
  {
   "cell_type": "code",
   "execution_count": null,
   "metadata": {},
   "outputs": [],
   "source": [
    "#Model with 90/10 split\n",
    "X_train, X_test, y_train, y_test = train_test_split(X2, y, test_size=0.1)\n",
    "\n",
    "lr_10 = LinearRegression()\n",
    "\n",
    "model_10 = lr_10.fit(X_train, y_train)\n",
    "\n",
    "y_predicted = lr_10.predict(X_test)\n",
    "\n",
    "fig, ax = plt.subplots()\n",
    "ax.scatter(y_test, y_predicted, edgecolors=(0,0,0))\n",
    "ax.plot([y.min(),y.max()],[y.min(),y.max()], 'k--', lw=4)\n",
    "ax.set_xlabel('Measured')\n",
    "ax.set_ylabel('Predicted')\n",
    "plt.show()"
   ]
  },
  {
   "cell_type": "code",
   "execution_count": null,
   "metadata": {},
   "outputs": [],
   "source": [
    "#score increased\n",
    "print('Score:', model_10.score(X_test, y_test))"
   ]
  },
  {
   "cell_type": "markdown",
   "metadata": {},
   "source": [
    "### 4. Use k-fold cross validation varying the number of folds from 5 to 10\n",
    "What seems optimal? How do your scores change? What is the variance like? Try different folds to get a sense of how this impacts your score. What are the tradeoffs associated with choosing the number of folds?"
   ]
  },
  {
   "cell_type": "code",
   "execution_count": null,
   "metadata": {},
   "outputs": [],
   "source": [
    "# Perform k-fold cross validation with folds from 5 to 10, calculate scores, mean of scores and R-squared\n",
    "for n in range(5,11):\n",
    "    scores = cross_val_score(model, X_test, y_test, cv=n)\n",
    "    print('--------{0}-fold stats --------'.format(n))\n",
    "    print ('Cross-validated scores:', scores)\n",
    "    print ('mean of {0}-fold CV scores: {1}'.format(n,np.mean(scores)))\n",
    "    print(\"Variance of {0}-fold Cross validation: {1}\".format(n,np.var(scores)))\n",
    "    print('')"
   ]
  },
  {
   "cell_type": "markdown",
   "metadata": {},
   "source": [
    "1. Variance loosely increases with number of folds, while mean of CV scores trends upwards with increase in folds."
   ]
  },
  {
   "cell_type": "code",
   "execution_count": null,
   "metadata": {},
   "outputs": [],
   "source": [
    "# Make cross validated predictions\n",
    "predictions = cross_val_predict(model, X2, y, cv=5)\n",
    "plt.scatter(y, predictions)"
   ]
  },
  {
   "cell_type": "markdown",
   "metadata": {},
   "source": [
    "### KNN Model"
   ]
  },
  {
   "cell_type": "code",
   "execution_count": null,
   "metadata": {},
   "outputs": [],
   "source": [
    "# Read the iris data into a DataFrame\n",
    "\n",
    "DATA = r\"https://gist.githubusercontent.com/curran/a08a1080b88344b0c8a7/raw/d546eaee765268bf2f487608c537c05e22e4b221/iris.csv\"\n",
    "col_names = ['sepal_length', 'sepal_width', 'petal_length', 'petal_width', 'species']\n",
    "iris = pd.read_csv(DATA, header=None, names=col_names)\n",
    "iris.drop(iris.index[0], inplace= True)\n",
    "iris['petal_length'] = iris.petal_length.astype(float, inplace = True)\n",
    "iris['petal_width'] = iris.petal_width.astype(float, inplace = True)\n",
    "iris['sepal_length'] = iris.sepal_length.astype(float, inplace = True)\n",
    "iris['sepal_width'] = iris.sepal_width.astype(float, inplace = True)\n",
    "iris.head()"
   ]
  },
  {
   "cell_type": "code",
   "execution_count": null,
   "metadata": {
    "scrolled": true
   },
   "outputs": [],
   "source": [
    "iris.dtypes"
   ]
  },
  {
   "cell_type": "code",
   "execution_count": null,
   "metadata": {},
   "outputs": [],
   "source": [
    "# Increase the default figure and font sizes for easier viewing\n",
    "import matplotlib.ticker as ticker\n",
    "\n",
    "plt.rcParams['figure.figsize'] = (7, 4)\n",
    "plt.rcParams['font.size'] = 14\n",
    "plt.rcParams[\"xtick.labelsize\"] = 7\n",
    "plt.rcParams[\"ytick.labelsize\"] = 7"
   ]
  },
  {
   "cell_type": "code",
   "execution_count": null,
   "metadata": {},
   "outputs": [],
   "source": [
    "# Create a custom colormap\n",
    "from matplotlib.colors import ListedColormap\n",
    "\n",
    "cmap_bold = ListedColormap(['#FF0000', '#00FF00'])"
   ]
  },
  {
   "cell_type": "code",
   "execution_count": null,
   "metadata": {},
   "outputs": [],
   "source": [
    "# Create a scatterplot of PETAL LENGTH versus PETAL WIDTH and color by SPECIES\n",
    "df.plot(kind='scatter', x='total_intl_charge', y='number_customer_service_calls', c='churn_n', colormap=cmap_bold);"
   ]
  },
  {
   "cell_type": "code",
   "execution_count": null,
   "metadata": {},
   "outputs": [],
   "source": [
    "# Create a scatterplot of SEPAL LENGTH versus SEPAL WIDTH and color by SPECIES\n",
    "df.plot(kind='scatter', x='total_eve_charge', y='total_eve_calls', c='churn_n', colormap=cmap_bold);"
   ]
  },
  {
   "cell_type": "markdown",
   "metadata": {},
   "source": [
    "## KNN Classification of the Iris Dataset"
   ]
  },
  {
   "cell_type": "markdown",
   "metadata": {},
   "source": [
    "### Create your feature matrix \"X\"\n",
    "This will be all species measurements (sepal length, petal width, etc...)"
   ]
  },
  {
   "cell_type": "code",
   "execution_count": null,
   "metadata": {},
   "outputs": [],
   "source": [
    "predictors = ['sepal_length','sepal_width','petal_length']\n",
    "X = iris[predictors]"
   ]
  },
  {
   "cell_type": "markdown",
   "metadata": {},
   "source": [
    "### Create your target vector \"y\"\n",
    "This will be the species type."
   ]
  },
  {
   "cell_type": "code",
   "execution_count": null,
   "metadata": {},
   "outputs": [],
   "source": [
    "#assigned 'y' as an array to address data conversion error \n",
    "#y=iris['species_num']\n",
    "y=np.ravel(iris['species'])"
   ]
  },
  {
   "cell_type": "markdown",
   "metadata": {},
   "source": [
    "### Make Use of Train-Test-Split\n",
    "Split your data in to train and test sets."
   ]
  },
  {
   "cell_type": "code",
   "execution_count": null,
   "metadata": {},
   "outputs": [],
   "source": [
    "X_train, X_test, y_train, y_test = train_test_split(X, y, test_size=0.1,random_state=123)\n",
    "print (X_train.shape, y_train.shape)\n",
    "print (X_test.shape, y_test.shape)"
   ]
  },
  {
   "cell_type": "markdown",
   "metadata": {},
   "source": [
    "### Import KNN From `scikit-learn` and Instatiate a Model With One Neighbor"
   ]
  },
  {
   "cell_type": "code",
   "execution_count": null,
   "metadata": {},
   "outputs": [],
   "source": [
    "from sklearn.neighbors import KNeighborsClassifier\n",
    "neigh = KNeighborsClassifier(n_neighbors=1)\n",
    "type(neigh)"
   ]
  },
  {
   "cell_type": "markdown",
   "metadata": {},
   "source": [
    "### Check the Accuracy\n",
    "Train your model using the training set then use the test set to determine the accuracy"
   ]
  },
  {
   "cell_type": "code",
   "execution_count": null,
   "metadata": {
    "scrolled": true
   },
   "outputs": [],
   "source": [
    "k_model = neigh.fit(X_train, y_train)\n",
    "predicted = neigh.predict(X_test)\n",
    "predicted"
   ]
  },
  {
   "cell_type": "code",
   "execution_count": null,
   "metadata": {},
   "outputs": [],
   "source": [
    "from sklearn.metrics import accuracy_score\n",
    "acc = accuracy_score(y_test, predicted)\n",
    "print('model accuracy for 1 neighbour is', acc)"
   ]
  },
  {
   "cell_type": "markdown",
   "metadata": {},
   "source": [
    "### Create a Model With Five Neighbors. Did it Improve?"
   ]
  },
  {
   "cell_type": "code",
   "execution_count": null,
   "metadata": {},
   "outputs": [],
   "source": [
    "#model accuracy improved slightly\n",
    "neigh_5 = KNeighborsClassifier(n_neighbors=5)\n",
    "k_model_5 = neigh_5.fit(X_train, y_train)\n",
    "predicted_5 = neigh_5.predict(X_test)\n",
    "acc_5 = accuracy_score(y_test, predicted_5)\n",
    "print('model accuracy for 5 neighbours is', acc_5)"
   ]
  },
  {
   "cell_type": "markdown",
   "metadata": {},
   "source": [
    "### Create a Looped Function That Will Check All Levels of Various Neighbors and Calculate the Accuracy"
   ]
  },
  {
   "cell_type": "code",
   "execution_count": null,
   "metadata": {},
   "outputs": [],
   "source": [
    "#looped function for calculating accuracy for various neighbours\n",
    "def get_knn(n):\n",
    "    for n in range(1,n+1):\n",
    "        knn = KNeighborsClassifier(n_neighbors=n)\n",
    "        knn.fit(X_train, y_train)\n",
    "        predicted_knn = knn.predict(X_test)\n",
    "        acc = accuracy_score(y_test, predicted_knn)\n",
    "        print('model accuracy for {0} neighbours is {1}'.format(n, acc))\n",
    "\n",
    "get_knn(10)"
   ]
  },
  {
   "cell_type": "markdown",
   "metadata": {},
   "source": [
    "1. Define a function that creates an instance of KNeighbourClassifier with number of nearest neighbours being an interated list of integers from 1 through to argument.\n",
    "2. Model is fitted with training data\n",
    "3. predictions are made ontest data, which are then used alongside test targets to calculate accuracy. \n",
    "4. print each score and its corresponding number of neighbours\n",
    "5. We see that accuracy is lower with even number of neighbours.\n",
    "\n",
    "NOTE: I actually performed the above using all four numerical features, though produced accuracy scores indicating overfitting. Therefore I removed one of the features to achieve the above results."
   ]
  },
  {
   "cell_type": "markdown",
   "metadata": {},
   "source": [
    "### Bonus: According to `scikit-learn` Documentation, What is `knn.predict_proba(X_new)` Going to Do?"
   ]
  },
  {
   "cell_type": "code",
   "execution_count": null,
   "metadata": {},
   "outputs": [],
   "source": [
    "#'knn.predict_proba(X_new)' will return probability estimates for new observations"
   ]
  },
  {
   "cell_type": "markdown",
   "metadata": {},
   "source": [
    "## Enrichment\n",
    "_Everything beyond this point is enrichment and examples using Statsmodels for linear regression._"
   ]
  },
  {
   "cell_type": "markdown",
   "metadata": {},
   "source": [
    "### Example: Using the Statsmodels Formula\n",
    "\n",
    "Adapt the formula example using your metrics. We will review this implementation in class. Here is a reference to consider. The workflow is the same, but the syntax is a little different. We want to get accustomed to the formula syntax because we will be using them a lot more with regressions. The results should be comparable to scikit-learn's regression models."
   ]
  },
  {
   "cell_type": "code",
   "execution_count": null,
   "metadata": {},
   "outputs": [],
   "source": [
    "# First, format our data in a DataFrame\n",
    "\n",
    "df = pd.DataFrame(boston.data, columns=boston.feature_names)\n",
    "df['MEDV'] = boston.target\n",
    "df.head()"
   ]
  },
  {
   "cell_type": "code",
   "execution_count": null,
   "metadata": {},
   "outputs": [],
   "source": [
    "# Set up our new statsmodel.formula handling model\n",
    "import statsmodels.formula.api as smf\n",
    "\n",
    "# You can easily swap these out to test multiple versions/different formulas\n",
    "formulas = {\n",
    "    \"case1\": \"MEDV ~ RM + LSTAT + RAD + TAX + NOX + INDUS + CRIM + ZN - 1\", # - 1 = remove intercept\n",
    "    \"case2\": \"MEDV ~ NOX + RM\",\n",
    "    \"case3\": \"MEDV ~ RAD + TAX\"\n",
    "}\n",
    "\n",
    "model = smf.ols(formula=formulas['case1'], data=df)\n",
    "result = model.fit()\n",
    "\n",
    "result.summary()"
   ]
  },
  {
   "cell_type": "markdown",
   "metadata": {},
   "source": [
    "### Bonus Challenge #1:\n",
    "\n",
    "Can you optimize your R2, selecting the best features and using either test-train split or k-folds?"
   ]
  },
  {
   "cell_type": "code",
   "execution_count": null,
   "metadata": {
    "scrolled": false
   },
   "outputs": [],
   "source": [
    "from sklearn.linear_model import ElasticNet\n",
    "\n",
    "X = pd.DataFrame(boston.data,columns=boston.feature_names)\n",
    "y = pd.DataFrame(boston.target, columns=['MEDV'])\n",
    "\n",
    "X_train, X_test, y_train, y_test = train_test_split(X, y, test_size=0.2,random_state=123)\n",
    "\n",
    "alpha = 0.4\n",
    "enet = ElasticNet(alpha=alpha, l1_ratio=1)\n",
    "enet_model = enet.fit(X_train, y_train)\n",
    "\n",
    "print(enet.intercept_)\n",
    "print(enet.coef_)"
   ]
  },
  {
   "cell_type": "markdown",
   "metadata": {},
   "source": [
    "I'm choosing to optimise the score by using elastic net, in conjunction with linear regression for predicting MEDV.\n",
    "\n",
    "1. Fitted an elastic net regression model for all boston features, setting Alpha to 0.4 and l1_ratio to 1 (LASSO).\n",
    "2. Printed intercept and coefficients to determine removed features\n",
    "3. By my estimation, features removed correspond to INDUS, CHAS, NOX and AGE.\n",
    "\n",
    "I played around with the 'alpha' value, arriving at 0.4 as optimal."
   ]
  },
  {
   "cell_type": "code",
   "execution_count": null,
   "metadata": {
    "scrolled": true
   },
   "outputs": [],
   "source": [
    "print('Training Score:', enet_model.score(X_train,y_train))\n",
    "print('Test Score:', enet_model.score(X_test,y_test))"
   ]
  },
  {
   "cell_type": "markdown",
   "metadata": {},
   "source": [
    "1. Compared Accuracies, less than 10% difference - indicates overfitting."
   ]
  },
  {
   "cell_type": "code",
   "execution_count": null,
   "metadata": {},
   "outputs": [],
   "source": [
    "for n in range(5,11):\n",
    "    scores = cross_val_score(enet, X_test, y_test, scoring=\"r2\", cv=n)\n",
    "    print('-------- {0}-fold ENet stats --------'.format(n))\n",
    "    print ('Cross-validated ENet scores:', scores)\n",
    "    print ('mean of {0}-fold ENet CV scores: {1}'.format(n,np.mean(scores)))\n",
    "    #print(\"Variance of {0}-fold Cross validation: {1}\".format(n,np.var(scores)))\n",
    "    print('')"
   ]
  },
  {
   "cell_type": "markdown",
   "metadata": {},
   "source": [
    "1. 8 Fold elastic net model appears to have the highest R2 score. From interpretation against initial R2 score from statsmodel, there doesn't seem to be an improvement."
   ]
  },
  {
   "cell_type": "markdown",
   "metadata": {},
   "source": [
    "### Bonus Challenge #2:\n",
    "\n",
    "Given a combination of predictors, can you find another response variable that can be accurately predicted through the exploration of different predictors in this data set?\n",
    "\n",
    "_Tip: Check out pairplots, coefficients, and Pearson scores._"
   ]
  },
  {
   "cell_type": "code",
   "execution_count": null,
   "metadata": {},
   "outputs": [],
   "source": [
    "# Check out variable relations\n",
    "import seaborn as sns\n",
    "\n",
    "sns.pairplot(X);"
   ]
  },
  {
   "cell_type": "code",
   "execution_count": null,
   "metadata": {},
   "outputs": [],
   "source": [
    "# Check out Pearson scores"
   ]
  },
  {
   "cell_type": "markdown",
   "metadata": {},
   "source": [
    "## Demo: Patsy"
   ]
  },
  {
   "cell_type": "code",
   "execution_count": null,
   "metadata": {},
   "outputs": [],
   "source": [
    "import patsy\n",
    "\n",
    "# Add response to the core DataFrame\n",
    "y = df['MEDV']"
   ]
  },
  {
   "cell_type": "code",
   "execution_count": null,
   "metadata": {},
   "outputs": [],
   "source": [
    "from sklearn.model_selection import train_test_split #If you didn't import it earlier, do so now\n",
    "\n",
    "# Easily change your variable predictors without reslicing your DataFrame\n",
    "y, X = patsy.dmatrices(\"MEDV ~ AGE + RM\", data=df, return_type=\"dataframe\")\n",
    "\n",
    "X_train, X_test, y_train, y_test = train_test_split(X, y, train_size=.7)\n"
   ]
  },
  {
   "cell_type": "code",
   "execution_count": null,
   "metadata": {},
   "outputs": [],
   "source": [
    "from sklearn import metrics\n",
    "from sklearn.linear_model import LinearRegression\n",
    "\n",
    "# Rerun your model, iteratively changing your variables and train_size from the previous cell\n",
    "\n",
    "lm = LinearRegression()\n",
    "model = lm.fit(X_train, y_train)\n",
    "\n",
    "predictions = model.predict(X_test)\n",
    "print(\"R^2 Score: {}\".format(metrics.r2_score(y_test, predictions)))"
   ]
  },
  {
   "cell_type": "code",
   "execution_count": 46,
   "metadata": {},
   "outputs": [
    {
     "ename": "SyntaxError",
     "evalue": "invalid syntax (feature_selector.py, line 7)",
     "output_type": "error",
     "traceback": [
      "Traceback \u001b[0;36m(most recent call last)\u001b[0m:\n",
      "  File \u001b[1;32m\"/Users/meisan/anaconda3/lib/python3.6/site-packages/IPython/core/interactiveshell.py\"\u001b[0m, line \u001b[1;32m2963\u001b[0m, in \u001b[1;35mrun_code\u001b[0m\n    exec(code_obj, self.user_global_ns, self.user_ns)\n",
      "\u001b[0;36m  File \u001b[0;32m\"<ipython-input-46-ea3c9d50c1a5>\"\u001b[0;36m, line \u001b[0;32m1\u001b[0;36m, in \u001b[0;35m<module>\u001b[0;36m\u001b[0m\n\u001b[0;31m    from feature_selector import FeatureSelector\u001b[0m\n",
      "\u001b[0;36m  File \u001b[0;32m\"/Users/meisan/Documents/GitHub/GA-DAT9-Projects1/R_Morgan_Project4_Files/feature_selector.py\"\u001b[0;36m, line \u001b[0;32m7\u001b[0m\n\u001b[0;31m    <!DOCTYPE html>\u001b[0m\n\u001b[0m    ^\u001b[0m\n\u001b[0;31mSyntaxError\u001b[0m\u001b[0;31m:\u001b[0m invalid syntax\n"
     ]
    }
   ],
   "source": [
    "from feature_selector import FeatureSelector"
   ]
  },
  {
   "cell_type": "code",
   "execution_count": null,
   "metadata": {},
   "outputs": [],
   "source": []
  }
 ],
 "metadata": {
  "anaconda-cloud": {},
  "kernelspec": {
   "display_name": "Python 3",
   "language": "python",
   "name": "python3"
  },
  "language_info": {
   "codemirror_mode": {
    "name": "ipython",
    "version": 3
   },
   "file_extension": ".py",
   "mimetype": "text/x-python",
   "name": "python",
   "nbconvert_exporter": "python",
   "pygments_lexer": "ipython3",
   "version": "3.6.5"
  }
 },
 "nbformat": 4,
 "nbformat_minor": 2
}
