{
 "cells": [
  {
   "cell_type": "markdown",
   "metadata": {},
   "source": [
    "### Rhys Morgan – DAT9 Project 4 Proposal\n",
    "\n",
    "__Background:__\n",
    "For subscription-based telecom providers, retaining customers is a significant priority. Retained customers become more loyal to your service, and provide opportunities for up-selling and cross-promotion.\n",
    "\n",
    "\n",
    "A Telecoms company with a client base in America has collected data on a selection of its clients (anonymised), focused on customers phone activity and whether they chose to leave their account.\n",
    "\n",
    "__Problem Statement:__ \n",
    "Determine the factors that lead customers to churn, in order to optimise the customer management process, giving us insights into customer retention, increasing lifetime value per customer, and identifying customers with further potential to market to.\n",
    "\n",
    "__Project Goal:__\n",
    "Predict whether a customer will churn from Singtel\n",
    "\n",
    "__Null Hypothesis:__ \n",
    "Customer churn is unaffected by independent variables, which present as random chance. Therefore the probability of a customer churning is 50%\n",
    "H0 : P = 0.5, +/- 0.05\n",
    "\n",
    "__Alternate Hypothesis:__ \n",
    "A customer’s chance of churning is affected by an independent variable, resulting in a higher or lower-than-equal probability of a customer churning ('True')\n",
    "H1:  P =\\= 0.5 +/- 0.05\n",
    "\n",
    "__Limitations:__ \n",
    "Other factors aside from the phone use data may have contributed to the decision to churn, such as other plan features (e.g. internet use and cost within customers' plans) or reliability metrics (number of service outages etc). Also, we have no data on the nature of the customer service calls, and whether these resulted in a positive or negative experience.\n",
    "\n",
    "__Link to Data:__ \n",
    "https://www.kaggle.com/akhilsaichinthala/telecom-churn-data-singtel\n",
    "\n",
    "Data has __5000 rows, 21 features__\n",
    "\n",
    "\n",
    "#### __COLUMN METADATA__\n",
    "\n",
    "\n",
    "__Telco Data__\n",
    "\n",
    "1. __state (Categorical, 51 unique values):__ name of state that customer resides in\n",
    "2. __account_length (integer):__ number of days customer has held their account.\n",
    "3. __area_code (categorical, 3 unique values):__ 3-digit area code of customer\n",
    "4. __phone_number (categorical, 5000 unique values):__ phone number of customer\n",
    "5. __international_plan (categorical, 'Yes' or 'No'):__ whether the customer has an international plan\n",
    "6. __voice_mail_plan (categorical, 'Yes' or 'No'):__ whether the customer has voice mail plan\n",
    "7. __num_of_voice_mail_messages (integer):__  number of VM messages made by customer\n",
    "8. __total_day_minutes (integer):__ Total daytime call minutes used\n",
    "9. __total_day_calls (integer):__ Total daytime calls made\n",
    "10. __total_day_charge (float):__ Total charges for daytime calls\n",
    "11. __total_eve_minutes (integer):__ Total evening call minutes used\n",
    "12. __total_eve_calls (integer):__ Total evening calls made\n",
    "13. __total_eve_charge (float):__ Total charges for evening calls\n",
    "14. __total_night_minutes (integer):__ Total nighttime call minutes used\n",
    "15. __total_night_calls (integer):__ Total nighttime calls made\n",
    "16. __total_night_charge (float):__  Total charges for evening calls\n",
    "17. __total_international_minutes (integer):__ Total international minutes used\n",
    "18. __total_intl_calls (integer):__ Total international calls made\n",
    "19. __total_intl_charge (float):__ total charges international calls\n",
    "20. __number_customer_service_calls (integer):__ calls made to customer service\n",
    "21. __churn (Binary Target Column, 'True' or 'False')__ : whether the customer churned or not (True for churned, False for not churned. \n"
   ]
  },
  {
   "cell_type": "code",
   "execution_count": null,
   "metadata": {},
   "outputs": [],
   "source": []
  },
  {
   "cell_type": "code",
   "execution_count": null,
   "metadata": {},
   "outputs": [],
   "source": []
  }
 ],
 "metadata": {
  "kernelspec": {
   "display_name": "Python 3",
   "language": "python",
   "name": "python3"
  },
  "language_info": {
   "codemirror_mode": {
    "name": "ipython",
    "version": 3
   },
   "file_extension": ".py",
   "mimetype": "text/x-python",
   "name": "python",
   "nbconvert_exporter": "python",
   "pygments_lexer": "ipython3",
   "version": "3.6.5"
  }
 },
 "nbformat": 4,
 "nbformat_minor": 2
}
