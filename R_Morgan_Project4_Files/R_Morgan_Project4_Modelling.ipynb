{
 "cells": [
  {
   "cell_type": "markdown",
   "metadata": {},
   "source": [
    "\n",
    "# Project 4: Churn Prediction Modelling \n",
    "\n",
    "---"
   ]
  },
  {
   "cell_type": "code",
   "execution_count": 44,
   "metadata": {
    "scrolled": true
   },
   "outputs": [
    {
     "data": {
      "text/html": [
       "<div>\n",
       "<style scoped>\n",
       "    .dataframe tbody tr th:only-of-type {\n",
       "        vertical-align: middle;\n",
       "    }\n",
       "\n",
       "    .dataframe tbody tr th {\n",
       "        vertical-align: top;\n",
       "    }\n",
       "\n",
       "    .dataframe thead th {\n",
       "        text-align: right;\n",
       "    }\n",
       "</style>\n",
       "<table border=\"1\" class=\"dataframe\">\n",
       "  <thead>\n",
       "    <tr style=\"text-align: right;\">\n",
       "      <th></th>\n",
       "      <th>account_length</th>\n",
       "      <th>num_of_voice_mail_messages</th>\n",
       "      <th>total_day_calls</th>\n",
       "      <th>total_day_charge</th>\n",
       "      <th>total_eve_calls</th>\n",
       "      <th>total_eve_charge</th>\n",
       "      <th>total_night_calls</th>\n",
       "      <th>total_night_charge</th>\n",
       "      <th>total_intl_calls</th>\n",
       "      <th>total_intl_charge</th>\n",
       "      <th>number_customer_service_calls</th>\n",
       "      <th>international_plan_n</th>\n",
       "      <th>voice_mail_plan_n</th>\n",
       "      <th>area_code_408</th>\n",
       "      <th>area_code_415</th>\n",
       "      <th>area_code_510</th>\n",
       "      <th>churn_n</th>\n",
       "    </tr>\n",
       "  </thead>\n",
       "  <tbody>\n",
       "    <tr>\n",
       "      <th>0</th>\n",
       "      <td>128</td>\n",
       "      <td>25</td>\n",
       "      <td>110</td>\n",
       "      <td>45.07</td>\n",
       "      <td>99</td>\n",
       "      <td>16.78</td>\n",
       "      <td>91</td>\n",
       "      <td>11.01</td>\n",
       "      <td>3</td>\n",
       "      <td>2.70</td>\n",
       "      <td>1</td>\n",
       "      <td>0</td>\n",
       "      <td>1</td>\n",
       "      <td>0</td>\n",
       "      <td>1</td>\n",
       "      <td>0</td>\n",
       "      <td>0</td>\n",
       "    </tr>\n",
       "    <tr>\n",
       "      <th>1</th>\n",
       "      <td>107</td>\n",
       "      <td>26</td>\n",
       "      <td>123</td>\n",
       "      <td>27.47</td>\n",
       "      <td>103</td>\n",
       "      <td>16.62</td>\n",
       "      <td>103</td>\n",
       "      <td>11.45</td>\n",
       "      <td>3</td>\n",
       "      <td>3.70</td>\n",
       "      <td>1</td>\n",
       "      <td>0</td>\n",
       "      <td>1</td>\n",
       "      <td>0</td>\n",
       "      <td>1</td>\n",
       "      <td>0</td>\n",
       "      <td>0</td>\n",
       "    </tr>\n",
       "    <tr>\n",
       "      <th>2</th>\n",
       "      <td>137</td>\n",
       "      <td>0</td>\n",
       "      <td>114</td>\n",
       "      <td>41.38</td>\n",
       "      <td>110</td>\n",
       "      <td>10.30</td>\n",
       "      <td>104</td>\n",
       "      <td>7.32</td>\n",
       "      <td>5</td>\n",
       "      <td>3.29</td>\n",
       "      <td>0</td>\n",
       "      <td>0</td>\n",
       "      <td>0</td>\n",
       "      <td>0</td>\n",
       "      <td>1</td>\n",
       "      <td>0</td>\n",
       "      <td>0</td>\n",
       "    </tr>\n",
       "    <tr>\n",
       "      <th>3</th>\n",
       "      <td>84</td>\n",
       "      <td>0</td>\n",
       "      <td>71</td>\n",
       "      <td>50.90</td>\n",
       "      <td>88</td>\n",
       "      <td>5.26</td>\n",
       "      <td>89</td>\n",
       "      <td>8.86</td>\n",
       "      <td>7</td>\n",
       "      <td>1.78</td>\n",
       "      <td>2</td>\n",
       "      <td>1</td>\n",
       "      <td>0</td>\n",
       "      <td>1</td>\n",
       "      <td>0</td>\n",
       "      <td>0</td>\n",
       "      <td>0</td>\n",
       "    </tr>\n",
       "    <tr>\n",
       "      <th>4</th>\n",
       "      <td>75</td>\n",
       "      <td>0</td>\n",
       "      <td>113</td>\n",
       "      <td>28.34</td>\n",
       "      <td>122</td>\n",
       "      <td>12.61</td>\n",
       "      <td>121</td>\n",
       "      <td>8.41</td>\n",
       "      <td>3</td>\n",
       "      <td>2.73</td>\n",
       "      <td>3</td>\n",
       "      <td>1</td>\n",
       "      <td>0</td>\n",
       "      <td>0</td>\n",
       "      <td>1</td>\n",
       "      <td>0</td>\n",
       "      <td>0</td>\n",
       "    </tr>\n",
       "  </tbody>\n",
       "</table>\n",
       "</div>"
      ],
      "text/plain": [
       "   account_length  num_of_voice_mail_messages  total_day_calls  \\\n",
       "0             128                          25              110   \n",
       "1             107                          26              123   \n",
       "2             137                           0              114   \n",
       "3              84                           0               71   \n",
       "4              75                           0              113   \n",
       "\n",
       "   total_day_charge  total_eve_calls  total_eve_charge  total_night_calls  \\\n",
       "0             45.07               99             16.78                 91   \n",
       "1             27.47              103             16.62                103   \n",
       "2             41.38              110             10.30                104   \n",
       "3             50.90               88              5.26                 89   \n",
       "4             28.34              122             12.61                121   \n",
       "\n",
       "   total_night_charge  total_intl_calls  total_intl_charge  \\\n",
       "0               11.01                 3               2.70   \n",
       "1               11.45                 3               3.70   \n",
       "2                7.32                 5               3.29   \n",
       "3                8.86                 7               1.78   \n",
       "4                8.41                 3               2.73   \n",
       "\n",
       "   number_customer_service_calls  international_plan_n  voice_mail_plan_n  \\\n",
       "0                              1                     0                  1   \n",
       "1                              1                     0                  1   \n",
       "2                              0                     0                  0   \n",
       "3                              2                     1                  0   \n",
       "4                              3                     1                  0   \n",
       "\n",
       "   area_code_408  area_code_415  area_code_510  churn_n  \n",
       "0              0              1              0        0  \n",
       "1              0              1              0        0  \n",
       "2              0              1              0        0  \n",
       "3              1              0              0        0  \n",
       "4              0              1              0        0  "
      ]
     },
     "execution_count": 44,
     "metadata": {},
     "output_type": "execute_result"
    }
   ],
   "source": [
    "import pandas as pd\n",
    "\n",
    "data = r\"/Users/meisan/Documents/GitHub/GA-DAT9-Projects1/R_Morgan_Project4_Files/telecom_data.csv\"\n",
    "df = pd.read_csv(data)\n",
    "df.head()"
   ]
  },
  {
   "cell_type": "code",
   "execution_count": 2,
   "metadata": {},
   "outputs": [],
   "source": [
    "import matplotlib.pyplot as plt\n",
    "import seaborn as sns\n",
    "import pandas as pd\n",
    "import numpy as np\n",
    "\n",
    "% matplotlib inline"
   ]
  },
  {
   "cell_type": "code",
   "execution_count": 3,
   "metadata": {},
   "outputs": [
    {
     "data": {
      "text/plain": [
       "<matplotlib.axes._subplots.AxesSubplot at 0x11456a668>"
      ]
     },
     "execution_count": 3,
     "metadata": {},
     "output_type": "execute_result"
    },
    {
     "data": {
      "image/png": "[encoded data removed]",
      "text/plain": [
       "<Figure size 432x288 with 2 Axes>"
      ]
     },
     "metadata": {},
     "output_type": "display_data"
    }
   ],
   "source": [
    "feature_names = ['account_length','num_of_voice_mail_messages','total_day_calls','total_day_charge',\n",
    "                 'total_eve_calls','total_eve_charge','total_night_calls','total_night_charge',\n",
    "                 'total_intl_calls','total_intl_charge','number_customer_service_calls','international_plan_n',\n",
    "                 'area_code_408','area_code_415','area_code_510']\n",
    "\n",
    "predictors = ['account_length','total_intl_charge','number_customer_service_calls',\n",
    "              'total_day_calls','area_code_408','area_code_415','area_code_510']\n",
    "\n",
    "X = df[feature_names]\n",
    "y = df['churn_n']\n",
    "\n",
    "sns.heatmap(X.corr(),vmin=-1,vmax=1,center=0,cmap='RdBu')"
   ]
  },
  {
   "cell_type": "code",
   "execution_count": 4,
   "metadata": {},
   "outputs": [],
   "source": [
    "from sklearn.preprocessing import StandardScaler\n",
    "\n",
    "ss = StandardScaler()\n",
    "\n",
    "# use the \"fit_transform\" function to standardize the X design matrix\n",
    "Xs = ss.fit_transform(X)"
   ]
  },
  {
   "cell_type": "markdown",
   "metadata": {},
   "source": [
    "#### Use Smote-Tomek to resample data"
   ]
  },
  {
   "cell_type": "code",
   "execution_count": 5,
   "metadata": {},
   "outputs": [
    {
     "name": "stdout",
     "output_type": "stream",
     "text": [
      "Original dataset shape Counter({0: 4293, 1: 707})\n",
      "Resampled dataset shape Counter({0: 4292, 1: 4292})\n"
     ]
    }
   ],
   "source": [
    "from collections import Counter\n",
    "from imblearn.combine import SMOTETomek\n",
    "smt = SMOTETomek(random_state=123)\n",
    "X_res, y_res = smt.fit_sample(Xs, y)\n",
    "print('Original dataset shape {}'.format(Counter(y)))\n",
    "print('Resampled dataset shape {}'.format(Counter(y_res)))\n",
    "X_samp = pd.DataFrame(X_res, columns = feature_names)\n",
    "y_samp = pd.DataFrame(y_res, columns = ['churn_n'])"
   ]
  },
  {
   "cell_type": "code",
   "execution_count": 6,
   "metadata": {},
   "outputs": [
    {
     "data": {
      "text/html": [
       "<div>\n",
       "<style scoped>\n",
       "    .dataframe tbody tr th:only-of-type {\n",
       "        vertical-align: middle;\n",
       "    }\n",
       "\n",
       "    .dataframe tbody tr th {\n",
       "        vertical-align: top;\n",
       "    }\n",
       "\n",
       "    .dataframe thead th {\n",
       "        text-align: right;\n",
       "    }\n",
       "</style>\n",
       "<table border=\"1\" class=\"dataframe\">\n",
       "  <thead>\n",
       "    <tr style=\"text-align: right;\">\n",
       "      <th></th>\n",
       "      <th>account_length</th>\n",
       "      <th>num_of_voice_mail_messages</th>\n",
       "      <th>total_day_calls</th>\n",
       "      <th>total_day_charge</th>\n",
       "      <th>total_eve_calls</th>\n",
       "      <th>total_eve_charge</th>\n",
       "      <th>total_night_calls</th>\n",
       "      <th>total_night_charge</th>\n",
       "      <th>total_intl_calls</th>\n",
       "      <th>total_intl_charge</th>\n",
       "      <th>number_customer_service_calls</th>\n",
       "      <th>international_plan_n</th>\n",
       "      <th>area_code_408</th>\n",
       "      <th>area_code_415</th>\n",
       "      <th>area_code_510</th>\n",
       "    </tr>\n",
       "  </thead>\n",
       "  <tbody>\n",
       "    <tr>\n",
       "      <th>0</th>\n",
       "      <td>0.698941</td>\n",
       "      <td>1.273145</td>\n",
       "      <td>0.502824</td>\n",
       "      <td>1.574074</td>\n",
       "      <td>-0.060077</td>\n",
       "      <td>-0.063849</td>\n",
       "      <td>-0.446928</td>\n",
       "      <td>0.876286</td>\n",
       "      <td>-0.584236</td>\n",
       "      <td>-0.095509</td>\n",
       "      <td>-0.436676</td>\n",
       "      <td>-0.323240</td>\n",
       "      <td>-0.580122</td>\n",
       "      <td>1.002002</td>\n",
       "      <td>-0.576119</td>\n",
       "    </tr>\n",
       "    <tr>\n",
       "      <th>1</th>\n",
       "      <td>0.169849</td>\n",
       "      <td>1.346973</td>\n",
       "      <td>1.158422</td>\n",
       "      <td>-0.347082</td>\n",
       "      <td>0.141693</td>\n",
       "      <td>-0.101089</td>\n",
       "      <td>0.154374</td>\n",
       "      <td>1.069818</td>\n",
       "      <td>-0.584236</td>\n",
       "      <td>1.245982</td>\n",
       "      <td>-0.436676</td>\n",
       "      <td>-0.323240</td>\n",
       "      <td>-0.580122</td>\n",
       "      <td>1.002002</td>\n",
       "      <td>-0.576119</td>\n",
       "    </tr>\n",
       "    <tr>\n",
       "      <th>2</th>\n",
       "      <td>0.925695</td>\n",
       "      <td>-0.572549</td>\n",
       "      <td>0.704546</td>\n",
       "      <td>1.171286</td>\n",
       "      <td>0.494791</td>\n",
       "      <td>-1.572084</td>\n",
       "      <td>0.204483</td>\n",
       "      <td>-0.746737</td>\n",
       "      <td>0.229917</td>\n",
       "      <td>0.695971</td>\n",
       "      <td>-1.202236</td>\n",
       "      <td>-0.323240</td>\n",
       "      <td>-0.580122</td>\n",
       "      <td>1.002002</td>\n",
       "      <td>-0.576119</td>\n",
       "    </tr>\n",
       "    <tr>\n",
       "      <th>3</th>\n",
       "      <td>-0.409634</td>\n",
       "      <td>-0.572549</td>\n",
       "      <td>-1.463971</td>\n",
       "      <td>2.210457</td>\n",
       "      <td>-0.614946</td>\n",
       "      <td>-2.745155</td>\n",
       "      <td>-0.547145</td>\n",
       "      <td>-0.069377</td>\n",
       "      <td>1.044069</td>\n",
       "      <td>-1.329681</td>\n",
       "      <td>0.328885</td>\n",
       "      <td>3.093675</td>\n",
       "      <td>1.723777</td>\n",
       "      <td>-0.998002</td>\n",
       "      <td>-0.576119</td>\n",
       "    </tr>\n",
       "    <tr>\n",
       "      <th>4</th>\n",
       "      <td>-0.636388</td>\n",
       "      <td>-0.572549</td>\n",
       "      <td>0.654116</td>\n",
       "      <td>-0.252115</td>\n",
       "      <td>1.100103</td>\n",
       "      <td>-1.034426</td>\n",
       "      <td>1.056327</td>\n",
       "      <td>-0.267307</td>\n",
       "      <td>-0.584236</td>\n",
       "      <td>-0.055264</td>\n",
       "      <td>1.094445</td>\n",
       "      <td>3.093675</td>\n",
       "      <td>-0.580122</td>\n",
       "      <td>1.002002</td>\n",
       "      <td>-0.576119</td>\n",
       "    </tr>\n",
       "  </tbody>\n",
       "</table>\n",
       "</div>"
      ],
      "text/plain": [
       "   account_length  num_of_voice_mail_messages  total_day_calls  \\\n",
       "0        0.698941                    1.273145         0.502824   \n",
       "1        0.169849                    1.346973         1.158422   \n",
       "2        0.925695                   -0.572549         0.704546   \n",
       "3       -0.409634                   -0.572549        -1.463971   \n",
       "4       -0.636388                   -0.572549         0.654116   \n",
       "\n",
       "   total_day_charge  total_eve_calls  total_eve_charge  total_night_calls  \\\n",
       "0          1.574074        -0.060077         -0.063849          -0.446928   \n",
       "1         -0.347082         0.141693         -0.101089           0.154374   \n",
       "2          1.171286         0.494791         -1.572084           0.204483   \n",
       "3          2.210457        -0.614946         -2.745155          -0.547145   \n",
       "4         -0.252115         1.100103         -1.034426           1.056327   \n",
       "\n",
       "   total_night_charge  total_intl_calls  total_intl_charge  \\\n",
       "0            0.876286         -0.584236          -0.095509   \n",
       "1            1.069818         -0.584236           1.245982   \n",
       "2           -0.746737          0.229917           0.695971   \n",
       "3           -0.069377          1.044069          -1.329681   \n",
       "4           -0.267307         -0.584236          -0.055264   \n",
       "\n",
       "   number_customer_service_calls  international_plan_n  area_code_408  \\\n",
       "0                      -0.436676             -0.323240      -0.580122   \n",
       "1                      -0.436676             -0.323240      -0.580122   \n",
       "2                      -1.202236             -0.323240      -0.580122   \n",
       "3                       0.328885              3.093675       1.723777   \n",
       "4                       1.094445              3.093675      -0.580122   \n",
       "\n",
       "   area_code_415  area_code_510  \n",
       "0       1.002002      -0.576119  \n",
       "1       1.002002      -0.576119  \n",
       "2       1.002002      -0.576119  \n",
       "3      -0.998002      -0.576119  \n",
       "4       1.002002      -0.576119  "
      ]
     },
     "execution_count": 6,
     "metadata": {},
     "output_type": "execute_result"
    }
   ],
   "source": [
    "X_samp.head()"
   ]
  },
  {
   "cell_type": "code",
   "execution_count": 7,
   "metadata": {
    "scrolled": false
   },
   "outputs": [
    {
     "data": {
      "text/plain": [
       "<matplotlib.axes._subplots.AxesSubplot at 0x1a21d28240>"
      ]
     },
     "execution_count": 7,
     "metadata": {},
     "output_type": "execute_result"
    },
    {
     "data": {
      "image/png": "[encoded data removed]",
      "text/plain": [
       "<Figure size 432x288 with 2 Axes>"
      ]
     },
     "metadata": {},
     "output_type": "display_data"
    }
   ],
   "source": [
    "#get visual distributions of all metrics\n",
    "sns.heatmap(X_samp.corr(),vmin=-1,vmax=1,center=0,cmap='RdBu')"
   ]
  },
  {
   "cell_type": "markdown",
   "metadata": {},
   "source": [
    "1. CRIM, ZN and RM do not have strong correlation, so we can use them as model features."
   ]
  },
  {
   "cell_type": "markdown",
   "metadata": {},
   "source": [
    "### Logisitic Regression Modelling"
   ]
  },
  {
   "cell_type": "code",
   "execution_count": 8,
   "metadata": {},
   "outputs": [
    {
     "name": "stdout",
     "output_type": "stream",
     "text": [
      "(6867, 15) (6867,)\n",
      "(1717, 15) (1717,)\n"
     ]
    }
   ],
   "source": [
    "from sklearn.linear_model import LogisticRegression\n",
    "from sklearn.model_selection import train_test_split\n",
    "\n",
    "\n",
    "# create training and testing vars, check shape\n",
    "X_train, X_test, y_train, y_test = train_test_split(X_res, y_res, test_size=0.2,random_state=123)\n",
    "print (X_train.shape, y_train.shape)\n",
    "print (X_test.shape, y_test.shape)"
   ]
  },
  {
   "cell_type": "code",
   "execution_count": 9,
   "metadata": {},
   "outputs": [
    {
     "data": {
      "text/plain": [
       "sklearn.linear_model.logistic.LogisticRegression"
      ]
     },
     "execution_count": 9,
     "metadata": {},
     "output_type": "execute_result"
    }
   ],
   "source": [
    "# Make an instance of a LinearRegression object.\n",
    "lr = LogisticRegression()\n",
    "type(lr)"
   ]
  },
  {
   "cell_type": "code",
   "execution_count": 10,
   "metadata": {},
   "outputs": [
    {
     "name": "stdout",
     "output_type": "stream",
     "text": [
      "[-0.68334051]\n",
      "[[ 0.06034927 -0.46044573  0.04311776  0.77387899 -0.01223031  0.43202967\n",
      "  -0.06308781  0.25381826 -0.1568363   0.23789095  0.87602113  0.71344466\n",
      "   0.02847505 -0.03032511  0.00648021]]\n"
     ]
    }
   ],
   "source": [
    "model = lr.fit(X_train, y_train)\n",
    "print(lr.intercept_)\n",
    "print(lr.coef_)"
   ]
  },
  {
   "cell_type": "code",
   "execution_count": 11,
   "metadata": {
    "scrolled": false
   },
   "outputs": [
    {
     "data": {
      "text/plain": [
       "array([0, 1, 1, ..., 1, 0, 1])"
      ]
     },
     "execution_count": 11,
     "metadata": {},
     "output_type": "execute_result"
    }
   ],
   "source": [
    "#assign array with predicted 'y' results to 'y_predicted'\n",
    "y_pred = lr.predict(X_test)\n",
    "y_pred"
   ]
  },
  {
   "cell_type": "code",
   "execution_count": 12,
   "metadata": {},
   "outputs": [],
   "source": [
    "y_pred_prob = lr.predict_proba(X_test)[:, 1]"
   ]
  },
  {
   "cell_type": "code",
   "execution_count": 13,
   "metadata": {},
   "outputs": [
    {
     "data": {
      "text/plain": [
       "array([[660, 183],\n",
       "       [192, 682]])"
      ]
     },
     "execution_count": 13,
     "metadata": {},
     "output_type": "execute_result"
    }
   ],
   "source": [
    "from sklearn import metrics\n",
    "metrics.confusion_matrix(y_true=y_test, y_pred=y_pred > .5)"
   ]
  },
  {
   "cell_type": "code",
   "execution_count": 14,
   "metadata": {},
   "outputs": [
    {
     "data": {
      "text/plain": [
       "0.8555217146998706"
      ]
     },
     "execution_count": 14,
     "metadata": {},
     "output_type": "execute_result"
    }
   ],
   "source": [
    "# calculate the fpr and tpr for all thresholds of the classification\n",
    "probs = model.predict_proba(X_test)\n",
    "preds = probs[:,1]\n",
    "fpr, tpr, threshold = metrics.roc_curve(y_test, preds)\n",
    "roc_auc = metrics.auc(fpr, tpr)\n",
    "roc_auc"
   ]
  },
  {
   "cell_type": "code",
   "execution_count": 15,
   "metadata": {},
   "outputs": [
    {
     "name": "stdout",
     "output_type": "stream",
     "text": [
      "Test Score: 0.7815958066394875\n",
      "Train Score: 0.7849133537206932\n"
     ]
    }
   ],
   "source": [
    "#print accuracy score of model\n",
    "print('Test Score:', model.score(X_test,y_test))\n",
    "print('Train Score:', model.score(X_train,y_train))"
   ]
  },
  {
   "cell_type": "markdown",
   "metadata": {},
   "source": [
    "### Elastic Net Regularisation"
   ]
  },
  {
   "cell_type": "code",
   "execution_count": 45,
   "metadata": {},
   "outputs": [
    {
     "data": {
      "text/plain": [
       "array([1.e-02, 1.e-01, 1.e+00, 1.e+01, 1.e+02])"
      ]
     },
     "execution_count": 45,
     "metadata": {},
     "output_type": "execute_result"
    }
   ],
   "source": [
    "alpha_range = 10.**np.arange(-2, 3)\n",
    "alpha_range"
   ]
  },
  {
   "cell_type": "code",
   "execution_count": 49,
   "metadata": {},
   "outputs": [
    {
     "name": "stdout",
     "output_type": "stream",
     "text": [
      "AUC for optimal alpha:  0.8442151138328569\n",
      "Optimal alpha:  0.1\n",
      "Intercept:  [-0.31212032]\n",
      "coefficients:  [[-0.2171081   0.41729156  0.42034555  0.4119751 ]]\n"
     ]
    }
   ],
   "source": [
    "from sklearn.linear_model import SGDClassifier\n",
    "#alpha = i for i in range(0.1,1,0.1)\n",
    "opt_auc = 0\n",
    "#find optimal auc through optimal alpha, use coefficients for feature selection\n",
    "for n in alpha_range:\n",
    "    clf = SGDClassifier(penalty='elasticnet',alpha=n,max_iter=1000, loss = 'log',random_state=123)\n",
    "    clf_model = clf.fit(X_train, y_train)\n",
    "    predicted_enet = clf.predict_proba(X_test)\n",
    "    preds = predicted_enet[:,1]\n",
    "    fpr_enet, tpr_enet, threshold_enet = metrics.roc_curve(y_test, preds)\n",
    "    roc_auc_enet = metrics.auc(fpr_enet, tpr_enet)\n",
    "    if roc_auc_enet >= opt_auc:\n",
    "        opt_auc = roc_auc_enet\n",
    "        opt_int = clf.intercept_\n",
    "        opt_coef = clf.coef_\n",
    "        opt_alpha = n\n",
    "print('AUC for optimal alpha: ', opt_auc)    \n",
    "print('Optimal alpha: ', opt_alpha)    \n",
    "print('Intercept: ', opt_int)\n",
    "print('coefficients: ',opt_coef)"
   ]
  },
  {
   "cell_type": "markdown",
   "metadata": {},
   "source": [
    "#### Feature removal"
   ]
  },
  {
   "cell_type": "markdown",
   "metadata": {},
   "source": [
    "elastic net feature removal retained the following features:\n",
    "\n",
    "__1. 'num_of_voice_mail_messages'__\n",
    "\n",
    "__2. 'total_day_charge'__\n",
    "\n",
    "__3. 'number_customer_service_calls'__\n",
    "\n",
    "__4. 'international_plan_n'__"
   ]
  },
  {
   "cell_type": "code",
   "execution_count": 17,
   "metadata": {},
   "outputs": [],
   "source": [
    "predicted_enet = clf.predict_proba(X_test)"
   ]
  },
  {
   "cell_type": "code",
   "execution_count": 18,
   "metadata": {},
   "outputs": [
    {
     "data": {
      "text/plain": [
       "0.8316455885187206"
      ]
     },
     "execution_count": 18,
     "metadata": {},
     "output_type": "execute_result"
    }
   ],
   "source": [
    "preds = predicted_enet[:,1]\n",
    "fpr_enet, tpr_enet, threshold_enet = metrics.roc_curve(y_test, preds)\n",
    "roc_auc_enet = metrics.auc(fpr_enet, tpr_enet)\n",
    "roc_auc_enet"
   ]
  },
  {
   "cell_type": "code",
   "execution_count": 19,
   "metadata": {},
   "outputs": [
    {
     "data": {
      "text/plain": [
       "array([[660, 183],\n",
       "       [192, 682]])"
      ]
     },
     "execution_count": 19,
     "metadata": {},
     "output_type": "execute_result"
    }
   ],
   "source": [
    "#performs worse with elasticnet\n",
    "metrics.confusion_matrix(y_true=y_test, y_pred=y_pred_prob > .5)"
   ]
  },
  {
   "cell_type": "code",
   "execution_count": 20,
   "metadata": {},
   "outputs": [
    {
     "name": "stdout",
     "output_type": "stream",
     "text": [
      "Training Score: 0.7164700742682394\n",
      "Test Score: 0.7350029120559115\n"
     ]
    }
   ],
   "source": [
    "print('Training Score:', clf_model.score(X_train,y_train))\n",
    "print('Test Score:', clf_model.score(X_test,y_test))"
   ]
  },
  {
   "cell_type": "markdown",
   "metadata": {},
   "source": [
    "### Re-fit"
   ]
  },
  {
   "cell_type": "code",
   "execution_count": 21,
   "metadata": {},
   "outputs": [
    {
     "data": {
      "text/plain": [
       "0.8432528210515458"
      ]
     },
     "execution_count": 21,
     "metadata": {},
     "output_type": "execute_result"
    }
   ],
   "source": [
    "#re-fit model with isolated features from elasticnet\n",
    "ss = StandardScaler()\n",
    "Xs = ss.fit_transform(X)\n",
    "\n",
    "enet_predictors = ['num_of_voice_mail_messages','total_day_charge',\n",
    "                   'number_customer_service_calls','international_plan_n']\n",
    "#assign enet predictors to balanced X data\n",
    "X_samp_f = X_samp[enet_predictors]\n",
    "\n",
    "#split data\n",
    "X_train, X_test, y_train, y_test = train_test_split(X_samp_f, y_res, test_size=0.2,random_state=123)\n",
    "\n",
    "\n",
    "lr = LogisticRegression()\n",
    "model_2 = lr.fit(X_train, y_train)\n",
    "\n",
    "y_pred = lr.predict(X_test)\n",
    "\n",
    "probs = model_2.predict_proba(X_test)\n",
    "preds = probs[:,1]\n",
    "fpr_2, tpr_2, threshold_2 = metrics.roc_curve(y_test, preds)\n",
    "roc_auc_2 = metrics.auc(fpr_2, tpr_2)\n",
    "roc_auc_2"
   ]
  },
  {
   "cell_type": "code",
   "execution_count": 22,
   "metadata": {},
   "outputs": [
    {
     "name": "stdout",
     "output_type": "stream",
     "text": [
      "Test Score: 0.7716948165404776\n",
      "Training Score: 0.762487257900102\n"
     ]
    }
   ],
   "source": [
    "#print accuracy score of model\n",
    "print('Test Score:', model_2.score(X_test,y_test))\n",
    "print('Training Score:', model_2.score(X_train,y_train))"
   ]
  },
  {
   "cell_type": "code",
   "execution_count": 23,
   "metadata": {},
   "outputs": [
    {
     "data": {
      "image/png": "[encoded data removed]",
      "text/plain": [
       "<Figure size 432x288 with 1 Axes>"
      ]
     },
     "metadata": {},
     "output_type": "display_data"
    }
   ],
   "source": [
    "# method I: plt\n",
    "import matplotlib.pyplot as plt\n",
    "plt.title('Receiver Operating Characteristic')\n",
    "plt.plot(fpr, tpr, 'b', label = 'AUC = %0.2f' % roc_auc)\n",
    "plt.plot(fpr_2, tpr_2, 'g', label = 'AUC = %0.2f' % roc_auc_2)\n",
    "plt.legend(loc = 'lower right')\n",
    "plt.plot([0, 1], [0, 1],'r--')\n",
    "plt.xlim([0, 1])\n",
    "plt.ylim([0, 1])\n",
    "plt.ylabel('True Positive Rate')\n",
    "plt.xlabel('False Positive Rate')\n",
    "plt.show()"
   ]
  },
  {
   "cell_type": "code",
   "execution_count": 24,
   "metadata": {},
   "outputs": [
    {
     "name": "stdout",
     "output_type": "stream",
     "text": [
      "0 features with greater than 0.60 missing values.\n",
      "\n"
     ]
    },
    {
     "name": "stderr",
     "output_type": "stream",
     "text": [
      "/Users/meisan/anaconda3/lib/python3.6/site-packages/lightgbm/__init__.py:46: UserWarning: Starting from version 2.2.1, the library file in distribution wheels for macOS is built by the Apple Clang (Xcode_9.4.1) compiler.\n",
      "This means that in case of installing LightGBM from PyPI via the ``pip install lightgbm`` command, you don't need to install the gcc compiler anymore.\n",
      "Instead of that, you need to install the OpenMP library, which is required for running LightGBM on the system with the Apple Clang compiler.\n",
      "You can install the OpenMP library by the following command: ``brew install libomp``.\n",
      "  \"You can install the OpenMP library by the following command: ``brew install libomp``.\", UserWarning)\n"
     ]
    },
    {
     "data": {
      "text/plain": [
       "[]"
      ]
     },
     "execution_count": 24,
     "metadata": {},
     "output_type": "execute_result"
    }
   ],
   "source": [
    "from feature_selector import FeatureSelector\n",
    "\n",
    "fs = FeatureSelector(data = X_samp, labels = y_samp)\n",
    "\n",
    "fs.identify_missing(missing_threshold=0.6)\n",
    "missing_features = fs.ops['missing']\n",
    "missing_features[:10]"
   ]
  },
  {
   "cell_type": "code",
   "execution_count": 25,
   "metadata": {},
   "outputs": [
    {
     "name": "stdout",
     "output_type": "stream",
     "text": [
      "0 features with a correlation magnitude greater than 0.97.\n",
      "\n"
     ]
    },
    {
     "data": {
      "text/plain": [
       "[]"
      ]
     },
     "execution_count": 25,
     "metadata": {},
     "output_type": "execute_result"
    }
   ],
   "source": [
    "fs.identify_collinear(correlation_threshold=0.975)\n",
    "correlated_features = fs.ops['collinear']\n",
    "correlated_features[:5]"
   ]
  },
  {
   "cell_type": "code",
   "execution_count": 26,
   "metadata": {},
   "outputs": [
    {
     "name": "stdout",
     "output_type": "stream",
     "text": [
      "Training Gradient Boosting Model\n",
      "\n",
      "Training until validation scores don't improve for 100 rounds.\n",
      "Early stopping, best iteration is:\n",
      "[691]\tvalid_0's auc: 0.997452\tvalid_0's binary_logloss: 0.0559305\n",
      "Training until validation scores don't improve for 100 rounds.\n",
      "Early stopping, best iteration is:\n",
      "[427]\tvalid_0's auc: 0.995248\tvalid_0's binary_logloss: 0.077122\n",
      "Training until validation scores don't improve for 100 rounds.\n",
      "Early stopping, best iteration is:\n",
      "[640]\tvalid_0's auc: 0.996605\tvalid_0's binary_logloss: 0.0628185\n",
      "Training until validation scores don't improve for 100 rounds.\n",
      "Early stopping, best iteration is:\n",
      "[347]\tvalid_0's auc: 0.990304\tvalid_0's binary_logloss: 0.104355\n",
      "Training until validation scores don't improve for 100 rounds.\n",
      "Early stopping, best iteration is:\n",
      "[403]\tvalid_0's auc: 0.995502\tvalid_0's binary_logloss: 0.082586\n",
      "Training until validation scores don't improve for 100 rounds.\n",
      "Early stopping, best iteration is:\n",
      "[796]\tvalid_0's auc: 0.996625\tvalid_0's binary_logloss: 0.060036\n",
      "Training until validation scores don't improve for 100 rounds.\n",
      "Early stopping, best iteration is:\n",
      "[387]\tvalid_0's auc: 0.989544\tvalid_0's binary_logloss: 0.105506\n",
      "Training until validation scores don't improve for 100 rounds.\n",
      "Early stopping, best iteration is:\n",
      "[655]\tvalid_0's auc: 0.996694\tvalid_0's binary_logloss: 0.0537761\n",
      "Training until validation scores don't improve for 100 rounds.\n",
      "Early stopping, best iteration is:\n",
      "[532]\tvalid_0's auc: 0.994254\tvalid_0's binary_logloss: 0.0831666\n",
      "Training until validation scores don't improve for 100 rounds.\n",
      "Early stopping, best iteration is:\n",
      "[449]\tvalid_0's auc: 0.993702\tvalid_0's binary_logloss: 0.0854733\n",
      "\n",
      "0 features with zero importance after one-hot encoding.\n",
      "\n",
      "There are 15 original features\n",
      "There are 0 one-hot features\n"
     ]
    }
   ],
   "source": [
    "fs.identify_zero_importance(task = 'classification', eval_metric = 'auc', \n",
    "                            n_iterations = 10, early_stopping = True)\n",
    "one_hot_features = fs.one_hot_features\n",
    "base_features = fs.base_features\n",
    "print('There are %d original features' % len(base_features))\n",
    "print('There are %d one-hot features' % len(one_hot_features))"
   ]
  },
  {
   "cell_type": "code",
   "execution_count": 27,
   "metadata": {},
   "outputs": [
    {
     "name": "stdout",
     "output_type": "stream",
     "text": [
      "13 features required for cumulative importance of 0.99 after one hot encoding.\n",
      "2 features do not contribute to cumulative importance of 0.99.\n",
      "\n"
     ]
    },
    {
     "data": {
      "text/plain": [
       "['area_code_408', 'area_code_510']"
      ]
     },
     "execution_count": 27,
     "metadata": {},
     "output_type": "execute_result"
    }
   ],
   "source": [
    "fs.identify_low_importance(cumulative_importance = 0.99)\n",
    "low_importance_features = fs.ops['low_importance']\n",
    "low_importance_features[:5]"
   ]
  },
  {
   "cell_type": "code",
   "execution_count": 28,
   "metadata": {
    "scrolled": true
   },
   "outputs": [],
   "source": [
    "#create probability / odds table for later use\n",
    "#lo_table = pd.DataFrame({'Probability':list(y_pred_prob),'Odds':list(y_pred_prob/(1-y_pred_prob))})\n",
    "#lo_table.shape"
   ]
  },
  {
   "cell_type": "code",
   "execution_count": 29,
   "metadata": {
    "scrolled": true
   },
   "outputs": [
    {
     "data": {
      "image/png": "[encoded data removed]",
      "text/plain": [
       "<Figure size 432x288 with 1 Axes>"
      ]
     },
     "metadata": {},
     "output_type": "display_data"
    }
   ],
   "source": [
    "fig, ax = plt.subplots()\n",
    "ax.scatter(y_pred_prob, y_test, edgecolors=(0,0,0))\n",
    "ax.plot([y.min(),y.max()],[y.min(),y.max()], 'k--', lw=4)\n",
    "ax.set_xlabel('Measured')\n",
    "ax.set_ylabel('Predicted')\n",
    "plt.show()"
   ]
  },
  {
   "cell_type": "markdown",
   "metadata": {},
   "source": [
    "### K-fold cross validation"
   ]
  },
  {
   "cell_type": "code",
   "execution_count": 30,
   "metadata": {},
   "outputs": [],
   "source": [
    "from sklearn.model_selection import cross_val_predict\n",
    "from sklearn.model_selection import cross_val_score\n",
    "from sklearn import metrics\n",
    "\n",
    "scores = []\n",
    "no_folds = []\n",
    "for n in range(2,51):\n",
    "    predicted = cross_val_predict(model, X_res, y_res, cv=n)\n",
    "    score = metrics.accuracy_score(y_res, predicted)\n",
    "    no_folds.append(n)\n",
    "    scores.append(score)"
   ]
  },
  {
   "cell_type": "code",
   "execution_count": 31,
   "metadata": {},
   "outputs": [
    {
     "name": "stdout",
     "output_type": "stream",
     "text": [
      "no_folds    13.000000\n",
      "scores       0.785182\n",
      "Name: 11, dtype: float64\n"
     ]
    },
    {
     "data": {
      "text/plain": [
       "<matplotlib.axes._subplots.AxesSubplot at 0x1a21fce588>"
      ]
     },
     "execution_count": 31,
     "metadata": {},
     "output_type": "execute_result"
    },
    {
     "data": {
      "image/png": "[encoded data removed]",
      "text/plain": [
       "<Figure size 432x288 with 1 Axes>"
      ]
     },
     "metadata": {},
     "output_type": "display_data"
    }
   ],
   "source": [
    "s = {'no_folds':no_folds, 'scores':scores}\n",
    "n_scores = pd.DataFrame(s)\n",
    "print(n_scores.iloc[n_scores['scores'].values.argmax()])\n",
    "n_scores.plot('no_folds', 'scores')"
   ]
  },
  {
   "cell_type": "code",
   "execution_count": 32,
   "metadata": {},
   "outputs": [
    {
     "name": "stdout",
     "output_type": "stream",
     "text": [
      "  |    0    1 |\n",
      "--+-----------+\n",
      "0 |<3322> 970 |\n",
      "1 |  880<3412>|\n",
      "--+-----------+\n",
      "(row = reference; col = test)\n",
      "\n"
     ]
    }
   ],
   "source": [
    "from nltk import ConfusionMatrix \n",
    "print (ConfusionMatrix(list(y_res), list(predicted)))"
   ]
  },
  {
   "cell_type": "code",
   "execution_count": 33,
   "metadata": {},
   "outputs": [
    {
     "name": "stdout",
     "output_type": "stream",
     "text": [
      "--------2-fold stats --------\n",
      "Cross-validated scores: [0.774156   0.77622378]\n",
      "mean of 2-fold CV scores: 0.7751898857835995\n",
      "Variance of 2-fold Cross validation: 1.068929442289021e-06\n",
      "\n",
      "--------3-fold stats --------\n",
      "Cross-validated scores: [0.77661431 0.76223776 0.77097902]\n",
      "mean of 3-fold CV scores: 0.7699436979541692\n",
      "Variance of 3-fold Cross validation: 3.498347090397373e-05\n",
      "\n",
      "--------4-fold stats --------\n",
      "Cross-validated scores: [0.75581395 0.79534884 0.77389277 0.76635514]\n",
      "mean of 4-fold CV scores: 0.772852676194341\n",
      "Variance of 4-fold Cross validation: 0.00020992377731300873\n",
      "\n",
      "--------5-fold stats --------\n",
      "Cross-validated scores: [0.75       0.80523256 0.77034884 0.77842566 0.76900585]\n",
      "mean of 5-fold CV scores: 0.774602579855746\n",
      "Variance of 5-fold Cross validation: 0.00032150323014822616\n",
      "\n",
      "--------6-fold stats --------\n",
      "Cross-validated scores: [0.74912892 0.82926829 0.75609756 0.78671329 0.76140351 0.76842105]\n",
      "mean of 6-fold CV scores: 0.7751721036059932\n",
      "Variance of 6-fold Cross validation: 0.0007228055115467293\n",
      "\n",
      "--------7-fold stats --------\n",
      "Cross-validated scores: [0.7601626  0.79674797 0.78861789 0.76734694 0.8        0.7755102\n",
      " 0.75409836]\n",
      "mean of 7-fold CV scores: 0.7774977083996334\n",
      "Variance of 7-fold Cross validation: 0.00027937252211812175\n",
      "\n",
      "--------8-fold stats --------\n",
      "Cross-validated scores: [0.75462963 0.78240741 0.82790698 0.75233645 0.76168224 0.80373832\n",
      " 0.78037383 0.74766355]\n",
      "mean of 8-fold CV scores: 0.7763423007880734\n",
      "Variance of 8-fold Cross validation: 0.0006934506627262098\n",
      "\n",
      "--------9-fold stats --------\n",
      "Cross-validated scores: [0.74479167 0.78534031 0.83769634 0.76963351 0.7539267  0.80104712\n",
      " 0.75263158 0.78421053 0.75789474]\n",
      "mean of 9-fold CV scores: 0.7763524986477246\n",
      "Variance of 9-fold Cross validation: 0.0007736598186699549\n",
      "\n",
      "--------10-fold stats --------\n",
      "Cross-validated scores: [0.75722543 0.76878613 0.82080925 0.77906977 0.77777778 0.77192982\n",
      " 0.80701754 0.75438596 0.76608187 0.76608187]\n",
      "mean of 10-fold CV scores: 0.7769165430491587\n",
      "Variance of 10-fold Cross validation: 0.000405913593794095\n",
      "\n",
      "--------11-fold stats --------\n",
      "Cross-validated scores: [0.77070064 0.74522293 0.82165605 0.84076433 0.75796178 0.77564103\n",
      " 0.75       0.81290323 0.7483871  0.76774194 0.78709677]\n",
      "mean of 11-fold CV scores: 0.7798250718530152\n",
      "Variance of 11-fold Cross validation: 0.0009464020546169697\n",
      "\n",
      "--------12-fold stats --------\n",
      "Cross-validated scores: [0.79166667 0.72222222 0.79166667 0.86013986 0.75524476 0.77622378\n",
      " 0.76223776 0.81818182 0.77622378 0.75524476 0.76056338 0.77464789]\n",
      "mean of 12-fold CV scores: 0.7786886105548078\n",
      "Variance of 12-fold Cross validation: 0.001120516145586397\n",
      "\n",
      "--------13-fold stats --------\n",
      "Cross-validated scores: [0.78947368 0.7443609  0.78195489 0.83333333 0.8030303  0.77272727\n",
      " 0.79545455 0.71212121 0.82575758 0.74242424 0.78787879 0.73282443\n",
      " 0.79389313]\n",
      "mean of 13-fold CV scores: 0.7780949464356455\n",
      "Variance of 13-fold Cross validation: 0.0011982280432370985\n",
      "\n",
      "--------14-fold stats --------\n",
      "Cross-validated scores: [0.7983871  0.72580645 0.77419355 0.83739837 0.85365854 0.74796748\n",
      " 0.74590164 0.7704918  0.79508197 0.81967213 0.74590164 0.80327869\n",
      " 0.69672131 0.81147541]\n",
      "mean of 14-fold CV scores: 0.7804240055130022\n",
      "Variance of 14-fold Cross validation: 0.0018383960233123268\n",
      "\n",
      "--------15-fold stats --------\n",
      "Cross-validated scores: [0.79310345 0.73275862 0.75862069 0.82608696 0.83333333 0.74561404\n",
      " 0.77192982 0.8245614  0.71929825 0.81578947 0.76315789 0.77192982\n",
      " 0.79824561 0.6754386  0.81578947]\n",
      "mean of 15-fold CV scores: 0.7763771622960449\n",
      "Variance of 15-fold Cross validation: 0.0019151061006414552\n",
      "\n",
      "--------16-fold stats --------\n",
      "Cross-validated scores: [0.7962963  0.71296296 0.75925926 0.80555556 0.85185185 0.81481481\n",
      " 0.76851852 0.75       0.78703704 0.75925926 0.8317757  0.77358491\n",
      " 0.72641509 0.83962264 0.66037736 0.83018868]\n",
      "mean of 16-fold CV scores: 0.7792199959834636\n",
      "Variance of 16-fold Cross validation: 0.002480994028528712\n",
      "\n",
      "--------17-fold stats --------\n",
      "Cross-validated scores: [0.79411765 0.71568627 0.75490196 0.79411765 0.8627451  0.85294118\n",
      " 0.71568627 0.76237624 0.84158416 0.72277228 0.8        0.84\n",
      " 0.71       0.77       0.81       0.67       0.84      ]\n",
      "mean of 17-fold CV scores: 0.7798193383352177\n",
      "Variance of 17-fold Cross validation: 0.0032026980883333965\n",
      "\n",
      "--------18-fold stats --------\n",
      "Cross-validated scores: [0.78125    0.70833333 0.77083333 0.80208333 0.83333333 0.83333333\n",
      " 0.79166667 0.77083333 0.75       0.78125    0.74736842 0.85263158\n",
      " 0.78947368 0.70526316 0.8        0.78723404 0.67021277 0.84042553]\n",
      "mean of 18-fold CV scores: 0.7786403249554145\n",
      "Variance of 18-fold Cross validation: 0.0022588341049245373\n",
      "\n",
      "--------19-fold stats --------\n",
      "Cross-validated scores: [0.78021978 0.72527473 0.75824176 0.78021978 0.81318681 0.84615385\n",
      " 0.83516484 0.72222222 0.74444444 0.82222222 0.72222222 0.77777778\n",
      " 0.87777778 0.75555556 0.74444444 0.77777778 0.75555556 0.71111111\n",
      " 0.83333333]\n",
      "mean of 19-fold CV scores: 0.7780476833108413\n",
      "Variance of 19-fold Cross validation: 0.0021715799453666386\n",
      "\n",
      "--------20-fold stats --------\n",
      "Cross-validated scores: [0.7816092  0.73563218 0.75862069 0.77906977 0.77906977 0.86046512\n",
      " 0.87209302 0.68604651 0.81395349 0.74418605 0.79069767 0.74418605\n",
      " 0.80232558 0.8255814  0.74117647 0.76470588 0.78823529 0.72941176\n",
      " 0.70588235 0.83529412]\n",
      "mean of 20-fold CV scores: 0.7769121184961555\n",
      "Variance of 20-fold Cross validation: 0.0022674950131248645\n",
      "\n",
      "--------21-fold stats --------\n",
      "Cross-validated scores: [0.78313253 0.74698795 0.75903614 0.74390244 0.79268293 0.87804878\n",
      " 0.81707317 0.7804878  0.79268293 0.7195122  0.81707317 0.7195122\n",
      " 0.7804878  0.86419753 0.77777778 0.74074074 0.74074074 0.85185185\n",
      " 0.69135802 0.72839506 0.83950617]\n",
      "mean of 21-fold CV scores: 0.7792946639226066\n",
      "Variance of 21-fold Cross validation: 0.0024873668251770634\n",
      "\n",
      "--------22-fold stats --------\n",
      "Cross-validated scores: [0.7721519  0.75949367 0.74683544 0.74683544 0.81012658 0.84810127\n",
      " 0.81012658 0.83333333 0.67948718 0.82051282 0.75641026 0.82051282\n",
      " 0.71794872 0.76923077 0.87179487 0.78205128 0.72727273 0.76623377\n",
      " 0.84415584 0.67532468 0.74025974 0.83116883]\n",
      "mean of 22-fold CV scores: 0.7786076600806175\n",
      "Variance of 22-fold Cross validation: 0.0027507049869216287\n",
      "\n",
      "--------23-fold stats --------\n",
      "Cross-validated scores: [0.77333333 0.8        0.70666667 0.74666667 0.8        0.81333333\n",
      " 0.84       0.86666667 0.76       0.74666667 0.74666667 0.81333333\n",
      " 0.74666667 0.72       0.85333333 0.81081081 0.77027027 0.71621622\n",
      " 0.77027027 0.85135135 0.68918919 0.72972973 0.82432432]\n",
      "mean of 23-fold CV scores: 0.7780650215432823\n",
      "Variance of 23-fold Cross validation: 0.0024490451929475078\n",
      "\n",
      "--------24-fold stats --------\n",
      "Cross-validated scores: [0.78082192 0.79452055 0.69863014 0.75       0.79166667 0.79166667\n",
      " 0.875      0.81944444 0.79166667 0.75       0.76056338 0.76056338\n",
      " 0.84507042 0.66197183 0.78873239 0.85915493 0.81690141 0.73239437\n",
      " 0.76056338 0.76056338 0.83098592 0.69014085 0.70422535 0.84507042]\n",
      "mean of 24-fold CV scores: 0.7775132689847863\n",
      "Variance of 24-fold Cross validation: 0.002907052321821944\n",
      "\n",
      "--------25-fold stats --------\n",
      "Cross-validated scores: [0.79710145 0.7826087  0.68115942 0.75362319 0.79710145 0.7826087\n",
      " 0.86956522 0.82608696 0.85507246 0.69565217 0.82608696 0.72463768\n",
      " 0.79710145 0.75362319 0.76811594 0.7826087  0.85507246 0.76811594\n",
      " 0.72058824 0.82352941 0.75       0.80882353 0.69117647 0.70588235\n",
      " 0.85074627]\n",
      "mean of 25-fold CV scores: 0.778667531905689\n",
      "Variance of 25-fold Cross validation: 0.002862459196532846\n",
      "\n",
      "--------26-fold stats --------\n",
      "Cross-validated scores: [0.79104478 0.7761194  0.70149254 0.7761194  0.7761194  0.80597015\n",
      " 0.85074627 0.82089552 0.86567164 0.71641791 0.7761194  0.72727273\n",
      " 0.78787879 0.84848485 0.66666667 0.77272727 0.86153846 0.81538462\n",
      " 0.73846154 0.73846154 0.73846154 0.84615385 0.76923077 0.69230769\n",
      " 0.72307692 0.86153846]\n",
      "mean of 26-fold CV scores: 0.778629311752159\n",
      "Variance of 26-fold Cross validation: 0.0031003352607072957\n",
      "\n",
      "--------27-fold stats --------\n",
      "Cross-validated scores: [0.8        0.78461538 0.66153846 0.8        0.73846154 0.81538462\n",
      " 0.828125   0.828125   0.84375    0.8125     0.68253968 0.84126984\n",
      " 0.6984127  0.84126984 0.74603175 0.77777778 0.77777778 0.87301587\n",
      " 0.80952381 0.73015873 0.6984127  0.76190476 0.87301587 0.74603175\n",
      " 0.65079365 0.74603175 0.87301587]\n",
      "mean of 27-fold CV scores: 0.779240152851264\n",
      "Variance of 27-fold Cross validation: 0.003988628537913175\n",
      "\n",
      "--------28-fold stats --------\n",
      "Cross-validated scores: [0.79365079 0.80952381 0.63492063 0.80645161 0.74193548 0.80645161\n",
      " 0.78688525 0.8852459  0.80327869 0.90163934 0.68852459 0.80327869\n",
      " 0.70491803 0.78688525 0.86885246 0.67213115 0.75409836 0.81967213\n",
      " 0.86885246 0.7704918  0.78688525 0.72131148 0.75409836 0.86885246\n",
      " 0.72131148 0.67213115 0.73770492 0.8852459 ]\n",
      "mean of 28-fold CV scores: 0.7805438939192811\n",
      "Variance of 28-fold Cross validation: 0.00484878245917401\n",
      "\n"
     ]
    },
    {
     "name": "stdout",
     "output_type": "stream",
     "text": [
      "--------29-fold stats --------\n",
      "Cross-validated scores: [0.80327869 0.78688525 0.65       0.81666667 0.72881356 0.77966102\n",
      " 0.81355932 0.86440678 0.83050847 0.84745763 0.77966102 0.71186441\n",
      " 0.83050847 0.71186441 0.81355932 0.76271186 0.74576271 0.76271186\n",
      " 0.84745763 0.83050847 0.81355932 0.72881356 0.77966102 0.74576271\n",
      " 0.86440678 0.69491525 0.66101695 0.76271186 0.88135593]\n",
      "mean of 29-fold CV scores: 0.7810362393129636\n",
      "Variance of 29-fold Cross validation: 0.0035386371330382634\n",
      "\n",
      "--------30-fold stats --------\n",
      "Cross-validated scores: [0.79661017 0.77966102 0.69491525 0.77586207 0.75438596 0.78947368\n",
      " 0.78947368 0.85964912 0.80701754 0.84210526 0.8245614  0.68421053\n",
      " 0.8245614  0.73684211 0.78947368 0.85964912 0.70175439 0.75438596\n",
      " 0.73684211 0.89473684 0.80701754 0.71929825 0.73684211 0.80701754\n",
      " 0.75438596 0.85964912 0.68421053 0.66666667 0.75438596 0.87719298]\n",
      "mean of 30-fold CV scores: 0.7787612661109231\n",
      "Variance of 30-fold Cross validation: 0.0036210658455647\n",
      "\n",
      "--------31-fold stats --------\n",
      "Cross-validated scores: [0.78947368 0.78947368 0.68421053 0.78947368 0.70175439 0.84210526\n",
      " 0.78181818 0.81818182 0.85454545 0.8        0.89090909 0.70909091\n",
      " 0.74545455 0.8        0.69090909 0.81818182 0.8        0.70909091\n",
      " 0.76363636 0.83636364 0.85454545 0.78181818 0.78181818 0.69090909\n",
      " 0.76363636 0.8        0.85454545 0.65454545 0.69090909 0.76363636\n",
      " 0.87272727]\n",
      "mean of 31-fold CV scores: 0.7781859340433195\n",
      "Variance of 31-fold Cross validation: 0.003748333301212905\n",
      "\n",
      "--------32-fold stats --------\n",
      "Cross-validated scores: [0.78181818 0.8        0.70909091 0.74545455 0.72727273 0.8\n",
      " 0.81818182 0.8        0.89090909 0.81818182 0.87037037 0.71698113\n",
      " 0.69811321 0.86792453 0.67924528 0.81132075 0.86792453 0.69811321\n",
      " 0.79245283 0.75471698 0.8490566  0.83018868 0.79245283 0.77358491\n",
      " 0.69811321 0.75471698 0.83018868 0.8490566  0.60377358 0.71698113\n",
      " 0.77358491 0.88679245]\n",
      "mean of 32-fold CV scores: 0.7814550775046059\n",
      "Variance of 32-fold Cross validation: 0.004590009737114813\n",
      "\n",
      "--------33-fold stats --------\n",
      "Cross-validated scores: [0.77358491 0.81132075 0.71698113 0.69811321 0.81132075 0.73584906\n",
      " 0.81132075 0.79245283 0.86792453 0.83018868 0.83018868 0.81132075\n",
      " 0.69811321 0.8490566  0.75471698 0.71698113 0.82692308 0.73076923\n",
      " 0.74509804 0.74509804 0.82352941 0.8627451  0.82352941 0.70588235\n",
      " 0.74509804 0.78431373 0.74509804 0.84313725 0.78431373 0.64705882\n",
      " 0.68627451 0.78431373 0.88235294]\n",
      "mean of 33-fold CV scores: 0.7780293759761019\n",
      "Variance of 33-fold Cross validation: 0.0033962266048177003\n",
      "\n",
      "--------34-fold stats --------\n",
      "Cross-validated scores: [0.76470588 0.82352941 0.74509804 0.68627451 0.76470588 0.76470588\n",
      " 0.80392157 0.78431373 0.8627451  0.84313725 0.80392157 0.90196078\n",
      " 0.68627451 0.70588235 0.82352941 0.70588235 0.82352941 0.8627451\n",
      " 0.70588235 0.74509804 0.76470588 0.8627451  0.8627451  0.78431373\n",
      " 0.76       0.68       0.82       0.73469388 0.87755102 0.73469388\n",
      " 0.71428571 0.65306122 0.75510204 0.91836735]\n",
      "mean of 34-fold CV scores: 0.7802972953887437\n",
      "Variance of 34-fold Cross validation: 0.004598551826661895\n",
      "\n",
      "--------35-fold stats --------\n",
      "Cross-validated scores: [0.76       0.82       0.78       0.65306122 0.79591837 0.71428571\n",
      " 0.81632653 0.79591837 0.79591837 0.91836735 0.79591837 0.83673469\n",
      " 0.79591837 0.69387755 0.83673469 0.75510204 0.69387755 0.83673469\n",
      " 0.85714286 0.69387755 0.79591837 0.73469388 0.85714286 0.85714286\n",
      " 0.75510204 0.79591837 0.69387755 0.81632653 0.73469388 0.85714286\n",
      " 0.73469388 0.71428571 0.65306122 0.75510204 0.91666667]\n",
      "mean of 35-fold CV scores: 0.7804995140913508\n",
      "Variance of 35-fold Cross validation: 0.004463934985517184\n",
      "\n",
      "--------36-fold stats --------\n",
      "Cross-validated scores: [0.75510204 0.81632653 0.79591837 0.63265306 0.81632653 0.71428571\n",
      " 0.81632653 0.7755102  0.81632653 0.89795918 0.8125     0.8125\n",
      " 0.85416667 0.66666667 0.8125     0.78723404 0.70212766 0.78723404\n",
      " 0.89361702 0.68085106 0.74468085 0.76595745 0.82978723 0.87234043\n",
      " 0.78723404 0.76595745 0.78723404 0.65957447 0.78723404 0.80851064\n",
      " 0.87234043 0.72340426 0.70212766 0.63829787 0.76595745 0.91489362]\n",
      "mean of 36-fold CV scores: 0.7797684381081038\n",
      "Variance of 36-fold Cross validation: 0.00502561850094479\n",
      "\n",
      "--------37-fold stats --------\n",
      "Cross-validated scores: [0.74468085 0.82978723 0.78723404 0.61702128 0.80851064 0.74468085\n",
      " 0.78723404 0.78723404 0.80851064 0.87234043 0.80851064 0.82978723\n",
      " 0.89361702 0.70212766 0.65957447 0.89361702 0.70212766 0.76595745\n",
      " 0.82978723 0.82978723 0.65957447 0.80851064 0.78723404 0.82608696\n",
      " 0.86956522 0.80434783 0.7173913  0.7173913  0.7826087  0.71111111\n",
      " 0.84444444 0.86666667 0.64444444 0.75555556 0.66666667 0.75555556\n",
      " 0.91111111]\n",
      "mean of 37-fold CV scores: 0.7791998288760547\n",
      "Variance of 37-fold Cross validation: 0.005477934532668987\n",
      "\n",
      "--------38-fold stats --------\n",
      "Cross-validated scores: [0.73913043 0.82608696 0.80434783 0.63043478 0.7826087  0.73913043\n",
      " 0.76086957 0.82222222 0.8        0.82222222 0.88888889 0.77777778\n",
      " 0.86666667 0.82222222 0.68888889 0.77777778 0.82222222 0.66666667\n",
      " 0.82222222 0.82222222 0.68888889 0.73333333 0.82222222 0.73333333\n",
      " 0.88888889 0.86666667 0.77777778 0.75555556 0.68888889 0.8\n",
      " 0.71111111 0.84444444 0.86666667 0.64444444 0.75555556 0.66666667\n",
      " 0.75555556 0.91111111]\n",
      "mean of 38-fold CV scores: 0.7787821001779814\n",
      "Variance of 38-fold Cross validation: 0.00498656090455894\n",
      "\n",
      "--------39-fold stats --------\n",
      "Cross-validated scores: [0.73333333 0.82222222 0.8        0.64444444 0.82222222 0.73333333\n",
      " 0.77777778 0.77777778 0.8        0.84444444 0.88888889 0.8\n",
      " 0.84444444 0.84444444 0.71111111 0.73333333 0.79545455 0.72727273\n",
      " 0.77272727 0.81818182 0.84090909 0.70454545 0.79545455 0.72727273\n",
      " 0.88372093 0.8372093  0.79069767 0.79069767 0.76744186 0.69767442\n",
      " 0.81395349 0.72093023 0.88372093 0.81395349 0.6744186  0.6744186\n",
      " 0.72093023 0.76744186 0.90697674]\n",
      "mean of 39-fold CV scores: 0.7821482565668612\n",
      "Variance of 39-fold Cross validation: 0.003982836710406399\n",
      "\n",
      "--------40-fold stats --------\n",
      "Cross-validated scores: [0.72727273 0.84090909 0.79545455 0.6744186  0.74418605 0.76744186\n",
      " 0.76744186 0.81395349 0.79069767 0.76744186 0.93023256 0.79069767\n",
      " 0.8372093  0.90697674 0.72093023 0.6744186  0.8372093  0.79069767\n",
      " 0.6744186  0.81395349 0.8372093  0.74418605 0.74418605 0.79069767\n",
      " 0.76744186 0.86046512 0.86046512 0.79069767 0.76744186 0.74418605\n",
      " 0.6744186  0.8372093  0.72093023 0.88372093 0.78571429 0.66666667\n",
      " 0.64285714 0.76190476 0.76190476 0.9047619 ]\n",
      "mean of 40-fold CV scores: 0.7803256820698681\n",
      "Variance of 40-fold Cross validation: 0.004762183889686998\n",
      "\n",
      "--------41-fold stats --------\n",
      "Cross-validated scores: [0.74418605 0.8372093  0.79069767 0.65116279 0.74418605 0.79069767\n",
      " 0.76744186 0.81395349 0.79069767 0.76744186 0.90697674 0.79069767\n",
      " 0.81395349 0.9047619  0.76190476 0.64285714 0.83333333 0.80952381\n",
      " 0.66666667 0.80952381 0.80952381 0.85714286 0.66666667 0.80487805\n",
      " 0.73170732 0.80487805 0.90243902 0.80487805 0.7804878  0.75609756\n",
      " 0.70731707 0.75609756 0.75609756 0.80487805 0.85365854 0.80487805\n",
      " 0.6097561  0.68292683 0.75609756 0.7804878  0.90243902]\n",
      "mean of 41-fold CV scores: 0.7797855387191746\n",
      "Variance of 41-fold Cross validation: 0.0048840848822859365\n",
      "\n",
      "--------42-fold stats --------\n",
      "Cross-validated scores: [0.73809524 0.83333333 0.80952381 0.65853659 0.73170732 0.80487805\n",
      " 0.70731707 0.7804878  0.82926829 0.75609756 0.87804878 0.87804878\n",
      " 0.80487805 0.82926829 0.90243902 0.63414634 0.73170732 0.85365854\n",
      " 0.73170732 0.70731707 0.80487805 0.82926829 0.7804878  0.68292683\n",
      " 0.82926829 0.73170732 0.82926829 0.90243902 0.75609756 0.80487805\n",
      " 0.7804878  0.70731707 0.80487805 0.68292683 0.85       0.875\n",
      " 0.75       0.6        0.725      0.75       0.775      0.9       ]\n",
      "mean of 42-fold CV scores: 0.7798165201039764\n",
      "Variance of 42-fold Cross validation: 0.005288238479910997\n",
      "\n",
      "--------43-fold stats --------\n",
      "Cross-validated scores: [0.73170732 0.82926829 0.82926829 0.68292683 0.70731707 0.80487805\n",
      " 0.68292683 0.80487805 0.80487805 0.75609756 0.87804878 0.87804878\n",
      " 0.82926829 0.80487805 0.925      0.7        0.675      0.825\n",
      " 0.8        0.65       0.825      0.8        0.9        0.65\n",
      " 0.75       0.725      0.82051282 0.87179487 0.84615385 0.84615385\n",
      " 0.69230769 0.79487179 0.69230769 0.82051282 0.69230769 0.82051282\n",
      " 0.8974359  0.66666667 0.66666667 0.69230769 0.79487179 0.76923077\n",
      " 0.8974359 ]\n",
      "mean of 43-fold CV scores: 0.779800965719854\n",
      "Variance of 43-fold Cross validation: 0.006003094914801795\n",
      "\n",
      "--------44-fold stats --------\n",
      "Cross-validated scores: [0.75       0.8        0.825      0.7        0.7        0.775\n",
      " 0.7        0.82051282 0.82051282 0.79487179 0.79487179 0.8974359\n",
      " 0.82051282 0.82051282 0.84615385 0.82051282 0.69230769 0.66666667\n",
      " 0.87179487 0.76923077 0.71794872 0.79487179 0.82051282 0.82051282\n",
      " 0.69230769 0.79487179 0.74358974 0.79487179 0.8974359  0.84615385\n",
      " 0.82051282 0.71794872 0.76923077 0.69230769 0.84615385 0.66666667\n",
      " 0.82051282 0.87179487 0.71052632 0.65789474 0.65789474 0.81578947\n",
      " 0.76315789 0.89473684]\n",
      "mean of 44-fold CV scores: 0.7798659673659674\n",
      "Variance of 44-fold Cross validation: 0.004622336203151078\n",
      "\n"
     ]
    },
    {
     "name": "stdout",
     "output_type": "stream",
     "text": [
      "--------45-fold stats --------\n",
      "Cross-validated scores: [0.74358974 0.79487179 0.84615385 0.69230769 0.66666667 0.82051282\n",
      " 0.74358974 0.76923077 0.82051282 0.76923077 0.79487179 0.8974359\n",
      " 0.84615385 0.79487179 0.84615385 0.87179487 0.64102564 0.69230769\n",
      " 0.84615385 0.78947368 0.65789474 0.84210526 0.81578947 0.89473684\n",
      " 0.65789474 0.68421053 0.76315789 0.84210526 0.84210526 0.86842105\n",
      " 0.76315789 0.78947368 0.81578947 0.64864865 0.78378378 0.81081081\n",
      " 0.72972973 0.86486486 0.81081081 0.67567568 0.7027027  0.64864865\n",
      " 0.81081081 0.75675676 0.89189189]\n",
      "mean of 45-fold CV scores: 0.779086373823216\n",
      "Variance of 45-fold Cross validation: 0.005465038637051476\n",
      "\n",
      "--------46-fold stats --------\n",
      "Cross-validated scores: [0.73684211 0.81578947 0.81578947 0.78947368 0.55263158 0.84210526\n",
      " 0.76315789 0.76315789 0.81578947 0.76315789 0.78947368 0.86842105\n",
      " 0.89473684 0.76315789 0.86842105 0.89189189 0.7027027  0.75675676\n",
      " 0.7027027  0.86486486 0.72972973 0.72972973 0.78378378 0.86486486\n",
      " 0.78378378 0.7027027  0.75675676 0.7027027  0.78378378 0.91891892\n",
      " 0.83783784 0.78378378 0.78378378 0.81081081 0.64864865 0.78378378\n",
      " 0.81081081 0.72972973 0.86486486 0.81081081 0.67567568 0.7027027\n",
      " 0.64864865 0.81081081 0.75675676 0.89189189]\n",
      "mean of 46-fold CV scores: 0.7797637454388028\n",
      "Variance of 46-fold Cross validation: 0.005413266394672319\n",
      "\n",
      "--------47-fold stats --------\n",
      "Cross-validated scores: [0.72972973 0.81081081 0.81081081 0.81081081 0.56756757 0.83783784\n",
      " 0.75675676 0.75675676 0.78378378 0.81081081 0.75675676 0.86486486\n",
      " 0.86486486 0.81081081 0.81081081 0.86486486 0.83783784 0.7027027\n",
      " 0.67567568 0.83783784 0.78378378 0.7027027  0.78378378 0.86486486\n",
      " 0.83783784 0.7027027  0.67567568 0.72972973 0.86111111 0.77777778\n",
      " 0.88888889 0.83333333 0.80555556 0.75       0.69444444 0.69444444\n",
      " 0.83333333 0.66666667 0.86111111 0.88888889 0.77777778 0.63888889\n",
      " 0.75       0.61111111 0.8        0.8        0.88571429]\n",
      "mean of 47-fold CV scores: 0.7787836468687531\n",
      "Variance of 47-fold Cross validation: 0.005793005165450753\n",
      "\n",
      "--------48-fold stats --------\n",
      "Cross-validated scores: [0.72972973 0.81081081 0.81081081 0.81081081 0.56756757 0.83783784\n",
      " 0.75675676 0.75675676 0.78378378 0.81081081 0.75       0.86111111\n",
      " 0.86111111 0.86111111 0.80555556 0.80555556 0.88888889 0.66666667\n",
      " 0.69444444 0.86111111 0.83333333 0.69444444 0.69444444 0.83333333\n",
      " 0.86111111 0.72222222 0.75       0.77142857 0.68571429 0.77142857\n",
      " 0.91428571 0.85714286 0.8        0.77142857 0.77142857 0.77142857\n",
      " 0.65714286 0.82857143 0.68571429 0.82857143 0.85714286 0.85714286\n",
      " 0.62857143 0.71428571 0.62857143 0.8        0.8        0.88571429]\n",
      "mean of 48-fold CV scores: 0.7792882167882169\n",
      "Variance of 48-fold Cross validation: 0.005915759630925691\n",
      "\n",
      "--------49-fold stats --------\n",
      "Cross-validated scores: [0.75       0.80555556 0.80555556 0.80555556 0.61111111 0.75\n",
      " 0.80555556 0.72222222 0.75       0.83333333 0.8        0.77142857\n",
      " 0.91428571 0.85714286 0.77142857 0.85714286 0.91428571 0.68571429\n",
      " 0.8        0.62857143 0.91428571 0.74285714 0.65714286 0.82857143\n",
      " 0.8        0.91428571 0.6        0.74285714 0.82857143 0.71428571\n",
      " 0.82857143 0.88571429 0.88571429 0.74285714 0.77142857 0.82857143\n",
      " 0.71428571 0.68571429 0.88571429 0.65714286 0.8        0.91176471\n",
      " 0.76470588 0.64705882 0.73529412 0.58823529 0.82352941 0.82352941\n",
      " 0.88235294]\n",
      "mean of 49-fold CV scores: 0.7804883858305227\n",
      "Variance of 49-fold Cross validation: 0.007616405986890176\n",
      "\n",
      "--------50-fold stats --------\n",
      "Cross-validated scores: [0.74285714 0.82857143 0.8        0.77142857 0.62857143 0.71428571\n",
      " 0.85714286 0.71428571 0.77142857 0.8        0.8        0.8\n",
      " 0.85714286 0.85714286 0.82857143 0.8        0.88571429 0.8\n",
      " 0.71428571 0.68571429 0.85714286 0.74285714 0.71428571 0.8\n",
      " 0.85294118 0.79411765 0.76470588 0.70588235 0.70588235 0.76470588\n",
      " 0.85294118 0.82352941 0.88235294 0.82352941 0.82352941 0.73529412\n",
      " 0.70588235 0.70588235 0.79411765 0.79411765 0.73529412 0.82352941\n",
      " 0.91176471 0.63636364 0.66666667 0.75757576 0.63636364 0.78787879\n",
      " 0.84848485 0.87878788]\n",
      "mean of 50-fold CV scores: 0.7796709956709956\n",
      "Variance of 50-fold Cross validation: 0.004734175049115416\n",
      "\n"
     ]
    }
   ],
   "source": [
    "scores = []\n",
    "for n in range(2,51):\n",
    "    scores = cross_val_score(model, X_test, y_test, cv=n)\n",
    "    print('--------{0}-fold stats --------'.format(n))\n",
    "    print ('Cross-validated scores:', scores)\n",
    "    print ('mean of {0}-fold CV scores: {1}'.format(n,np.mean(scores)))\n",
    "    print(\"Variance of {0}-fold Cross validation: {1}\".format(n,np.var(scores)))\n",
    "    print('')"
   ]
  },
  {
   "cell_type": "code",
   "execution_count": null,
   "metadata": {},
   "outputs": [],
   "source": []
  },
  {
   "cell_type": "code",
   "execution_count": 34,
   "metadata": {
    "scrolled": true
   },
   "outputs": [],
   "source": [
    "# cross_val_predict returns an array of the same size as `y` where each entry\n",
    "# is a prediction obtained by cross validation:\n",
    "#predicted = cross_val_predict(lr, y_predicted, y_test, cv=10, random_state=123)\n",
    "\n",
    "\n",
    "#fig, ax = plt.subplots()\n",
    "#ax.scatter(y_test, predicted, edgecolors=(0,0,0))\n",
    "#ax.plot([y.min(),y.max()],[y.min(),y.max()], 'k--', lw=4)\n",
    "#ax.set_xlabel('Measured')\n",
    "#ax.set_ylabel('Predicted')\n",
    "#plt.show()"
   ]
  },
  {
   "cell_type": "markdown",
   "metadata": {},
   "source": [
    "### KNN Model"
   ]
  },
  {
   "cell_type": "code",
   "execution_count": 35,
   "metadata": {},
   "outputs": [],
   "source": [
    "# Increase the default figure and font sizes for easier viewing\n",
    "import matplotlib.ticker as ticker\n",
    "\n",
    "plt.rcParams['figure.figsize'] = (7, 4)\n",
    "plt.rcParams['font.size'] = 14\n",
    "plt.rcParams[\"xtick.labelsize\"] = 7\n",
    "plt.rcParams[\"ytick.labelsize\"] = 7"
   ]
  },
  {
   "cell_type": "code",
   "execution_count": 36,
   "metadata": {},
   "outputs": [],
   "source": [
    "# Create a custom colormap\n",
    "from matplotlib.colors import ListedColormap\n",
    "\n",
    "cmap_bold = ListedColormap(['#FF0000', '#00FF00'])"
   ]
  },
  {
   "cell_type": "code",
   "execution_count": 37,
   "metadata": {},
   "outputs": [
    {
     "data": {
      "image/png": "[encoded data removed]",
      "text/plain": [
       "<Figure size 504x288 with 2 Axes>"
      ]
     },
     "metadata": {},
     "output_type": "display_data"
    }
   ],
   "source": [
    "# Create a scatterplot of PETAL LENGTH versus PETAL WIDTH and color by SPECIES\n",
    "df.plot(kind='scatter', x='total_intl_charge', y='number_customer_service_calls', c='churn_n', colormap=cmap_bold);"
   ]
  },
  {
   "cell_type": "markdown",
   "metadata": {},
   "source": [
    "### KNN Classification "
   ]
  },
  {
   "cell_type": "code",
   "execution_count": 38,
   "metadata": {},
   "outputs": [
    {
     "name": "stdout",
     "output_type": "stream",
     "text": [
      "knn_acc            0.868957\n",
      "num_neighbours    13.000000\n",
      "Name: 11, dtype: float64\n"
     ]
    },
    {
     "data": {
      "text/plain": [
       "<matplotlib.axes._subplots.AxesSubplot at 0x1a24f0a8d0>"
      ]
     },
     "execution_count": 38,
     "metadata": {},
     "output_type": "execute_result"
    },
    {
     "data": {
      "image/png": "[encoded data removed]",
      "text/plain": [
       "<Figure size 504x288 with 1 Axes>"
      ]
     },
     "metadata": {},
     "output_type": "display_data"
    }
   ],
   "source": [
    "from sklearn.neighbors import KNeighborsClassifier\n",
    "from sklearn.metrics import accuracy_score\n",
    "#looped function for calculating accuracy for various neighbours\n",
    "knn_acc = []\n",
    "num_neighbours = []\n",
    "\n",
    "for n in range(2,51):\n",
    "    knn = KNeighborsClassifier(n_neighbors=n)\n",
    "    knn.fit(X_train, y_train)\n",
    "    predicted_knn = knn.predict(X_test)\n",
    "    knn_acc.append(accuracy_score(y_test, predicted_knn))\n",
    "    num_neighbours.append(n)\n",
    "    \n",
    "s = {'knn_acc':knn_acc, 'num_neighbours':num_neighbours}\n",
    "knn_scores = pd.DataFrame(s)\n",
    "print(knn_scores.iloc[knn_scores['knn_acc'].values.argmax()])\n",
    "knn_scores.plot('num_neighbours', 'knn_acc')\n",
    "    \n"
   ]
  },
  {
   "cell_type": "markdown",
   "metadata": {},
   "source": [
    "Optimal number of neigbours is 13. We will use n = 13 for computing ROC & AUC."
   ]
  },
  {
   "cell_type": "code",
   "execution_count": 39,
   "metadata": {},
   "outputs": [
    {
     "data": {
      "text/plain": [
       "0.9231373730628598"
      ]
     },
     "execution_count": 39,
     "metadata": {},
     "output_type": "execute_result"
    }
   ],
   "source": [
    "knn_13 = KNeighborsClassifier(n_neighbors=13)\n",
    "knn_model = knn.fit(X_train, y_train)\n",
    "predicted_knn = knn.predict_proba(X_test)\n",
    "preds = predicted_knn[:,1]\n",
    "fpr_knn, tpr_knn, threshold_knn = metrics.roc_curve(y_test, preds)\n",
    "roc_auc_knn = metrics.auc(fpr_knn, tpr_knn)\n",
    "roc_auc_knn"
   ]
  },
  {
   "cell_type": "code",
   "execution_count": 40,
   "metadata": {},
   "outputs": [
    {
     "name": "stdout",
     "output_type": "stream",
     "text": [
      "0.9304754192104038\n",
      "0.8417751027870172\n",
      "0.8255785348781655\n",
      "0.6432703981436015\n"
     ]
    }
   ],
   "source": [
    "#cross-validate all models with optimal number of folds - 13 folds.\n",
    "print(cross_val_score(knn_model, X_res, y_res, cv=13, scoring='roc_auc').mean())\n",
    "print(cross_val_score(model, X_res, y_res, cv=13, scoring='roc_auc').mean())\n",
    "print(cross_val_score(model_2, X_samp_f, y_res, cv=13, scoring='roc_auc').mean()) \n",
    "print(cross_val_score(clf_model, X, y, cv=13, scoring='roc_auc').mean())"
   ]
  },
  {
   "cell_type": "code",
   "execution_count": 41,
   "metadata": {},
   "outputs": [
    {
     "data": {
      "image/png": "[encoded data removed]",
      "text/plain": [
       "<Figure size 504x288 with 1 Axes>"
      ]
     },
     "metadata": {},
     "output_type": "display_data"
    }
   ],
   "source": [
    "plt.title('Receiver Operating Characteristic')\n",
    "plt.plot(fpr, tpr, 'b', label = 'Log_Reg AUC = %0.2f' % roc_auc)\n",
    "plt.plot(fpr_2, tpr_2, 'g', label = 'Opt Log_Reg AUC = %0.2f' % roc_auc_2)\n",
    "plt.plot(fpr_knn, tpr_knn, 'm', label = 'KNN AUC = %0.2f' % roc_auc_knn)\n",
    "plt.plot(fpr_enet, tpr_enet, 'y', label = 'KNN AUC = %0.2f' % roc_auc_enet)\n",
    "plt.legend(loc = 'lower right')\n",
    "plt.plot([0, 1], [0, 1],'r--')\n",
    "plt.xlim([0, 1])\n",
    "plt.ylim([0, 1])\n",
    "plt.ylabel('True Positive Rate')\n",
    "plt.xlabel('False Positive Rate')\n",
    "plt.show()"
   ]
  },
  {
   "cell_type": "code",
   "execution_count": 42,
   "metadata": {},
   "outputs": [
    {
     "name": "stdout",
     "output_type": "stream",
     "text": [
      "model accuracy for 1 neighbours is 0.836924868957484\n",
      "model accuracy for 2 neighbours is 0.8229470005824112\n",
      "model accuracy for 3 neighbours is 0.8538147932440303\n",
      "model accuracy for 4 neighbours is 0.8474082702387886\n",
      "model accuracy for 5 neighbours is 0.8637157833430402\n",
      "model accuracy for 6 neighbours is 0.856144437973209\n",
      "model accuracy for 7 neighbours is 0.8666278392545137\n",
      "model accuracy for 8 neighbours is 0.8619685497961561\n",
      "model accuracy for 9 neighbours is 0.8683750728013978\n",
      "model accuracy for 10 neighbours is 0.8613861386138614\n"
     ]
    }
   ],
   "source": [
    "#looped function for calculating accuracy for various neighbours\n",
    "def get_knn(n):\n",
    "    for n in range(1,n+1):\n",
    "        knn = KNeighborsClassifier(n_neighbors=n)\n",
    "        knn.fit(X_train, y_train)\n",
    "        predicted_knn = knn.predict(X_test)\n",
    "        acc = accuracy_score(y_test, predicted_knn)\n",
    "        print('model accuracy for {0} neighbours is {1}'.format(n, acc))\n",
    "\n",
    "get_knn(10)"
   ]
  },
  {
   "cell_type": "markdown",
   "metadata": {},
   "source": [
    "### Example: Using the Statsmodels Formula\n",
    "\n",
    "Adapt the formula example using your metrics. We will review this implementation in class. Here is a reference to consider. The workflow is the same, but the syntax is a little different. We want to get accustomed to the formula syntax because we will be using them a lot more with regressions. The results should be comparable to scikit-learn's regression models."
   ]
  },
  {
   "cell_type": "code",
   "execution_count": 43,
   "metadata": {},
   "outputs": [
    {
     "ename": "NameError",
     "evalue": "name 'boston' is not defined",
     "output_type": "error",
     "traceback": [
      "\u001b[0;31m---------------------------------------------------------------------------\u001b[0m",
      "\u001b[0;31mNameError\u001b[0m                                 Traceback (most recent call last)",
      "\u001b[0;32m<ipython-input-43-b951b2b76713>\u001b[0m in \u001b[0;36m<module>\u001b[0;34m()\u001b[0m\n\u001b[1;32m      1\u001b[0m \u001b[0;31m# First, format our data in a DataFrame\u001b[0m\u001b[0;34m\u001b[0m\u001b[0;34m\u001b[0m\u001b[0m\n\u001b[1;32m      2\u001b[0m \u001b[0;34m\u001b[0m\u001b[0m\n\u001b[0;32m----> 3\u001b[0;31m \u001b[0mdf\u001b[0m \u001b[0;34m=\u001b[0m \u001b[0mpd\u001b[0m\u001b[0;34m.\u001b[0m\u001b[0mDataFrame\u001b[0m\u001b[0;34m(\u001b[0m\u001b[0mboston\u001b[0m\u001b[0;34m.\u001b[0m\u001b[0mdata\u001b[0m\u001b[0;34m,\u001b[0m \u001b[0mcolumns\u001b[0m\u001b[0;34m=\u001b[0m\u001b[0mboston\u001b[0m\u001b[0;34m.\u001b[0m\u001b[0mfeature_names\u001b[0m\u001b[0;34m)\u001b[0m\u001b[0;34m\u001b[0m\u001b[0m\n\u001b[0m\u001b[1;32m      4\u001b[0m \u001b[0mdf\u001b[0m\u001b[0;34m[\u001b[0m\u001b[0;34m'MEDV'\u001b[0m\u001b[0;34m]\u001b[0m \u001b[0;34m=\u001b[0m \u001b[0mboston\u001b[0m\u001b[0;34m.\u001b[0m\u001b[0mtarget\u001b[0m\u001b[0;34m\u001b[0m\u001b[0m\n\u001b[1;32m      5\u001b[0m \u001b[0mdf\u001b[0m\u001b[0;34m.\u001b[0m\u001b[0mhead\u001b[0m\u001b[0;34m(\u001b[0m\u001b[0;34m)\u001b[0m\u001b[0;34m\u001b[0m\u001b[0m\n",
      "\u001b[0;31mNameError\u001b[0m: name 'boston' is not defined"
     ]
    }
   ],
   "source": [
    "# First, format our data in a DataFrame\n",
    "\n",
    "df = pd.DataFrame(boston.data, columns=boston.feature_names)\n",
    "df['MEDV'] = boston.target\n",
    "df.head()"
   ]
  },
  {
   "cell_type": "code",
   "execution_count": null,
   "metadata": {},
   "outputs": [],
   "source": [
    "# Set up our new statsmodel.formula handling model\n",
    "import statsmodels.formula.api as smf\n",
    "\n",
    "# You can easily swap these out to test multiple versions/different formulas\n",
    "formulas = {\n",
    "    \"case1\": \"MEDV ~ RM + LSTAT + RAD + TAX + NOX + INDUS + CRIM + ZN - 1\", # - 1 = remove intercept\n",
    "    \"case2\": \"MEDV ~ NOX + RM\",\n",
    "    \"case3\": \"MEDV ~ RAD + TAX\"\n",
    "}\n",
    "\n",
    "model = smf.ols(formula=formulas['case1'], data=df)\n",
    "result = model.fit()\n",
    "\n",
    "result.summary()"
   ]
  },
  {
   "cell_type": "markdown",
   "metadata": {},
   "source": [
    "### Bonus Challenge #1:\n",
    "\n",
    "Can you optimize your R2, selecting the best features and using either test-train split or k-folds?"
   ]
  },
  {
   "cell_type": "code",
   "execution_count": null,
   "metadata": {
    "scrolled": false
   },
   "outputs": [],
   "source": [
    "from sklearn.linear_model import ElasticNet\n",
    "\n",
    "X = pd.DataFrame(boston.data,columns=boston.feature_names)\n",
    "y = pd.DataFrame(boston.target, columns=['MEDV'])\n",
    "\n",
    "X_train, X_test, y_train, y_test = train_test_split(X, y, test_size=0.2,random_state=123)\n",
    "\n",
    "alpha = 0.4\n",
    "enet = ElasticNet(alpha=alpha, l1_ratio=1)\n",
    "enet_model = enet.fit(X_train, y_train)\n",
    "\n",
    "print(enet.intercept_)\n",
    "print(enet.coef_)"
   ]
  },
  {
   "cell_type": "markdown",
   "metadata": {},
   "source": [
    "I'm choosing to optimise the score by using elastic net, in conjunction with linear regression for predicting MEDV.\n",
    "\n",
    "1. Fitted an elastic net regression model for all boston features, setting Alpha to 0.4 and l1_ratio to 1 (LASSO).\n",
    "2. Printed intercept and coefficients to determine removed features\n",
    "3. By my estimation, features removed correspond to INDUS, CHAS, NOX and AGE.\n",
    "\n",
    "I played around with the 'alpha' value, arriving at 0.4 as optimal."
   ]
  },
  {
   "cell_type": "code",
   "execution_count": null,
   "metadata": {
    "scrolled": true
   },
   "outputs": [],
   "source": [
    "print('Training Score:', enet_model.score(X_train,y_train))\n",
    "print('Test Score:', enet_model.score(X_test,y_test))"
   ]
  },
  {
   "cell_type": "markdown",
   "metadata": {},
   "source": [
    "1. Compared Accuracies, less than 10% difference - indicates overfitting."
   ]
  },
  {
   "cell_type": "code",
   "execution_count": null,
   "metadata": {},
   "outputs": [],
   "source": [
    "for n in range(5,11):\n",
    "    scores = cross_val_score(enet, X_test, y_test, scoring=\"r2\", cv=n)\n",
    "    print('-------- {0}-fold ENet stats --------'.format(n))\n",
    "    print ('Cross-validated ENet scores:', scores)\n",
    "    print ('mean of {0}-fold ENet CV scores: {1}'.format(n,np.mean(scores)))\n",
    "    #print(\"Variance of {0}-fold Cross validation: {1}\".format(n,np.var(scores)))\n",
    "    print('')"
   ]
  },
  {
   "cell_type": "markdown",
   "metadata": {},
   "source": [
    "1. 8 Fold elastic net model appears to have the highest R2 score. From interpretation against initial R2 score from statsmodel, there doesn't seem to be an improvement."
   ]
  }
 ],
 "metadata": {
  "anaconda-cloud": {},
  "kernelspec": {
   "display_name": "Python 3",
   "language": "python",
   "name": "python3"
  },
  "language_info": {
   "codemirror_mode": {
    "name": "ipython",
    "version": 3
   },
   "file_extension": ".py",
   "mimetype": "text/x-python",
   "name": "python",
   "nbconvert_exporter": "python",
   "pygments_lexer": "ipython3",
   "version": "3.6.5"
  }
 },
 "nbformat": 4,
 "nbformat_minor": 2
}
