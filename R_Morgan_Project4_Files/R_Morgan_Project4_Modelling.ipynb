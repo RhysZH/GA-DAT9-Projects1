{
 "cells": [
  {
   "cell_type": "markdown",
   "metadata": {},
   "source": [
    "\n",
    "# Project 4: Churn Prediction Modelling \n",
    "\n",
    "---"
   ]
  },
  {
   "cell_type": "code",
   "execution_count": 9,
   "metadata": {
    "scrolled": true
   },
   "outputs": [],
   "source": [
    "import pandas as pd\n",
    "\n",
    "data = r\"/Users/meisan/Documents/GitHub/GA-DAT9-Projects1/R_Morgan_Project4_Files/telecom_data.csv\"\n",
    "df = pd.read_csv(data)"
   ]
  },
  {
   "cell_type": "code",
   "execution_count": 10,
   "metadata": {},
   "outputs": [],
   "source": [
    "import matplotlib.pyplot as plt\n",
    "import seaborn as sns\n",
    "import pandas as pd\n",
    "import numpy as np\n",
    "\n",
    "% matplotlib inline"
   ]
  },
  {
   "cell_type": "code",
   "execution_count": 11,
   "metadata": {},
   "outputs": [],
   "source": [
    "feature_names = ['account_length','num_of_voice_mail_messages','total_day_calls','total_day_charge',\n",
    "                 'total_eve_calls','total_eve_charge','total_night_calls','total_night_charge',\n",
    "                 'total_intl_calls','total_intl_charge','number_customer_service_calls','international_plan_n',\n",
    "                 'area_code_408','area_code_415','area_code_510']\n",
    "\n",
    "predictors = ['account_length','total_intl_charge','number_customer_service_calls',\n",
    "              'total_day_calls','area_code_408','area_code_415','area_code_510']\n",
    "\n",
    "X = df[feature_names]\n",
    "y = df['churn_n']\n"
   ]
  },
  {
   "cell_type": "code",
   "execution_count": 12,
   "metadata": {},
   "outputs": [],
   "source": [
    "from sklearn.preprocessing import StandardScaler\n",
    "\n",
    "ss = StandardScaler()\n",
    "\n",
    "# use the \"fit_transform\" function to standardize the X design matrix\n",
    "Xs = ss.fit_transform(X)"
   ]
  },
  {
   "cell_type": "markdown",
   "metadata": {},
   "source": [
    "#### Use Smote-Tomek to resample data"
   ]
  },
  {
   "cell_type": "code",
   "execution_count": 13,
   "metadata": {},
   "outputs": [
    {
     "name": "stdout",
     "output_type": "stream",
     "text": [
      "Original dataset shape Counter({0: 4293, 1: 707})\n",
      "Resampled dataset shape Counter({0: 4285, 1: 4285})\n"
     ]
    }
   ],
   "source": [
    "#from collections import Counter\n",
    "from imblearn.combine import SMOTETomek\n",
    "smt = SMOTETomek(random_state=42)\n",
    "X_res, y_res = smt.fit_sample(Xs, y)\n",
    "print('Original dataset shape {}'.format(Counter(y)))\n",
    "print('Resampled dataset shape {}'.format(Counter(y_res)))\n",
    "X_samp = pd.DataFrame(X_res, columns = feature_names)\n",
    "y_samp = pd.DataFrame(y_res, columns = ['churn_n'])"
   ]
  },
  {
   "cell_type": "code",
   "execution_count": 7,
   "metadata": {},
   "outputs": [
    {
     "data": {
      "text/html": [
       "<div>\n",
       "<style scoped>\n",
       "    .dataframe tbody tr th:only-of-type {\n",
       "        vertical-align: middle;\n",
       "    }\n",
       "\n",
       "    .dataframe tbody tr th {\n",
       "        vertical-align: top;\n",
       "    }\n",
       "\n",
       "    .dataframe thead th {\n",
       "        text-align: right;\n",
       "    }\n",
       "</style>\n",
       "<table border=\"1\" class=\"dataframe\">\n",
       "  <thead>\n",
       "    <tr style=\"text-align: right;\">\n",
       "      <th></th>\n",
       "      <th>account_length</th>\n",
       "      <th>num_of_voice_mail_messages</th>\n",
       "      <th>total_day_calls</th>\n",
       "      <th>total_day_charge</th>\n",
       "      <th>total_eve_calls</th>\n",
       "      <th>total_eve_charge</th>\n",
       "      <th>total_night_calls</th>\n",
       "      <th>total_night_charge</th>\n",
       "      <th>total_intl_calls</th>\n",
       "      <th>total_intl_charge</th>\n",
       "      <th>number_customer_service_calls</th>\n",
       "      <th>international_plan_n</th>\n",
       "      <th>area_code_408</th>\n",
       "      <th>area_code_415</th>\n",
       "      <th>area_code_510</th>\n",
       "    </tr>\n",
       "  </thead>\n",
       "  <tbody>\n",
       "    <tr>\n",
       "      <th>0</th>\n",
       "      <td>0.698941</td>\n",
       "      <td>1.273145</td>\n",
       "      <td>0.502824</td>\n",
       "      <td>1.574074</td>\n",
       "      <td>-0.060077</td>\n",
       "      <td>-0.063849</td>\n",
       "      <td>-0.446928</td>\n",
       "      <td>0.876286</td>\n",
       "      <td>-0.584236</td>\n",
       "      <td>-0.095509</td>\n",
       "      <td>-0.436676</td>\n",
       "      <td>-0.323240</td>\n",
       "      <td>-0.580122</td>\n",
       "      <td>1.002002</td>\n",
       "      <td>-0.576119</td>\n",
       "    </tr>\n",
       "    <tr>\n",
       "      <th>1</th>\n",
       "      <td>0.169849</td>\n",
       "      <td>1.346973</td>\n",
       "      <td>1.158422</td>\n",
       "      <td>-0.347082</td>\n",
       "      <td>0.141693</td>\n",
       "      <td>-0.101089</td>\n",
       "      <td>0.154374</td>\n",
       "      <td>1.069818</td>\n",
       "      <td>-0.584236</td>\n",
       "      <td>1.245982</td>\n",
       "      <td>-0.436676</td>\n",
       "      <td>-0.323240</td>\n",
       "      <td>-0.580122</td>\n",
       "      <td>1.002002</td>\n",
       "      <td>-0.576119</td>\n",
       "    </tr>\n",
       "    <tr>\n",
       "      <th>2</th>\n",
       "      <td>0.925695</td>\n",
       "      <td>-0.572549</td>\n",
       "      <td>0.704546</td>\n",
       "      <td>1.171286</td>\n",
       "      <td>0.494791</td>\n",
       "      <td>-1.572084</td>\n",
       "      <td>0.204483</td>\n",
       "      <td>-0.746737</td>\n",
       "      <td>0.229917</td>\n",
       "      <td>0.695971</td>\n",
       "      <td>-1.202236</td>\n",
       "      <td>-0.323240</td>\n",
       "      <td>-0.580122</td>\n",
       "      <td>1.002002</td>\n",
       "      <td>-0.576119</td>\n",
       "    </tr>\n",
       "    <tr>\n",
       "      <th>3</th>\n",
       "      <td>-0.409634</td>\n",
       "      <td>-0.572549</td>\n",
       "      <td>-1.463971</td>\n",
       "      <td>2.210457</td>\n",
       "      <td>-0.614946</td>\n",
       "      <td>-2.745155</td>\n",
       "      <td>-0.547145</td>\n",
       "      <td>-0.069377</td>\n",
       "      <td>1.044069</td>\n",
       "      <td>-1.329681</td>\n",
       "      <td>0.328885</td>\n",
       "      <td>3.093675</td>\n",
       "      <td>1.723777</td>\n",
       "      <td>-0.998002</td>\n",
       "      <td>-0.576119</td>\n",
       "    </tr>\n",
       "    <tr>\n",
       "      <th>4</th>\n",
       "      <td>-0.636388</td>\n",
       "      <td>-0.572549</td>\n",
       "      <td>0.654116</td>\n",
       "      <td>-0.252115</td>\n",
       "      <td>1.100103</td>\n",
       "      <td>-1.034426</td>\n",
       "      <td>1.056327</td>\n",
       "      <td>-0.267307</td>\n",
       "      <td>-0.584236</td>\n",
       "      <td>-0.055264</td>\n",
       "      <td>1.094445</td>\n",
       "      <td>3.093675</td>\n",
       "      <td>-0.580122</td>\n",
       "      <td>1.002002</td>\n",
       "      <td>-0.576119</td>\n",
       "    </tr>\n",
       "  </tbody>\n",
       "</table>\n",
       "</div>"
      ],
      "text/plain": [
       "   account_length  num_of_voice_mail_messages  total_day_calls  \\\n",
       "0        0.698941                    1.273145         0.502824   \n",
       "1        0.169849                    1.346973         1.158422   \n",
       "2        0.925695                   -0.572549         0.704546   \n",
       "3       -0.409634                   -0.572549        -1.463971   \n",
       "4       -0.636388                   -0.572549         0.654116   \n",
       "\n",
       "   total_day_charge  total_eve_calls  total_eve_charge  total_night_calls  \\\n",
       "0          1.574074        -0.060077         -0.063849          -0.446928   \n",
       "1         -0.347082         0.141693         -0.101089           0.154374   \n",
       "2          1.171286         0.494791         -1.572084           0.204483   \n",
       "3          2.210457        -0.614946         -2.745155          -0.547145   \n",
       "4         -0.252115         1.100103         -1.034426           1.056327   \n",
       "\n",
       "   total_night_charge  total_intl_calls  total_intl_charge  \\\n",
       "0            0.876286         -0.584236          -0.095509   \n",
       "1            1.069818         -0.584236           1.245982   \n",
       "2           -0.746737          0.229917           0.695971   \n",
       "3           -0.069377          1.044069          -1.329681   \n",
       "4           -0.267307         -0.584236          -0.055264   \n",
       "\n",
       "   number_customer_service_calls  international_plan_n  area_code_408  \\\n",
       "0                      -0.436676             -0.323240      -0.580122   \n",
       "1                      -0.436676             -0.323240      -0.580122   \n",
       "2                      -1.202236             -0.323240      -0.580122   \n",
       "3                       0.328885              3.093675       1.723777   \n",
       "4                       1.094445              3.093675      -0.580122   \n",
       "\n",
       "   area_code_415  area_code_510  \n",
       "0       1.002002      -0.576119  \n",
       "1       1.002002      -0.576119  \n",
       "2       1.002002      -0.576119  \n",
       "3      -0.998002      -0.576119  \n",
       "4       1.002002      -0.576119  "
      ]
     },
     "execution_count": 7,
     "metadata": {},
     "output_type": "execute_result"
    }
   ],
   "source": [
    "X_samp.head()"
   ]
  },
  {
   "cell_type": "code",
   "execution_count": 31,
   "metadata": {
    "scrolled": false
   },
   "outputs": [
    {
     "data": {
      "text/plain": [
       "<matplotlib.axes._subplots.AxesSubplot at 0x1a0b70c908>"
      ]
     },
     "execution_count": 31,
     "metadata": {},
     "output_type": "execute_result"
    },
    {
     "data": {
      "image/png": "[encoded data removed]",
      "text/plain": [
       "<Figure size 432x288 with 2 Axes>"
      ]
     },
     "metadata": {},
     "output_type": "display_data"
    }
   ],
   "source": [
    "#get visual distributions of all metrics\n",
    "sns.heatmap(X_samp.corr(),vmin=-1,vmax=1,center=0,cmap='RdBu')"
   ]
  },
  {
   "cell_type": "markdown",
   "metadata": {},
   "source": [
    "1. CRIM, ZN and RM do not have strong correlation, so we can use them as model features."
   ]
  },
  {
   "cell_type": "markdown",
   "metadata": {},
   "source": [
    "### Logisitic Regression Modelling"
   ]
  },
  {
   "cell_type": "code",
   "execution_count": 32,
   "metadata": {},
   "outputs": [
    {
     "name": "stdout",
     "output_type": "stream",
     "text": [
      "(6856, 15) (6856,)\n",
      "(1714, 15) (1714,)\n"
     ]
    }
   ],
   "source": [
    "from sklearn.linear_model import LogisticRegression\n",
    "from sklearn.model_selection import train_test_split\n",
    "\n",
    "\n",
    "# create training and testing vars, check shape\n",
    "X_train, X_test, y_train, y_test = train_test_split(X_res, y_res, test_size=0.2,random_state=123)\n",
    "print (X_train.shape, y_train.shape)\n",
    "print (X_test.shape, y_test.shape)"
   ]
  },
  {
   "cell_type": "code",
   "execution_count": 33,
   "metadata": {},
   "outputs": [
    {
     "data": {
      "text/plain": [
       "sklearn.linear_model.logistic.LogisticRegression"
      ]
     },
     "execution_count": 33,
     "metadata": {},
     "output_type": "execute_result"
    }
   ],
   "source": [
    "# Make an instance of a LinearRegression object.\n",
    "lr = LogisticRegression()\n",
    "type(lr)"
   ]
  },
  {
   "cell_type": "code",
   "execution_count": 34,
   "metadata": {
    "scrolled": true
   },
   "outputs": [],
   "source": [
    "# help(lr)\n"
   ]
  },
  {
   "cell_type": "code",
   "execution_count": 35,
   "metadata": {},
   "outputs": [
    {
     "name": "stdout",
     "output_type": "stream",
     "text": [
      "[-0.70770615]\n",
      "[[ 0.0802099  -0.48152806  0.1272586   0.81748867  0.01558429  0.38409885\n",
      "  -0.10692036  0.21415336 -0.18709153  0.25001661  0.90955716  0.69646474\n",
      "  -0.00257573 -0.01770704  0.02305281]]\n"
     ]
    }
   ],
   "source": [
    "model = lr.fit(X_train, y_train)\n",
    "print(lr.intercept_)\n",
    "print(lr.coef_)"
   ]
  },
  {
   "cell_type": "code",
   "execution_count": 36,
   "metadata": {
    "scrolled": false
   },
   "outputs": [
    {
     "data": {
      "text/plain": [
       "array([1, 0, 0, ..., 0, 1, 0])"
      ]
     },
     "execution_count": 36,
     "metadata": {},
     "output_type": "execute_result"
    }
   ],
   "source": [
    "#assign array with predicted 'y' results to 'y_predicted'\n",
    "y_pred = lr.predict(X_test)\n",
    "y_pred"
   ]
  },
  {
   "cell_type": "code",
   "execution_count": 37,
   "metadata": {},
   "outputs": [],
   "source": [
    "y_pred_prob = lr.predict_proba(X_test)[:, 1]"
   ]
  },
  {
   "cell_type": "code",
   "execution_count": 52,
   "metadata": {
    "scrolled": true
   },
   "outputs": [
    {
     "data": {
      "text/plain": [
       "(1714, 2)"
      ]
     },
     "execution_count": 52,
     "metadata": {},
     "output_type": "execute_result"
    }
   ],
   "source": [
    "lo_table = pd.DataFrame({'Probability':list(y_pred_prob),'Odds':list(y_pred_prob/(1-y_pred_prob))})\n",
    "lo_table.shape"
   ]
  },
  {
   "cell_type": "code",
   "execution_count": 39,
   "metadata": {},
   "outputs": [
    {
     "data": {
      "text/plain": [
       "array([[682, 173],\n",
       "       [162, 697]])"
      ]
     },
     "execution_count": 39,
     "metadata": {},
     "output_type": "execute_result"
    }
   ],
   "source": [
    "from sklearn import metrics\n",
    "metrics.confusion_matrix(y_true=y_test, y_pred=y_pred > .5)"
   ]
  },
  {
   "cell_type": "code",
   "execution_count": 40,
   "metadata": {
    "scrolled": true
   },
   "outputs": [
    {
     "data": {
      "image/png": "[encoded data removed]",
      "text/plain": [
       "<Figure size 432x288 with 1 Axes>"
      ]
     },
     "metadata": {},
     "output_type": "display_data"
    }
   ],
   "source": [
    "fig, ax = plt.subplots()\n",
    "ax.scatter(y_pred_prob, y_test, edgecolors=(0,0,0))\n",
    "ax.plot([y.min(),y.max()],[y.min(),y.max()], 'k--', lw=4)\n",
    "ax.set_xlabel('Measured')\n",
    "ax.set_ylabel('Predicted')\n",
    "plt.show()"
   ]
  },
  {
   "cell_type": "code",
   "execution_count": 41,
   "metadata": {
    "scrolled": true
   },
   "outputs": [
    {
     "name": "stdout",
     "output_type": "stream",
     "text": [
      "Score: 0.8045507584597433\n",
      "Score: 0.7850058343057176\n"
     ]
    }
   ],
   "source": [
    "#print accuracy score of model\n",
    "print('Score:', model.score(X_test,y_test))\n",
    "print('Score:', model.score(X_train,y_train))"
   ]
  },
  {
   "cell_type": "code",
   "execution_count": 42,
   "metadata": {},
   "outputs": [],
   "source": [
    "from sklearn.model_selection import cross_val_predict\n",
    "from sklearn.model_selection import cross_val_score\n",
    "from sklearn import metrics\n",
    "\n",
    "n_scores = pd.DataFrame(columns=['no_folds','scores'])"
   ]
  },
  {
   "cell_type": "code",
   "execution_count": 43,
   "metadata": {},
   "outputs": [],
   "source": [
    "scores = []\n",
    "no_folds = []\n",
    "for n in range(2,51):\n",
    "    predicted = cross_val_predict(model, X_res, y_res, cv=n)\n",
    "    score = metrics.accuracy_score(y_res, predicted)\n",
    "    no_folds.append(n)\n",
    "    scores.append(score)"
   ]
  },
  {
   "cell_type": "code",
   "execution_count": 44,
   "metadata": {},
   "outputs": [
    {
     "data": {
      "text/plain": [
       "<matplotlib.axes._subplots.AxesSubplot at 0x1a18a02390>"
      ]
     },
     "execution_count": 44,
     "metadata": {},
     "output_type": "execute_result"
    },
    {
     "data": {
      "image/png": "[encoded data removed]",
      "text/plain": [
       "<Figure size 432x288 with 1 Axes>"
      ]
     },
     "metadata": {},
     "output_type": "display_data"
    }
   ],
   "source": [
    "s = {'no_folds':no_folds, 'scores':scores}\n",
    "n_scores = pd.DataFrame(s)\n",
    "n_scores.plot('no_folds', 'scores')"
   ]
  },
  {
   "cell_type": "code",
   "execution_count": 45,
   "metadata": {},
   "outputs": [
    {
     "name": "stdout",
     "output_type": "stream",
     "text": [
      "  |    0    1 |\n",
      "--+-----------+\n",
      "0 |<3323> 962 |\n",
      "1 |  848<3437>|\n",
      "--+-----------+\n",
      "(row = reference; col = test)\n",
      "\n"
     ]
    }
   ],
   "source": [
    "from nltk import ConfusionMatrix \n",
    "print (ConfusionMatrix(list(y_res), list(predicted)))"
   ]
  },
  {
   "cell_type": "code",
   "execution_count": 47,
   "metadata": {},
   "outputs": [
    {
     "name": "stdout",
     "output_type": "stream",
     "text": [
      "--------2-fold stats --------\n",
      "Cross-validated scores: [0.82517483 0.78971963]\n",
      "mean of 2-fold CV scores: 0.8074472256715248\n",
      "Variance of 2-fold Cross validation: 0.000314267784149418\n",
      "\n",
      "--------3-fold stats --------\n",
      "Cross-validated scores: [0.83391608 0.8056042  0.78809107]\n",
      "mean of 3-fold CV scores: 0.8092037851232247\n",
      "Variance of 3-fold Cross validation: 0.0003564671711994696\n",
      "\n",
      "--------4-fold stats --------\n",
      "Cross-validated scores: [0.82983683 0.81351981 0.77156177 0.80562061]\n",
      "mean of 4-fold CV scores: 0.8051347559544281\n",
      "Variance of 4-fold Cross validation: 0.00045197074464501513\n",
      "\n",
      "--------5-fold stats --------\n",
      "Cross-validated scores: [0.83965015 0.79883382 0.82215743 0.79008746 0.78947368]\n",
      "mean of 5-fold CV scores: 0.8080405094368575\n",
      "Variance of 5-fold Cross validation: 0.0003900517358915103\n",
      "\n",
      "--------6-fold stats --------\n",
      "Cross-validated scores: [0.83972125 0.82517483 0.8041958  0.80350877 0.75789474 0.81403509]\n",
      "mean of 6-fold CV scores: 0.8074217467028763\n",
      "Variance of 6-fold Cross validation: 0.0006468015086014214\n",
      "\n",
      "--------7-fold stats --------\n",
      "Cross-validated scores: [0.83739837 0.82857143 0.8122449  0.80816327 0.77142857 0.78688525\n",
      " 0.81557377]\n",
      "mean of 7-fold CV scores: 0.8086093648060698\n",
      "Variance of 7-fold Cross validation: 0.0004490798328835712\n",
      "\n",
      "--------8-fold stats --------\n",
      "Cross-validated scores: [0.84651163 0.82325581 0.79534884 0.82242991 0.79439252 0.76168224\n",
      " 0.79906542 0.82159624]\n",
      "mean of 8-fold CV scores: 0.8080353270823959\n",
      "Variance of 8-fold Cross validation: 0.0005849165101471734\n",
      "\n",
      "--------9-fold stats --------\n",
      "Cross-validated scores: [0.84293194 0.84293194 0.80628272 0.82722513 0.78947368 0.78421053\n",
      " 0.77894737 0.76842105 0.83684211]\n",
      "mean of 9-fold CV scores: 0.8085851627323106\n",
      "Variance of 9-fold Cross validation: 0.000773503597505659\n",
      "\n",
      "--------10-fold stats --------\n",
      "Cross-validated scores: [0.85465116 0.8255814  0.81976744 0.76744186 0.8255814  0.78947368\n",
      " 0.76023392 0.8245614  0.74269006 0.84117647]\n",
      "mean of 10-fold CV scores: 0.8051158790729674\n",
      "Variance of 10-fold Cross validation: 0.0012759965452152125\n",
      "\n",
      "--------11-fold stats --------\n",
      "Cross-validated scores: [0.84713376 0.83974359 0.82692308 0.80769231 0.82692308 0.78846154\n",
      " 0.78846154 0.74358974 0.81290323 0.74193548 0.86451613]\n",
      "mean of 11-fold CV scores: 0.8080257698605758\n",
      "Variance of 11-fold Cross validation: 0.0014318343997259482\n",
      "\n",
      "--------12-fold stats --------\n",
      "Cross-validated scores: [0.85416667 0.84722222 0.82638889 0.81118881 0.81118881 0.8041958\n",
      " 0.79020979 0.78873239 0.74647887 0.78873239 0.78169014 0.87323944]\n",
      "mean of 12-fold CV scores: 0.8102861861664677\n",
      "Variance of 12-fold Cross validation: 0.0011476832391655665\n",
      "\n",
      "--------13-fold stats --------\n",
      "Cross-validated scores: [0.84962406 0.83333333 0.82575758 0.83333333 0.75757576 0.84848485\n",
      " 0.79545455 0.78030303 0.75757576 0.79545455 0.75572519 0.80152672\n",
      " 0.87022901]\n",
      "mean of 13-fold CV scores: 0.8080290541118182\n",
      "Variance of 13-fold Cross validation: 0.0013680444081656982\n",
      "\n",
      "--------14-fold stats --------\n",
      "Cross-validated scores: [0.84677419 0.82926829 0.84552846 0.79674797 0.81300813 0.82786885\n",
      " 0.80327869 0.80327869 0.78688525 0.74590164 0.81147541 0.76229508\n",
      " 0.78688525 0.85245902]\n",
      "mean of 14-fold CV scores: 0.8079753505663787\n",
      "Variance of 14-fold Cross validation: 0.0009129065353972765\n",
      "\n",
      "--------15-fold stats --------\n",
      "Cross-validated scores: [0.86086957 0.80869565 0.85217391 0.8        0.81578947 0.77192982\n",
      " 0.85087719 0.78947368 0.78070175 0.78070175 0.75438596 0.8245614\n",
      " 0.75438596 0.78070175 0.85964912]\n",
      "mean of 15-fold CV scores: 0.8056598016781084\n",
      "Variance of 15-fold Cross validation: 0.0012799131447163326\n",
      "\n",
      "--------16-fold stats --------\n",
      "Cross-validated scores: [0.86111111 0.83333333 0.83333333 0.81481481 0.81481481 0.75925926\n",
      " 0.87037037 0.77570093 0.79439252 0.77570093 0.75700935 0.76415094\n",
      " 0.82075472 0.77358491 0.79245283 0.85849057]\n",
      "mean of 16-fold CV scores: 0.8062046711011841\n",
      "Variance of 16-fold Cross validation: 0.0013339927014250227\n",
      "\n",
      "--------17-fold stats --------\n",
      "Cross-validated scores: [0.8627451  0.83333333 0.84313725 0.79411765 0.84313725 0.8019802\n",
      " 0.82178218 0.79207921 0.8019802  0.8        0.8        0.7\n",
      " 0.82       0.77       0.76       0.82       0.85      ]\n",
      "mean of 17-fold CV scores: 0.8067230806125595\n",
      "Variance of 17-fold Cross validation: 0.0014341737541129203\n",
      "\n",
      "--------18-fold stats --------\n",
      "Cross-validated scores: [0.85416667 0.82291667 0.875      0.82291667 0.79166667 0.82291667\n",
      " 0.77083333 0.89583333 0.76041667 0.8        0.8        0.78947368\n",
      " 0.73684211 0.81914894 0.73404255 0.78723404 0.82978723 0.84042553]\n",
      "mean of 18-fold CV scores: 0.8085344863340385\n",
      "Variance of 18-fold Cross validation: 0.0017775413044160758\n",
      "\n",
      "--------19-fold stats --------\n",
      "Cross-validated scores: [0.84615385 0.82417582 0.86813187 0.82417582 0.8        0.83333333\n",
      " 0.75555556 0.85555556 0.78888889 0.78888889 0.81111111 0.77777778\n",
      " 0.73333333 0.76666667 0.83333333 0.73333333 0.78888889 0.83333333\n",
      " 0.85555556]\n",
      "mean of 19-fold CV scores: 0.8062206799048905\n",
      "Variance of 19-fold Cross validation: 0.0015618402847609473\n",
      "\n",
      "--------20-fold stats --------\n",
      "Cross-validated scores: [0.8372093  0.86046512 0.81395349 0.8372093  0.80232558 0.81395349\n",
      " 0.80232558 0.77906977 0.89534884 0.77906977 0.80232558 0.79069767\n",
      " 0.80232558 0.68604651 0.80232558 0.84705882 0.70588235 0.76470588\n",
      " 0.85882353 0.8452381 ]\n",
      "mean of 20-fold CV scores: 0.8063179923132043\n",
      "Variance of 20-fold Cross validation: 0.0023453854100999455\n",
      "\n",
      "--------21-fold stats --------\n",
      "Cross-validated scores: [0.84146341 0.86585366 0.80487805 0.85365854 0.76829268 0.84146341\n",
      " 0.85365854 0.74390244 0.85365854 0.80487805 0.79268293 0.79268293\n",
      " 0.7804878  0.76829268 0.75609756 0.79012346 0.82716049 0.72839506\n",
      " 0.7654321  0.85       0.8375    ]\n",
      "mean of 21-fold CV scores: 0.8057410633630145\n",
      "Variance of 21-fold Cross validation: 0.0016383263350438378\n",
      "\n",
      "--------22-fold stats --------\n",
      "Cross-validated scores: [0.83544304 0.85897436 0.80769231 0.88461538 0.84615385 0.78205128\n",
      " 0.80769231 0.79487179 0.80769231 0.85897436 0.76923077 0.82051282\n",
      " 0.75641026 0.80769231 0.71794872 0.76923077 0.80769231 0.80769231\n",
      " 0.74358974 0.74025974 0.87012987 0.85714286]\n",
      "mean of 22-fold CV scores: 0.8068951570102318\n",
      "Variance of 22-fold Cross validation: 0.0019564045544817454\n",
      "\n",
      "--------23-fold stats --------\n",
      "Cross-validated scores: [0.82894737 0.88157895 0.80263158 0.86842105 0.84       0.78666667\n",
      " 0.84       0.81333333 0.72972973 0.91891892 0.7972973  0.74324324\n",
      " 0.7972973  0.81081081 0.7972973  0.7027027  0.77027027 0.85135135\n",
      " 0.72972973 0.85135135 0.71621622 0.87837838 0.85135135]\n",
      "mean of 23-fold CV scores: 0.8090228214484508\n",
      "Variance of 23-fold Cross validation: 0.003159416575165927\n",
      "\n",
      "--------24-fold stats --------\n",
      "Cross-validated scores: [0.83333333 0.875      0.83333333 0.86111111 0.81944444 0.80555556\n",
      " 0.80555556 0.81944444 0.75       0.86111111 0.83333333 0.77777778\n",
      " 0.81944444 0.79166667 0.77777778 0.78873239 0.71830986 0.78873239\n",
      " 0.84507042 0.71428571 0.82857143 0.71428571 0.9        0.82857143]\n",
      "mean of 24-fold CV scores: 0.8079353435427379\n",
      "Variance of 24-fold Cross validation: 0.0022897647453599024\n",
      "\n",
      "--------25-fold stats --------\n",
      "Cross-validated scores: [0.82857143 0.87142857 0.84285714 0.85714286 0.82857143 0.76811594\n",
      " 0.8115942  0.85507246 0.7826087  0.77941176 0.89705882 0.77941176\n",
      " 0.76470588 0.79411765 0.77941176 0.80882353 0.75       0.76470588\n",
      " 0.79411765 0.82352941 0.67647059 0.79411765 0.79411765 0.89705882\n",
      " 0.82352941]\n",
      "mean of 25-fold CV scores: 0.8066620387285348\n",
      "Variance of 25-fold Cross validation: 0.0022760187732159477\n",
      "\n",
      "--------26-fold stats --------\n",
      "Cross-validated scores: [0.8358209  0.86363636 0.83333333 0.83333333 0.87878788 0.78787879\n",
      " 0.8030303  0.86363636 0.8030303  0.75757576 0.86363636 0.84848485\n",
      " 0.78787879 0.81818182 0.78787879 0.78787879 0.8030303  0.6969697\n",
      " 0.77272727 0.81818182 0.81818182 0.6969697  0.78787879 0.8\n",
      " 0.87692308 0.86153846]\n",
      "mean of 26-fold CV scores: 0.8110155248501977\n",
      "Variance of 26-fold Cross validation: 0.002164988167787842\n",
      "\n",
      "--------27-fold stats --------\n",
      "Cross-validated scores: [0.84375    0.859375   0.8125     0.84375    0.875      0.828125\n",
      " 0.78125    0.828125   0.8125     0.734375   0.859375   0.890625\n",
      " 0.765625   0.765625   0.796875   0.8125     0.796875   0.75\n",
      " 0.6984127  0.80952381 0.85714286 0.77777778 0.72580645 0.79032258\n",
      " 0.80645161 0.85483871 0.87096774]\n",
      "mean of 27-fold CV scores: 0.8091664533196791\n",
      "Variance of 27-fold Cross validation: 0.002292349195603871\n",
      "\n"
     ]
    },
    {
     "name": "stdout",
     "output_type": "stream",
     "text": [
      "--------28-fold stats --------\n",
      "Cross-validated scores: [0.85483871 0.83870968 0.80645161 0.83870968 0.87096774 0.83870968\n",
      " 0.77419355 0.80645161 0.85483871 0.74193548 0.75806452 0.90322581\n",
      " 0.79032258 0.82258065 0.80645161 0.7704918  0.80327869 0.7704918\n",
      " 0.70491803 0.8        0.75       0.83333333 0.73333333 0.8\n",
      " 0.76666667 0.8        0.86666667 0.86666667]\n",
      "mean of 28-fold CV scores: 0.8061535216942409\n",
      "Variance of 28-fold Cross validation: 0.002161229882671935\n",
      "\n",
      "--------29-fold stats --------\n",
      "Cross-validated scores: [0.85       0.86666667 0.8        0.83333333 0.86666667 0.83333333\n",
      " 0.76666667 0.81666667 0.85       0.8        0.75       0.88333333\n",
      " 0.85       0.78333333 0.76271186 0.79661017 0.77966102 0.79661017\n",
      " 0.82758621 0.67241379 0.77586207 0.81034483 0.84482759 0.70689655\n",
      " 0.82758621 0.70689655 0.84482759 0.86206897 0.86206897]\n",
      "mean of 29-fold CV scores: 0.807826638989097\n",
      "Variance of 29-fold Cross validation: 0.00266632367002485\n",
      "\n",
      "--------30-fold stats --------\n",
      "Cross-validated scores: [0.84482759 0.87931034 0.82758621 0.77586207 0.9137931  0.81034483\n",
      " 0.75862069 0.84482759 0.82758621 0.81034483 0.74137931 0.84482759\n",
      " 0.89655172 0.75862069 0.82758621 0.80701754 0.75438596 0.78947368\n",
      " 0.78947368 0.80357143 0.64285714 0.83928571 0.82142857 0.83928571\n",
      " 0.67857143 0.83928571 0.69642857 0.85714286 0.85714286 0.85714286]\n",
      "mean of 30-fold CV scores: 0.8078187566617694\n",
      "Variance of 30-fold Cross validation: 0.0036703866883834595\n",
      "\n",
      "--------31-fold stats --------\n",
      "Cross-validated scores: [0.85714286 0.875      0.83928571 0.78571429 0.89285714 0.83928571\n",
      " 0.82142857 0.76785714 0.80357143 0.83928571 0.76785714 0.76785714\n",
      " 0.83928571 0.89285714 0.78571429 0.75       0.82142857 0.80357143\n",
      " 0.76363636 0.81818182 0.67272727 0.78181818 0.77777778 0.85185185\n",
      " 0.81481481 0.66666667 0.85185185 0.72222222 0.83333333 0.83333333\n",
      " 0.85185185]\n",
      "mean of 31-fold CV scores: 0.8061312045183011\n",
      "Variance of 31-fold Cross validation: 0.0029388778311351\n",
      "\n",
      "--------32-fold stats --------\n",
      "Cross-validated scores: [0.85185185 0.87037037 0.83333333 0.83333333 0.83333333 0.85185185\n",
      " 0.83333333 0.7962963  0.75925926 0.87037037 0.81481481 0.72222222\n",
      " 0.87037037 0.88888889 0.75925926 0.81481481 0.7962963  0.75925926\n",
      " 0.81481481 0.77777778 0.83333333 0.66666667 0.77777778 0.79245283\n",
      " 0.81132075 0.81132075 0.67924528 0.84615385 0.73076923 0.84615385\n",
      " 0.84615385 0.84615385]\n",
      "mean of 32-fold CV scores: 0.8074798083642423\n",
      "Variance of 32-fold Cross validation: 0.0028308864015055175\n",
      "\n",
      "--------33-fold stats --------\n",
      "Cross-validated scores: [0.8490566  0.86538462 0.82692308 0.84615385 0.82692308 0.86538462\n",
      " 0.82692308 0.75       0.86538462 0.82692308 0.84615385 0.76923077\n",
      " 0.73076923 0.88461538 0.88461538 0.76923077 0.82692308 0.80769231\n",
      " 0.76923077 0.75       0.82692308 0.78846154 0.65384615 0.80769231\n",
      " 0.82692308 0.80769231 0.78846154 0.67307692 0.78846154 0.76923077\n",
      " 0.8627451  0.84313725 0.84313725]\n",
      "mean of 33-fold CV scores: 0.8081002115408331\n",
      "Variance of 33-fold Cross validation: 0.0029092851214314024\n",
      "\n",
      "--------34-fold stats --------\n",
      "Cross-validated scores: [0.86538462 0.84615385 0.82692308 0.84615385 0.82692308 0.88235294\n",
      " 0.82352941 0.7254902  0.88235294 0.8        0.84       0.76\n",
      " 0.78       0.86       0.88       0.72       0.86       0.76\n",
      " 0.78       0.82       0.8        0.78       0.74       0.66\n",
      " 0.82       0.84       0.84       0.7        0.78       0.78\n",
      " 0.78       0.84       0.86       0.84      ]\n",
      "mean of 34-fold CV scores: 0.8072136456392511\n",
      "Variance of 34-fold Cross validation: 0.0029142740530573663\n",
      "\n",
      "--------35-fold stats --------\n",
      "Cross-validated scores: [0.86       0.86       0.84       0.82       0.82       0.86\n",
      " 0.84       0.76       0.84       0.82       0.82       0.82\n",
      " 0.72       0.88       0.88       0.79591837 0.85714286 0.73469388\n",
      " 0.83673469 0.8125     0.77083333 0.8125     0.77083333 0.6875\n",
      " 0.8125     0.75       0.83333333 0.83333333 0.66666667 0.8125\n",
      " 0.75       0.77083333 0.875      0.85416667 0.83333333]\n",
      "mean of 35-fold CV scores: 0.8088663751214771\n",
      "Variance of 35-fold Cross validation: 0.0027156664045876575\n",
      "\n",
      "--------36-fold stats --------\n",
      "Cross-validated scores: [0.85416667 0.85416667 0.85416667 0.79166667 0.83333333 0.89583333\n",
      " 0.83333333 0.8125     0.79166667 0.77083333 0.85416667 0.79166667\n",
      " 0.77083333 0.75       0.875      0.89583333 0.70833333 0.8125\n",
      " 0.79166667 0.77083333 0.83333333 0.77083333 0.8125     0.72916667\n",
      " 0.66666667 0.8125     0.8125     0.85106383 0.78723404 0.68085106\n",
      " 0.85106383 0.73913043 0.73913043 0.89130435 0.86956522 0.84782609]\n",
      "mean of 36-fold CV scores: 0.805754702436016\n",
      "Variance of 36-fold Cross validation: 0.0032910510732911446\n",
      "\n",
      "--------37-fold stats --------\n",
      "Cross-validated scores: [0.85416667 0.85416667 0.85416667 0.79166667 0.82978723 0.89361702\n",
      " 0.85106383 0.80851064 0.76086957 0.82608696 0.82608696 0.84782609\n",
      " 0.82608696 0.7173913  0.86956522 0.86956522 0.82608696 0.80434783\n",
      " 0.76086957 0.86956522 0.73913043 0.80434783 0.80434783 0.80434783\n",
      " 0.7173913  0.63043478 0.86956522 0.80434783 0.80434783 0.80434783\n",
      " 0.67391304 0.84782609 0.73913043 0.73913043 0.89130435 0.86956522\n",
      " 0.84782609]\n",
      "mean of 37-fold CV scores: 0.8089945287563235\n",
      "Variance of 37-fold Cross validation: 0.0035928497324453994\n",
      "\n",
      "--------38-fold stats --------\n",
      "Cross-validated scores: [0.86956522 0.82608696 0.86956522 0.7826087  0.82608696 0.89130435\n",
      " 0.82608696 0.84782609 0.7173913  0.86956522 0.80434783 0.82608696\n",
      " 0.80434783 0.73913043 0.80434783 0.89130435 0.86956522 0.76086957\n",
      " 0.82608696 0.77777778 0.75555556 0.82222222 0.8        0.77272727\n",
      " 0.79545455 0.68181818 0.79545455 0.75       0.86363636 0.81818182\n",
      " 0.75       0.70454545 0.84090909 0.72727273 0.79545455 0.86363636\n",
      " 0.86363636 0.86363636]\n",
      "mean of 38-fold CV scores: 0.8077392922358597\n",
      "Variance of 38-fold Cross validation: 0.0028211265819843845\n",
      "\n",
      "--------39-fold stats --------\n",
      "Cross-validated scores: [0.86666667 0.81818182 0.86363636 0.81818182 0.86363636 0.81818182\n",
      " 0.88636364 0.81818182 0.79545455 0.81818182 0.75       0.88636364\n",
      " 0.81818182 0.72727273 0.77272727 0.88636364 0.86363636 0.81818182\n",
      " 0.79545455 0.79545455 0.81818182 0.75       0.79545455 0.79545455\n",
      " 0.79545455 0.79545455 0.70454545 0.81818182 0.72727273 0.86363636\n",
      " 0.81818182 0.75       0.70454545 0.84090909 0.72727273 0.81818182\n",
      " 0.86046512 0.86046512 0.86046512]\n",
      "mean of 39-fold CV scores: 0.8098570679966028\n",
      "Variance of 39-fold Cross validation: 0.002512483637895093\n",
      "\n",
      "--------40-fold stats --------\n",
      "Cross-validated scores: [0.86363636 0.81818182 0.86363636 0.84090909 0.84090909 0.81818182\n",
      " 0.88636364 0.84090909 0.79545455 0.81818182 0.75       0.86363636\n",
      " 0.81818182 0.75       0.75       0.88372093 0.86046512 0.8372093\n",
      " 0.76744186 0.80952381 0.78571429 0.78571429 0.80952381 0.78571429\n",
      " 0.80952381 0.83333333 0.66666667 0.64285714 0.85714286 0.78571429\n",
      " 0.85714286 0.80952381 0.66666667 0.78571429 0.85714286 0.66666667\n",
      " 0.83333333 0.88095238 0.85714286 0.85714286]\n",
      "mean of 40-fold CV scores: 0.8077469042585321\n",
      "Variance of 40-fold Cross validation: 0.0037173188521758826\n",
      "\n",
      "--------41-fold stats --------\n",
      "Cross-validated scores: [0.88095238 0.78571429 0.88095238 0.88095238 0.80952381 0.80952381\n",
      " 0.9047619  0.83333333 0.80952381 0.73809524 0.83333333 0.85714286\n",
      " 0.83333333 0.80952381 0.73809524 0.78571429 0.9047619  0.88095238\n",
      " 0.78571429 0.78571429 0.80952381 0.80952381 0.71428571 0.83333333\n",
      " 0.78571429 0.78571429 0.83333333 0.61904762 0.73809524 0.78571429\n",
      " 0.88095238 0.83333333 0.78571429 0.66666667 0.78571429 0.75609756\n",
      " 0.80487805 0.82926829 0.87804878 0.85       0.85      ]\n",
      "mean of 41-fold CV scores: 0.8093311804198182\n",
      "Variance of 41-fold Cross validation: 0.003578636936058933\n",
      "\n",
      "--------42-fold stats --------\n",
      "Cross-validated scores: [0.88095238 0.78571429 0.88095238 0.88095238 0.80952381 0.80952381\n",
      " 0.9047619  0.83333333 0.80952381 0.73809524 0.83333333 0.85714286\n",
      " 0.83333333 0.80952381 0.73809524 0.7804878  0.90243902 0.85365854\n",
      " 0.80487805 0.775      0.8        0.775      0.85       0.8\n",
      " 0.725      0.8        0.825      0.75       0.65       0.85\n",
      " 0.725      0.85       0.825      0.8        0.65       0.8\n",
      " 0.75       0.775      0.8        0.9        0.85       0.85      ]\n",
      "mean of 42-fold CV scores: 0.8076482218903823\n",
      "Variance of 42-fold Cross validation: 0.0034204896065011853\n",
      "\n"
     ]
    },
    {
     "name": "stdout",
     "output_type": "stream",
     "text": [
      "--------43-fold stats --------\n",
      "Cross-validated scores: [0.9        0.775      0.9        0.825      0.825      0.8\n",
      " 0.9        0.825      0.825      0.75       0.875      0.75\n",
      " 0.825      0.85       0.8        0.7        0.8        0.9\n",
      " 0.875      0.75       0.85       0.8        0.8        0.75\n",
      " 0.825      0.75       0.825      0.85       0.7        0.625\n",
      " 0.875      0.75       0.85       0.825      0.775      0.675\n",
      " 0.85       0.725      0.74358974 0.84615385 0.87179487 0.84615385\n",
      " 0.86842105]\n",
      "mean of 43-fold CV scores: 0.8075840316354392\n",
      "Variance of 43-fold Cross validation: 0.0041233758622250295\n",
      "\n",
      "--------44-fold stats --------\n",
      "Cross-validated scores: [0.9        0.775      0.9        0.825      0.825      0.8\n",
      " 0.9        0.825      0.825      0.75       0.875      0.75\n",
      " 0.825      0.85       0.8        0.7        0.8        0.9\n",
      " 0.875      0.76923077 0.84615385 0.79487179 0.76923077 0.84210526\n",
      " 0.81578947 0.76315789 0.78947368 0.78947368 0.76315789 0.71052632\n",
      " 0.71052632 0.81578947 0.81578947 0.84210526 0.81578947 0.71052632\n",
      " 0.71052632 0.86842105 0.73684211 0.76315789 0.84210526 0.86842105\n",
      " 0.84210526 0.86842105]\n",
      "mean of 44-fold CV scores: 0.8082658569500677\n",
      "Variance of 44-fold Cross validation: 0.0030904856147238426\n",
      "\n",
      "--------45-fold stats --------\n",
      "Cross-validated scores: [0.92307692 0.74358974 0.92307692 0.82051282 0.78947368 0.81578947\n",
      " 0.86842105 0.86842105 0.86842105 0.84210526 0.71052632 0.84210526\n",
      " 0.81578947 0.86842105 0.78947368 0.81578947 0.71052632 0.81578947\n",
      " 0.94736842 0.86842105 0.76315789 0.84210526 0.78947368 0.76315789\n",
      " 0.84210526 0.81578947 0.76315789 0.78947368 0.78947368 0.76315789\n",
      " 0.71052632 0.71052632 0.81578947 0.81578947 0.84210526 0.81578947\n",
      " 0.71052632 0.71052632 0.86842105 0.73684211 0.76315789 0.84210526\n",
      " 0.86842105 0.84210526 0.86842105]\n",
      "mean of 45-fold CV scores: 0.8108711950817218\n",
      "Variance of 45-fold Cross validation: 0.0035892624266167213\n",
      "\n",
      "--------46-fold stats --------\n",
      "Cross-validated scores: [0.92105263 0.73684211 0.92105263 0.84210526 0.76315789 0.84210526\n",
      " 0.86842105 0.86842105 0.81578947 0.84210526 0.71052632 0.86842105\n",
      " 0.78947368 0.86842105 0.81578947 0.78947368 0.73684211 0.78947368\n",
      " 0.94736842 0.86842105 0.78947368 0.78947368 0.81578947 0.76315789\n",
      " 0.78947368 0.81578947 0.78947368 0.75675676 0.81081081 0.81081081\n",
      " 0.64864865 0.66666667 0.86111111 0.80555556 0.86111111 0.80555556\n",
      " 0.83333333 0.61111111 0.77777778 0.86111111 0.69444444 0.75\n",
      " 0.88888889 0.86111111 0.80555556 0.88888889]\n",
      "mean of 46-fold CV scores: 0.8077639996976381\n",
      "Variance of 46-fold Cross validation: 0.00482601597365345\n",
      "\n",
      "--------47-fold stats --------\n",
      "Cross-validated scores: [0.92105263 0.73684211 0.92105263 0.84210526 0.76315789 0.84210526\n",
      " 0.86842105 0.86842105 0.81578947 0.83783784 0.7027027  0.86486486\n",
      " 0.78378378 0.86111111 0.86111111 0.77777778 0.72222222 0.77777778\n",
      " 0.88888889 0.88888889 0.86111111 0.69444444 0.88888889 0.75\n",
      " 0.83333333 0.77777778 0.83333333 0.77777778 0.77777778 0.77777778\n",
      " 0.80555556 0.66666667 0.66666667 0.86111111 0.80555556 0.86111111\n",
      " 0.80555556 0.83333333 0.61111111 0.77777778 0.86111111 0.69444444\n",
      " 0.75       0.88888889 0.86111111 0.80555556 0.88888889]\n",
      "mean of 47-fold CV scores: 0.8077144894054188\n",
      "Variance of 47-fold Cross validation: 0.005053468490970479\n",
      "\n",
      "--------48-fold stats --------\n",
      "Cross-validated scores: [0.91666667 0.75       0.91666667 0.83333333 0.77777778 0.88888889\n",
      " 0.80555556 0.88888889 0.80555556 0.83333333 0.80555556 0.80555556\n",
      " 0.80555556 0.83333333 0.86111111 0.77777778 0.75       0.72222222\n",
      " 0.80555556 0.94444444 0.88888889 0.77777778 0.77777778 0.80555556\n",
      " 0.77777778 0.86111111 0.72222222 0.83333333 0.75       0.80555556\n",
      " 0.83333333 0.69444444 0.72222222 0.77777778 0.75       0.86111111\n",
      " 0.83333333 0.80555556 0.77777778 0.65714286 0.82857143 0.74285714\n",
      " 0.77142857 0.79411765 0.85294118 0.91176471 0.76470588 0.91176471]\n",
      "mean of 48-fold CV scores: 0.808721405228758\n",
      "Variance of 48-fold Cross validation: 0.0038209589987274867\n",
      "\n",
      "--------49-fold stats --------\n",
      "Cross-validated scores: [0.91666667 0.75       0.91666667 0.83333333 0.77777778 0.88888889\n",
      " 0.80555556 0.88888889 0.80555556 0.83333333 0.80555556 0.80555556\n",
      " 0.80555556 0.83333333 0.86111111 0.77777778 0.75       0.72222222\n",
      " 0.80555556 0.94444444 0.88888889 0.77777778 0.77142857 0.82857143\n",
      " 0.74285714 0.91428571 0.70588235 0.82352941 0.73529412 0.82352941\n",
      " 0.76470588 0.82352941 0.67647059 0.67647059 0.85294118 0.73529412\n",
      " 0.88235294 0.85294118 0.79411765 0.73529412 0.64705882 0.85294118\n",
      " 0.73529412 0.76470588 0.79411765 0.85294118 0.91176471 0.76470588\n",
      " 0.91176471]\n",
      "mean of 49-fold CV scores: 0.8075353951104252\n",
      "Variance of 49-fold Cross validation: 0.004789987927799043\n",
      "\n",
      "--------50-fold stats --------\n",
      "Cross-validated scores: [0.91666667 0.75       0.91666667 0.83333333 0.77777778 0.88571429\n",
      " 0.8        0.91428571 0.77142857 0.85294118 0.85294118 0.70588235\n",
      " 0.82352941 0.79411765 0.88235294 0.85294118 0.76470588 0.79411765\n",
      " 0.73529412 0.82352941 0.91176471 0.88235294 0.76470588 0.79411765\n",
      " 0.82352941 0.73529412 0.91176471 0.70588235 0.82352941 0.73529412\n",
      " 0.82352941 0.76470588 0.82352941 0.67647059 0.67647059 0.85294118\n",
      " 0.73529412 0.88235294 0.85294118 0.79411765 0.73529412 0.64705882\n",
      " 0.85294118 0.73529412 0.76470588 0.79411765 0.85294118 0.91176471\n",
      " 0.76470588 0.91176471]\n",
      "mean of 50-fold CV scores: 0.8077880485527545\n",
      "Variance of 50-fold Cross validation: 0.004918406987195747\n",
      "\n"
     ]
    }
   ],
   "source": [
    "scores = []\n",
    "for n in range(2,51):\n",
    "    scores = cross_val_score(model, X_test, y_test, cv=n)\n",
    "    print('--------{0}-fold stats --------'.format(n))\n",
    "    print ('Cross-validated scores:', scores)\n",
    "    print ('mean of {0}-fold CV scores: {1}'.format(n,np.mean(scores)))\n",
    "    print(\"Variance of {0}-fold Cross validation: {1}\".format(n,np.var(scores)))\n",
    "    print('')"
   ]
  },
  {
   "cell_type": "code",
   "execution_count": null,
   "metadata": {},
   "outputs": [],
   "source": []
  },
  {
   "cell_type": "markdown",
   "metadata": {},
   "source": [
    "### Elastic Net Regularisation"
   ]
  },
  {
   "cell_type": "code",
   "execution_count": 48,
   "metadata": {},
   "outputs": [
    {
     "name": "stdout",
     "output_type": "stream",
     "text": [
      "[-0.08464527]\n",
      "[[ 0.         -0.00894768  0.          0.1092469   0.          0.\n",
      "   0.          0.          0.          0.          0.11228864  0.13194109\n",
      "   0.          0.          0.        ]]\n"
     ]
    }
   ],
   "source": [
    "from sklearn.linear_model import SGDClassifier\n",
    "#alpha = i for i in range(0.1,1,0.1)\n",
    "clf = SGDClassifier(penalty='elasticnet',alpha=0.5,max_iter=1000, loss = 'log',random_state=123)\n",
    "clf_model = clf.fit(X_train, y_train)\n",
    "print(clf.intercept_)\n",
    "print(clf.coef_)"
   ]
  },
  {
   "cell_type": "markdown",
   "metadata": {},
   "source": [
    "#### Feature removal"
   ]
  },
  {
   "cell_type": "markdown",
   "metadata": {},
   "source": [
    "elastic net feature removal retained the following features:\n",
    "\n",
    "__1. 'num_of_voice_mail_messages'__\n",
    "\n",
    "__2. 'total_day_charge'__\n",
    "\n",
    "__3. 'number_customer_service_calls'__\n",
    "\n",
    "__4. 'international_plan_n'__"
   ]
  },
  {
   "cell_type": "code",
   "execution_count": 53,
   "metadata": {},
   "outputs": [],
   "source": [
    "y_pred_prob = clf.predict_proba(X_test)[:, 1]"
   ]
  },
  {
   "cell_type": "code",
   "execution_count": 54,
   "metadata": {},
   "outputs": [
    {
     "data": {
      "text/plain": [
       "array([[696, 159],\n",
       "       [269, 590]])"
      ]
     },
     "execution_count": 54,
     "metadata": {},
     "output_type": "execute_result"
    }
   ],
   "source": [
    "#performs worse with elasticnet\n",
    "metrics.confusion_matrix(y_true=y_test, y_pred=y_pred_prob > .5)"
   ]
  },
  {
   "cell_type": "code",
   "execution_count": 55,
   "metadata": {},
   "outputs": [
    {
     "name": "stdout",
     "output_type": "stream",
     "text": [
      "Training Score: 0.7390606767794633\n",
      "Test Score: 0.750291715285881\n"
     ]
    }
   ],
   "source": [
    "print('Training Score:', clf_model.score(X_train,y_train))\n",
    "print('Test Score:', clf_model.score(X_test,y_test))"
   ]
  },
  {
   "cell_type": "code",
   "execution_count": 56,
   "metadata": {
    "scrolled": true
   },
   "outputs": [],
   "source": [
    "# cross_val_predict returns an array of the same size as `y` where each entry\n",
    "# is a prediction obtained by cross validation:\n",
    "#predicted = cross_val_predict(lr, y_predicted, y_test, cv=10, random_state=123)\n",
    "\n",
    "\n",
    "#fig, ax = plt.subplots()\n",
    "#ax.scatter(y_test, predicted, edgecolors=(0,0,0))\n",
    "#ax.plot([y.min(),y.max()],[y.min(),y.max()], 'k--', lw=4)\n",
    "#ax.set_xlabel('Measured')\n",
    "#ax.set_ylabel('Predicted')\n",
    "#plt.show()"
   ]
  },
  {
   "cell_type": "markdown",
   "metadata": {},
   "source": [
    "### 3. Try 70/30 and 90/10 train/test splits (70% of the data for training - 30% for testing, then 90% for training - 10% for testing)\n",
    "Score and plot. How do your metrics change? What does this tell us about the size of training/testing splits?"
   ]
  },
  {
   "cell_type": "code",
   "execution_count": null,
   "metadata": {
    "scrolled": true
   },
   "outputs": [],
   "source": [
    "#Model with 70/30 split\n",
    "X_train, X_test, y_train, y_test = train_test_split(X2, y, test_size=0.3, random_state=123)\n",
    "\n",
    "lr_30 = LinearRegression()\n",
    "\n",
    "model_30 = lr_30.fit(X_train, y_train)\n",
    "\n",
    "y_predicted2 = lr_30.predict(X_test)\n",
    "\n",
    "fig, ax = plt.subplots()\n",
    "ax.scatter(y_test, y_predicted2, edgecolors=(0,0,0))\n",
    "ax.plot([y.min(),y.max()],[y.min(),y.max()], 'k--', lw=4)\n",
    "ax.set_xlabel('Measured')\n",
    "ax.set_ylabel('Predicted')\n",
    "plt.show()"
   ]
  },
  {
   "cell_type": "code",
   "execution_count": null,
   "metadata": {},
   "outputs": [],
   "source": [
    "#score decreased slightly\n",
    "print('Score:', model_30.score(X_test, y_test))"
   ]
  },
  {
   "cell_type": "code",
   "execution_count": null,
   "metadata": {},
   "outputs": [],
   "source": [
    "#Model with 90/10 split\n",
    "X_train, X_test, y_train, y_test = train_test_split(X2, y, test_size=0.1)\n",
    "\n",
    "lr_10 = LinearRegression()\n",
    "\n",
    "model_10 = lr_10.fit(X_train, y_train)\n",
    "\n",
    "y_predicted = lr_10.predict(X_test)\n",
    "\n",
    "fig, ax = plt.subplots()\n",
    "ax.scatter(y_test, y_predicted, edgecolors=(0,0,0))\n",
    "ax.plot([y.min(),y.max()],[y.min(),y.max()], 'k--', lw=4)\n",
    "ax.set_xlabel('Measured')\n",
    "ax.set_ylabel('Predicted')\n",
    "plt.show()"
   ]
  },
  {
   "cell_type": "code",
   "execution_count": null,
   "metadata": {},
   "outputs": [],
   "source": [
    "#score increased\n",
    "print('Score:', model_10.score(X_test, y_test))"
   ]
  },
  {
   "cell_type": "markdown",
   "metadata": {},
   "source": [
    "### 4. Use k-fold cross validation varying the number of folds from 5 to 10\n",
    "What seems optimal? How do your scores change? What is the variance like? Try different folds to get a sense of how this impacts your score. What are the tradeoffs associated with choosing the number of folds?"
   ]
  },
  {
   "cell_type": "code",
   "execution_count": null,
   "metadata": {},
   "outputs": [],
   "source": [
    "# Perform k-fold cross validation with folds from 5 to 10, calculate scores, mean of scores and R-squared\n",
    "for n in range(5,11):\n",
    "    scores = cross_val_score(model, X_test, y_test, cv=n)\n",
    "    print('--------{0}-fold stats --------'.format(n))\n",
    "    print ('Cross-validated scores:', scores)\n",
    "    print ('mean of {0}-fold CV scores: {1}'.format(n,np.mean(scores)))\n",
    "    print(\"Variance of {0}-fold Cross validation: {1}\".format(n,np.var(scores)))\n",
    "    print('')"
   ]
  },
  {
   "cell_type": "markdown",
   "metadata": {},
   "source": [
    "1. Variance loosely increases with number of folds, while mean of CV scores trends upwards with increase in folds."
   ]
  },
  {
   "cell_type": "code",
   "execution_count": null,
   "metadata": {},
   "outputs": [],
   "source": [
    "# Make cross validated predictions\n",
    "predictions = cross_val_predict(model, X2, y, cv=5)\n",
    "plt.scatter(y, predictions)"
   ]
  },
  {
   "cell_type": "markdown",
   "metadata": {},
   "source": [
    "### KNN Model"
   ]
  },
  {
   "cell_type": "code",
   "execution_count": null,
   "metadata": {},
   "outputs": [],
   "source": [
    "# Read the iris data into a DataFrame\n",
    "\n",
    "DATA = r\"https://gist.githubusercontent.com/curran/a08a1080b88344b0c8a7/raw/d546eaee765268bf2f487608c537c05e22e4b221/iris.csv\"\n",
    "col_names = ['sepal_length', 'sepal_width', 'petal_length', 'petal_width', 'species']\n",
    "iris = pd.read_csv(DATA, header=None, names=col_names)\n",
    "iris.drop(iris.index[0], inplace= True)\n",
    "iris['petal_length'] = iris.petal_length.astype(float, inplace = True)\n",
    "iris['petal_width'] = iris.petal_width.astype(float, inplace = True)\n",
    "iris['sepal_length'] = iris.sepal_length.astype(float, inplace = True)\n",
    "iris['sepal_width'] = iris.sepal_width.astype(float, inplace = True)\n",
    "iris.head()"
   ]
  },
  {
   "cell_type": "code",
   "execution_count": null,
   "metadata": {
    "scrolled": true
   },
   "outputs": [],
   "source": [
    "iris.dtypes"
   ]
  },
  {
   "cell_type": "code",
   "execution_count": null,
   "metadata": {},
   "outputs": [],
   "source": [
    "# Increase the default figure and font sizes for easier viewing\n",
    "import matplotlib.ticker as ticker\n",
    "\n",
    "plt.rcParams['figure.figsize'] = (7, 4)\n",
    "plt.rcParams['font.size'] = 14\n",
    "plt.rcParams[\"xtick.labelsize\"] = 7\n",
    "plt.rcParams[\"ytick.labelsize\"] = 7"
   ]
  },
  {
   "cell_type": "code",
   "execution_count": null,
   "metadata": {},
   "outputs": [],
   "source": [
    "# Create a custom colormap\n",
    "from matplotlib.colors import ListedColormap\n",
    "\n",
    "cmap_bold = ListedColormap(['#FF0000', '#00FF00'])"
   ]
  },
  {
   "cell_type": "code",
   "execution_count": null,
   "metadata": {},
   "outputs": [],
   "source": [
    "# Create a scatterplot of PETAL LENGTH versus PETAL WIDTH and color by SPECIES\n",
    "df.plot(kind='scatter', x='total_intl_charge', y='number_customer_service_calls', c='churn_n', colormap=cmap_bold);"
   ]
  },
  {
   "cell_type": "code",
   "execution_count": null,
   "metadata": {},
   "outputs": [],
   "source": [
    "# Create a scatterplot of SEPAL LENGTH versus SEPAL WIDTH and color by SPECIES\n",
    "df.plot(kind='scatter', x='total_eve_charge', y='total_eve_calls', c='churn_n', colormap=cmap_bold);"
   ]
  },
  {
   "cell_type": "markdown",
   "metadata": {},
   "source": [
    "## KNN Classification of the Iris Dataset"
   ]
  },
  {
   "cell_type": "markdown",
   "metadata": {},
   "source": [
    "### Create your feature matrix \"X\"\n",
    "This will be all species measurements (sepal length, petal width, etc...)"
   ]
  },
  {
   "cell_type": "code",
   "execution_count": null,
   "metadata": {},
   "outputs": [],
   "source": [
    "predictors = ['sepal_length','sepal_width','petal_length']\n",
    "X = iris[predictors]"
   ]
  },
  {
   "cell_type": "markdown",
   "metadata": {},
   "source": [
    "### Create your target vector \"y\"\n",
    "This will be the species type."
   ]
  },
  {
   "cell_type": "code",
   "execution_count": null,
   "metadata": {},
   "outputs": [],
   "source": [
    "#assigned 'y' as an array to address data conversion error \n",
    "#y=iris['species_num']\n",
    "y=np.ravel(iris['species'])"
   ]
  },
  {
   "cell_type": "markdown",
   "metadata": {},
   "source": [
    "### Make Use of Train-Test-Split\n",
    "Split your data in to train and test sets."
   ]
  },
  {
   "cell_type": "code",
   "execution_count": null,
   "metadata": {},
   "outputs": [],
   "source": [
    "X_train, X_test, y_train, y_test = train_test_split(X, y, test_size=0.1,random_state=123)\n",
    "print (X_train.shape, y_train.shape)\n",
    "print (X_test.shape, y_test.shape)"
   ]
  },
  {
   "cell_type": "markdown",
   "metadata": {},
   "source": [
    "### Import KNN From `scikit-learn` and Instatiate a Model With One Neighbor"
   ]
  },
  {
   "cell_type": "code",
   "execution_count": null,
   "metadata": {},
   "outputs": [],
   "source": [
    "from sklearn.neighbors import KNeighborsClassifier\n",
    "neigh = KNeighborsClassifier(n_neighbors=1)\n",
    "type(neigh)"
   ]
  },
  {
   "cell_type": "markdown",
   "metadata": {},
   "source": [
    "### Check the Accuracy\n",
    "Train your model using the training set then use the test set to determine the accuracy"
   ]
  },
  {
   "cell_type": "code",
   "execution_count": null,
   "metadata": {
    "scrolled": true
   },
   "outputs": [],
   "source": [
    "k_model = neigh.fit(X_train, y_train)\n",
    "predicted = neigh.predict(X_test)\n",
    "predicted"
   ]
  },
  {
   "cell_type": "code",
   "execution_count": null,
   "metadata": {},
   "outputs": [],
   "source": [
    "from sklearn.metrics import accuracy_score\n",
    "acc = accuracy_score(y_test, predicted)\n",
    "print('model accuracy for 1 neighbour is', acc)"
   ]
  },
  {
   "cell_type": "markdown",
   "metadata": {},
   "source": [
    "### Create a Model With Five Neighbors. Did it Improve?"
   ]
  },
  {
   "cell_type": "code",
   "execution_count": null,
   "metadata": {},
   "outputs": [],
   "source": [
    "#model accuracy improved slightly\n",
    "neigh_5 = KNeighborsClassifier(n_neighbors=5)\n",
    "k_model_5 = neigh_5.fit(X_train, y_train)\n",
    "predicted_5 = neigh_5.predict(X_test)\n",
    "acc_5 = accuracy_score(y_test, predicted_5)\n",
    "print('model accuracy for 5 neighbours is', acc_5)"
   ]
  },
  {
   "cell_type": "markdown",
   "metadata": {},
   "source": [
    "### Create a Looped Function That Will Check All Levels of Various Neighbors and Calculate the Accuracy"
   ]
  },
  {
   "cell_type": "code",
   "execution_count": null,
   "metadata": {},
   "outputs": [],
   "source": [
    "#looped function for calculating accuracy for various neighbours\n",
    "def get_knn(n):\n",
    "    for n in range(1,n+1):\n",
    "        knn = KNeighborsClassifier(n_neighbors=n)\n",
    "        knn.fit(X_train, y_train)\n",
    "        predicted_knn = knn.predict(X_test)\n",
    "        acc = accuracy_score(y_test, predicted_knn)\n",
    "        print('model accuracy for {0} neighbours is {1}'.format(n, acc))\n",
    "\n",
    "get_knn(10)"
   ]
  },
  {
   "cell_type": "markdown",
   "metadata": {},
   "source": [
    "1. Define a function that creates an instance of KNeighbourClassifier with number of nearest neighbours being an interated list of integers from 1 through to argument.\n",
    "2. Model is fitted with training data\n",
    "3. predictions are made ontest data, which are then used alongside test targets to calculate accuracy. \n",
    "4. print each score and its corresponding number of neighbours\n",
    "5. We see that accuracy is lower with even number of neighbours.\n",
    "\n",
    "NOTE: I actually performed the above using all four numerical features, though produced accuracy scores indicating overfitting. Therefore I removed one of the features to achieve the above results."
   ]
  },
  {
   "cell_type": "markdown",
   "metadata": {},
   "source": [
    "### Bonus: According to `scikit-learn` Documentation, What is `knn.predict_proba(X_new)` Going to Do?"
   ]
  },
  {
   "cell_type": "code",
   "execution_count": null,
   "metadata": {},
   "outputs": [],
   "source": [
    "#'knn.predict_proba(X_new)' will return probability estimates for new observations"
   ]
  },
  {
   "cell_type": "markdown",
   "metadata": {},
   "source": [
    "## Enrichment\n",
    "_Everything beyond this point is enrichment and examples using Statsmodels for linear regression._"
   ]
  },
  {
   "cell_type": "markdown",
   "metadata": {},
   "source": [
    "### Example: Using the Statsmodels Formula\n",
    "\n",
    "Adapt the formula example using your metrics. We will review this implementation in class. Here is a reference to consider. The workflow is the same, but the syntax is a little different. We want to get accustomed to the formula syntax because we will be using them a lot more with regressions. The results should be comparable to scikit-learn's regression models."
   ]
  },
  {
   "cell_type": "code",
   "execution_count": null,
   "metadata": {},
   "outputs": [],
   "source": [
    "# First, format our data in a DataFrame\n",
    "\n",
    "df = pd.DataFrame(boston.data, columns=boston.feature_names)\n",
    "df['MEDV'] = boston.target\n",
    "df.head()"
   ]
  },
  {
   "cell_type": "code",
   "execution_count": null,
   "metadata": {},
   "outputs": [],
   "source": [
    "# Set up our new statsmodel.formula handling model\n",
    "import statsmodels.formula.api as smf\n",
    "\n",
    "# You can easily swap these out to test multiple versions/different formulas\n",
    "formulas = {\n",
    "    \"case1\": \"MEDV ~ RM + LSTAT + RAD + TAX + NOX + INDUS + CRIM + ZN - 1\", # - 1 = remove intercept\n",
    "    \"case2\": \"MEDV ~ NOX + RM\",\n",
    "    \"case3\": \"MEDV ~ RAD + TAX\"\n",
    "}\n",
    "\n",
    "model = smf.ols(formula=formulas['case1'], data=df)\n",
    "result = model.fit()\n",
    "\n",
    "result.summary()"
   ]
  },
  {
   "cell_type": "markdown",
   "metadata": {},
   "source": [
    "### Bonus Challenge #1:\n",
    "\n",
    "Can you optimize your R2, selecting the best features and using either test-train split or k-folds?"
   ]
  },
  {
   "cell_type": "code",
   "execution_count": null,
   "metadata": {
    "scrolled": false
   },
   "outputs": [],
   "source": [
    "from sklearn.linear_model import ElasticNet\n",
    "\n",
    "X = pd.DataFrame(boston.data,columns=boston.feature_names)\n",
    "y = pd.DataFrame(boston.target, columns=['MEDV'])\n",
    "\n",
    "X_train, X_test, y_train, y_test = train_test_split(X, y, test_size=0.2,random_state=123)\n",
    "\n",
    "alpha = 0.4\n",
    "enet = ElasticNet(alpha=alpha, l1_ratio=1)\n",
    "enet_model = enet.fit(X_train, y_train)\n",
    "\n",
    "print(enet.intercept_)\n",
    "print(enet.coef_)"
   ]
  },
  {
   "cell_type": "markdown",
   "metadata": {},
   "source": [
    "I'm choosing to optimise the score by using elastic net, in conjunction with linear regression for predicting MEDV.\n",
    "\n",
    "1. Fitted an elastic net regression model for all boston features, setting Alpha to 0.4 and l1_ratio to 1 (LASSO).\n",
    "2. Printed intercept and coefficients to determine removed features\n",
    "3. By my estimation, features removed correspond to INDUS, CHAS, NOX and AGE.\n",
    "\n",
    "I played around with the 'alpha' value, arriving at 0.4 as optimal."
   ]
  },
  {
   "cell_type": "code",
   "execution_count": null,
   "metadata": {
    "scrolled": true
   },
   "outputs": [],
   "source": [
    "print('Training Score:', enet_model.score(X_train,y_train))\n",
    "print('Test Score:', enet_model.score(X_test,y_test))"
   ]
  },
  {
   "cell_type": "markdown",
   "metadata": {},
   "source": [
    "1. Compared Accuracies, less than 10% difference - indicates overfitting."
   ]
  },
  {
   "cell_type": "code",
   "execution_count": null,
   "metadata": {},
   "outputs": [],
   "source": [
    "for n in range(5,11):\n",
    "    scores = cross_val_score(enet, X_test, y_test, scoring=\"r2\", cv=n)\n",
    "    print('-------- {0}-fold ENet stats --------'.format(n))\n",
    "    print ('Cross-validated ENet scores:', scores)\n",
    "    print ('mean of {0}-fold ENet CV scores: {1}'.format(n,np.mean(scores)))\n",
    "    #print(\"Variance of {0}-fold Cross validation: {1}\".format(n,np.var(scores)))\n",
    "    print('')"
   ]
  },
  {
   "cell_type": "markdown",
   "metadata": {},
   "source": [
    "1. 8 Fold elastic net model appears to have the highest R2 score. From interpretation against initial R2 score from statsmodel, there doesn't seem to be an improvement."
   ]
  },
  {
   "cell_type": "markdown",
   "metadata": {},
   "source": [
    "### Bonus Challenge #2:\n",
    "\n",
    "Given a combination of predictors, can you find another response variable that can be accurately predicted through the exploration of different predictors in this data set?\n",
    "\n",
    "_Tip: Check out pairplots, coefficients, and Pearson scores._"
   ]
  },
  {
   "cell_type": "code",
   "execution_count": null,
   "metadata": {},
   "outputs": [],
   "source": [
    "# Check out variable relations\n",
    "import seaborn as sns\n",
    "\n",
    "sns.pairplot(X);"
   ]
  },
  {
   "cell_type": "code",
   "execution_count": null,
   "metadata": {},
   "outputs": [],
   "source": [
    "# Check out Pearson scores"
   ]
  },
  {
   "cell_type": "markdown",
   "metadata": {},
   "source": [
    "## Demo: Patsy"
   ]
  },
  {
   "cell_type": "code",
   "execution_count": null,
   "metadata": {},
   "outputs": [],
   "source": [
    "import patsy\n",
    "\n",
    "# Add response to the core DataFrame\n",
    "y = df['MEDV']"
   ]
  },
  {
   "cell_type": "code",
   "execution_count": null,
   "metadata": {},
   "outputs": [],
   "source": [
    "from sklearn.model_selection import train_test_split #If you didn't import it earlier, do so now\n",
    "\n",
    "# Easily change your variable predictors without reslicing your DataFrame\n",
    "y, X = patsy.dmatrices(\"MEDV ~ AGE + RM\", data=df, return_type=\"dataframe\")\n",
    "\n",
    "X_train, X_test, y_train, y_test = train_test_split(X, y, train_size=.7)\n"
   ]
  },
  {
   "cell_type": "code",
   "execution_count": null,
   "metadata": {},
   "outputs": [],
   "source": [
    "from sklearn import metrics\n",
    "from sklearn.linear_model import LinearRegression\n",
    "\n",
    "# Rerun your model, iteratively changing your variables and train_size from the previous cell\n",
    "\n",
    "lm = LinearRegression()\n",
    "model = lm.fit(X_train, y_train)\n",
    "\n",
    "predictions = model.predict(X_test)\n",
    "print(\"R^2 Score: {}\".format(metrics.r2_score(y_test, predictions)))"
   ]
  },
  {
   "cell_type": "code",
   "execution_count": 8,
   "metadata": {},
   "outputs": [
    {
     "ename": "ModuleNotFoundError",
     "evalue": "No module named 'feature_selector'",
     "output_type": "error",
     "traceback": [
      "\u001b[0;31m---------------------------------------------------------------------------\u001b[0m",
      "\u001b[0;31mModuleNotFoundError\u001b[0m                       Traceback (most recent call last)",
      "\u001b[0;32m<ipython-input-8-ea3c9d50c1a5>\u001b[0m in \u001b[0;36m<module>\u001b[0;34m()\u001b[0m\n\u001b[0;32m----> 1\u001b[0;31m \u001b[0;32mfrom\u001b[0m \u001b[0mfeature_selector\u001b[0m \u001b[0;32mimport\u001b[0m \u001b[0mFeatureSelector\u001b[0m\u001b[0;34m\u001b[0m\u001b[0m\n\u001b[0m",
      "\u001b[0;31mModuleNotFoundError\u001b[0m: No module named 'feature_selector'"
     ]
    }
   ],
   "source": [
    "from feature_selector import FeatureSelector"
   ]
  },
  {
   "cell_type": "code",
   "execution_count": null,
   "metadata": {},
   "outputs": [],
   "source": []
  }
 ],
 "metadata": {
  "anaconda-cloud": {},
  "kernelspec": {
   "display_name": "Python 3",
   "language": "python",
   "name": "python3"
  },
  "language_info": {
   "codemirror_mode": {
    "name": "ipython",
    "version": 3
   },
   "file_extension": ".py",
   "mimetype": "text/x-python",
   "name": "python",
   "nbconvert_exporter": "python",
   "pygments_lexer": "ipython3",
   "version": "3.6.5"
  }
 },
 "nbformat": 4,
 "nbformat_minor": 2
}
